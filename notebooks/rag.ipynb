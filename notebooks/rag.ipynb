{
 "cells": [
  {
   "cell_type": "code",
   "execution_count": 1,
   "metadata": {},
   "outputs": [
    {
     "data": {
      "text/plain": [
       "True"
      ]
     },
     "execution_count": 1,
     "metadata": {},
     "output_type": "execute_result"
    }
   ],
   "source": [
    "from newsapi import NewsApiClient\n",
    "from dotenv import load_dotenv\n",
    "import os\n",
    "\n",
    "load_dotenv(override=True)"
   ]
  },
  {
   "cell_type": "code",
   "execution_count": 2,
   "metadata": {},
   "outputs": [],
   "source": [
    "news_api_key = os.getenv(\"NEWS_API_KEY\")\n",
    "if not news_api_key:\n",
    "    print(\"NEWS_API_KEY environment variable not set.\")"
   ]
  },
  {
   "cell_type": "code",
   "execution_count": 3,
   "metadata": {},
   "outputs": [],
   "source": [
    "newsapi = NewsApiClient(api_key=news_api_key)\n",
    "\n",
    "#top_headlines = newsapi.get_top_headlines(country='us', language='en', page_size=100)\n",
    "\n",
    "# len(top_headlines[\"articles\"])\n",
    "\n",
    "top_headlines = {'status': 'ok',\n",
    " 'totalResults': 10,\n",
    " 'articles': [{'source': {'id': 'axios', 'name': 'Axios'},\n",
    "   'author': 'Jason Lalljee',\n",
    "   'title': '\"Utterly unqualified\": Trump BLS pick gets panned by conservative economists - Axios',\n",
    "   'description': \"Conservative economists cited examples of Trump's BLS pick appearing to misunderstand data he would be responsible for.\",\n",
    "   'url': 'https://www.axios.com/2025/08/12/trump-bls-ej-antoni-economists',\n",
    "   'urlToImage': 'https://images.axios.com/lvY5i6KrfHxGhwktIdeP8ejh4u8=/233x275:5253x3099/1366x768/2025/08/12/1755026374090.jpeg',\n",
    "   'publishedAt': '2025-08-13T17:42:57Z',\n",
    "   'content': 'Driving the news: Trump announced Antoni as the next BLS commissioner a week after firing the previous head, Erika McEntarfer, which he did after jobs data showed cracks in the economy.\\r\\nThe presiden… [+3458 chars]'},\n",
    "  {'source': {'id': 'fortune', 'name': 'Fortune'},\n",
    "   'author': 'Sasha Rogelberg',\n",
    "   'title': \"Switzerland warns its companies that no, they can't dodge Trump's tariffs by routing goods through the tiny neighboring country of Liechtenstein - Fortune\",\n",
    "   'description': 'The two neighbors have had a century-long treaty allowing Liechtenstein to share Switzerland’s economic area and engage in free trade.',\n",
    "   'url': 'https://fortune.com/2025/08/13/switzerland-businesses-rerouting-goods-liechtenstein-dodge-tariff/',\n",
    "   'urlToImage': 'https://fortune.com/img-assets/wp-content/uploads/2025/08/GettyImages-2228085126-e1755102906349.jpg?resize=1200,600',\n",
    "   'publishedAt': '2025-08-13T16:57:00Z',\n",
    "   'content': 'The Swiss government is telling its domestic companies that they have not, in fact, found a clever way to skirt President Donald Trumps tariffs by routing goods through the tiny neighborhood country … [+4398 chars]'},\n",
    "  {'source': {'id': None, 'name': 'New York Post'},\n",
    "   'author': 'Ariel Zilber',\n",
    "   'title': 'US national debt soars past record $37 trillion — years sooner than expected - New York Post',\n",
    "   'description': 'Rapid run-up reflects emergency spending during the multi-year COVID-19 crisis, when the government borrowed heavily under Trump and Biden.',\n",
    "   'url': 'https://nypost.com/2025/08/13/business/us-national-debt-soars-past-37-trillion-years-sooner-than-expected/',\n",
    "   'urlToImage': 'https://nypost.com/wp-content/uploads/sites/2/2025/08/109538894.jpg?quality=75&strip=all&w=1024',\n",
    "   'publishedAt': '2025-08-13T13:33:00Z',\n",
    "   'content': 'The US national debt has climbed past $37 trillion — a record sum that shows how quickly the federal government’s borrowing has accelerated and how rising interest costs are rippling through the econ… [+6242 chars]'},\n",
    "  {'source': {'id': None, 'name': 'UPI.com'},\n",
    "   'author': 'Ian Stark',\n",
    "   'title': 'Trump tells Goldman Sachs to get new economist after tariff forecast - upi.com',\n",
    "   'description': 'President Donald Trump called for Goldman Sachs CEO David Solomon to replace its chief economist after a prediction that consumers would pay the brunt of the cost for tariffs.',\n",
    "   'url': 'https://www.upi.com',\n",
    "   'urlToImage': 'https://cdnph.upi.com/sv/ph/og/upi/6771755084805/2025/1/1b0e3ecc242b7740c69e048d5820c394/v1.5/Trump-tells-Goldman-Sachs-to-get-new-economist-after-tariff-forecast.jpg',\n",
    "   'publishedAt': '2025-08-13T12:27:08Z',\n",
    "   'content': 'Aug. 13 (UPI) -- President Donald Trump called for Goldman Sachs CEO David Solomon to replace its chief economist after a prediction that consumers would pay the brunt of the cost for tariffs.\\r\\nTrump… [+2052 chars]'},\n",
    "  {'source': {'id': 'politico', 'name': 'Politico'},\n",
    "   'author': 'Alex Nieves',\n",
    "   'title': \"Another one of California's Trump-proofing planks just broke - Politico\",\n",
    "   'description': \"The FTC is cancelling the trucking industry's agreement to abide by California's emissions rules.\",\n",
    "   'url': 'https://www.politico.com/news/2025/08/12/california-trump-truck-emission-rules-00506294',\n",
    "   'urlToImage': 'https://www.politico.com/dims4/default/resize/1200/quality/90/format/jpg?url=https%3A%2F%2Fstatic.politico.com%2F90%2F31%2F1f607bf54a3aa9396613b9d7c6a7%2Fvolvo-trucks-and-fedex-successfully-demonstrate-truck-platooning-on-nc-540-triangle-expressway-27667.jpg',\n",
    "   'publishedAt': '2025-08-13T01:24:27Z',\n",
    "   'content': 'The Commissions swift action will put the Clean Truck Partnership squarely in the rearview mirror and prevent repeats of CARBs troubling regulatory gambit, Taylor Hoogendoorn, the deputy director of … [+3996 chars]'},\n",
    "  {'source': {'id': 'the-wall-street-journal',\n",
    "    'name': 'The Wall Street Journal'},\n",
    "   'author': 'Angus Berwick, Patricia Kowsmann',\n",
    "   'title': 'The Recipe Behind the Trump Family’s Crypto Riches: PancakeSwap - The Wall Street Journal',\n",
    "   'description': 'The under-the-radar trading platform is quietly administered by Binance, the world’s largest crypto exchange, whose founder is seeking a pardon from President Trump',\n",
    "   'url': 'https://www.wsj.com/finance/currencies/trump-family-crypto-1e7ab14a',\n",
    "   'urlToImage': 'https://images.wsj.net/im-68211793/social',\n",
    "   'publishedAt': '2025-08-13T01:00:00Z',\n",
    "   'content': None},\n",
    "  {'source': {'id': None, 'name': 'Barchart.com'},\n",
    "   'author': 'Omor Ibne Ehsan',\n",
    "   'title': 'Trump Signs Order Allowing Americans to Add Crypto in Their 401Ks. Here Are 3 of the Top-Rated Coins to Buy Now. - Barchart.com',\n",
    "   'description': 'These cryptos could benefit significantly from President Donald Trump’s directive to allow Americans to add crypto in their 401ks.',\n",
    "   'url': 'https://www.barchart.com/story/news/34087203/trump-signs-order-allowing-americans-to-add-crypto-in-their-401ks-here-are-3-of-the-top-rated-coins-to-buy-now',\n",
    "   'urlToImage': 'https://media.barchart.com/contributors-admin/common-images/images/Crypto/Bitcoin%20and%20hundred%20dollar%20bills%20via%20Shutterstock.jpg',\n",
    "   'publishedAt': '2025-08-12T19:35:17Z',\n",
    "   'content': 'Stocks: 1520 minute delay (Cboe BZX is real-time), ET. Volume reflects consolidated markets. Futures and Forex: 10 or 15 minute delay, CT. Market Data powered by Barchart Solutions. Fundamental data … [+33 chars]'},\n",
    "  {'source': {'id': None, 'name': 'AL.com'},\n",
    "   'author': 'Howard Koplowitz | hkoplowitz@al.com',\n",
    "   'title': 'Trump trashes former cabinet official for getting him to appoint ‘this loser’ - AL.com',\n",
    "   'description': 'Trump said he is considering \"a major lawsuit ... because of the horrible, and grossly incompetent, job he has done.\"',\n",
    "   'url': 'https://www.al.com/politics/2025/08/trump-trashes-former-cabinet-official-for-getting-him-to-appoint-this-loser.html',\n",
    "   'urlToImage': 'https://www.al.com/resizer/v2/HIEWM6RH25FSBN6BKK475IXMRA.jpg?auth=0e00261e318a0a9931de8e3481d76527d9d0a0a7fa736fce6fbc3234cef9a2c2&width=1280&quality=90',\n",
    "   'publishedAt': '2025-08-12T15:18:00Z',\n",
    "   'content': 'President Donald Trump on Tuesday is blaming a cabinet official from his first term for getting him to make an appointment that haunts his second.\\r\\nIn a rant on his Truth Social account, Trump tore i… [+1703 chars]'}]}"
   ]
  },
  {
   "cell_type": "code",
   "execution_count": 4,
   "metadata": {},
   "outputs": [],
   "source": [
    "import chromadb\n",
    "from chromadb.utils import embedding_functions"
   ]
  },
  {
   "cell_type": "code",
   "execution_count": 5,
   "metadata": {},
   "outputs": [],
   "source": [
    "ef = embedding_functions.OpenAIEmbeddingFunction(\n",
    "    api_key=os.getenv(\"OPENAI_API_KEY\"),\n",
    "    model_name=\"text-embedding-3-large\"\n",
    ")"
   ]
  },
  {
   "cell_type": "code",
   "execution_count": 6,
   "metadata": {},
   "outputs": [],
   "source": [
    "chroma_client = chromadb.PersistentClient()\n",
    "\n",
    "collection = chroma_client.create_collection(name=\"headlines\", embedding_function=ef)"
   ]
  },
  {
   "cell_type": "code",
   "execution_count": 7,
   "metadata": {},
   "outputs": [],
   "source": [
    "articles = top_headlines[\"articles\"]\n",
    "\n",
    "for article in articles:\n",
    "    collection.add(\n",
    "        ids=[article[\"url\"]],\n",
    "        documents=[f\"{article[\"title\"]}\\n\\n{article[\"description\"]}\"]\n",
    "    )"
   ]
  },
  {
   "cell_type": "code",
   "execution_count": 8,
   "metadata": {},
   "outputs": [
    {
     "data": {
      "text/plain": [
       "{'ids': [['https://www.wsj.com/finance/currencies/trump-family-crypto-1e7ab14a',\n",
       "   'https://nypost.com/2025/08/13/business/us-national-debt-soars-past-37-trillion-years-sooner-than-expected/',\n",
       "   'https://www.politico.com/news/2025/08/12/california-trump-truck-emission-rules-00506294',\n",
       "   'https://www.upi.com',\n",
       "   'https://www.al.com/politics/2025/08/trump-trashes-former-cabinet-official-for-getting-him-to-appoint-this-loser.html']],\n",
       " 'embeddings': None,\n",
       " 'documents': [['The Recipe Behind the Trump Family’s Crypto Riches: PancakeSwap - The Wall Street Journal\\n\\nThe under-the-radar trading platform is quietly administered by Binance, the world’s largest crypto exchange, whose founder is seeking a pardon from President Trump',\n",
       "   'US national debt soars past record $37 trillion — years sooner than expected - New York Post\\n\\nRapid run-up reflects emergency spending during the multi-year COVID-19 crisis, when the government borrowed heavily under Trump and Biden.',\n",
       "   \"Another one of California's Trump-proofing planks just broke - Politico\\n\\nThe FTC is cancelling the trucking industry's agreement to abide by California's emissions rules.\",\n",
       "   'Trump tells Goldman Sachs to get new economist after tariff forecast - upi.com\\n\\nPresident Donald Trump called for Goldman Sachs CEO David Solomon to replace its chief economist after a prediction that consumers would pay the brunt of the cost for tariffs.',\n",
       "   'Trump trashes former cabinet official for getting him to appoint ‘this loser’ - AL.com\\n\\nTrump said he is considering \"a major lawsuit ... because of the horrible, and grossly incompetent, job he has done.\"']],\n",
       " 'uris': None,\n",
       " 'included': ['metadatas', 'documents', 'distances'],\n",
       " 'data': None,\n",
       " 'metadatas': [[None, None, None, None, None]],\n",
       " 'distances': [[1.6563891172409058,\n",
       "   1.7236828804016113,\n",
       "   1.7274888753890991,\n",
       "   1.7413616180419922,\n",
       "   1.76511549949646]]}"
      ]
     },
     "execution_count": 8,
     "metadata": {},
     "output_type": "execute_result"
    }
   ],
   "source": [
    "results = collection.query(\n",
    "    query_texts=[\"celebrity news\"],\n",
    "    n_results=5\n",
    ")\n",
    "\n",
    "results"
   ]
  },
  {
   "cell_type": "code",
   "execution_count": 9,
   "metadata": {},
   "outputs": [
    {
     "data": {
      "text/plain": [
       "[]"
      ]
     },
     "execution_count": 9,
     "metadata": {},
     "output_type": "execute_result"
    }
   ],
   "source": [
    "filtered_results = []\n",
    "for doc, dist in zip(results['documents'][0], results['distances'][0]):\n",
    "    if dist <= 1.5:\n",
    "        filtered_results.append(doc)\n",
    "\n",
    "filtered_results"
   ]
  }
 ],
 "metadata": {
  "kernelspec": {
   "display_name": "venv",
   "language": "python",
   "name": "python3"
  },
  "language_info": {
   "codemirror_mode": {
    "name": "ipython",
    "version": 3
   },
   "file_extension": ".py",
   "mimetype": "text/x-python",
   "name": "python",
   "nbconvert_exporter": "python",
   "pygments_lexer": "ipython3",
   "version": "3.12.2"
  }
 },
 "nbformat": 4,
 "nbformat_minor": 2
}
