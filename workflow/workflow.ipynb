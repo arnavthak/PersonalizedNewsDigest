{
 "cells": [
  {
   "cell_type": "markdown",
   "metadata": {},
   "source": [
    "# Personalized News Digest Workflow"
   ]
  },
  {
   "cell_type": "code",
   "execution_count": 1,
   "metadata": {},
   "outputs": [
    {
     "data": {
      "text/plain": [
       "True"
      ]
     },
     "execution_count": 1,
     "metadata": {},
     "output_type": "execute_result"
    }
   ],
   "source": [
    "from dotenv import load_dotenv\n",
    "import os\n",
    "from agents import Agent, Runner, trace, function_tool\n",
    "import asyncio\n",
    "from typing import List, Optional, Dict\n",
    "from IPython.display import display, Markdown\n",
    "from agents.run_context import RunContextWrapper\n",
    "from agents.mcp import MCPServerStdio\n",
    "import chromadb\n",
    "from chromadb.utils import embedding_functions\n",
    "from typing import List, Dict\n",
    "from pydantic import BaseModel, Field\n",
    "from agents.mcp import MCPServerStdio\n",
    "from openai.types.responses import ResponseTextDeltaEvent\n",
    "import sendgrid\n",
    "from sendgrid.helpers.mail import Mail, Email, To, Content\n",
    "import requests\n",
    "\n",
    "load_dotenv(override=True)"
   ]
  },
  {
   "cell_type": "markdown",
   "metadata": {},
   "source": [
    "## Stage 1"
   ]
  },
  {
   "cell_type": "code",
   "execution_count": 2,
   "metadata": {},
   "outputs": [],
   "source": [
    "def process_chroma_query_result(chroma_result: dict) -> List[Dict[str, str]]:\n",
    "    \"\"\"\n",
    "    Transforms the output of a ChromaDB collection.query() call into a\n",
    "    list of dictionaries, with each dictionary containing 'id' and 'text'.\n",
    "\n",
    "    Args:\n",
    "        chroma_result (dict): The dictionary returned by the collection.query() call.\n",
    "                              Expected to have 'ids' and 'documents' keys, each\n",
    "                              containing a nested list.\n",
    "\n",
    "    Returns:\n",
    "        list[dict]: A list of dictionaries, where each dictionary has\n",
    "                    the keys 'id' and 'text'.\n",
    "    \"\"\"\n",
    "    processed_list = []\n",
    "    ids = chroma_result.get('ids', [[]])[0]\n",
    "    documents = chroma_result.get('documents', [[]])[0]\n",
    "\n",
    "    if len(ids) != len(documents):\n",
    "        print(\"Warning: Mismatch between number of IDs and documents. Check the query result.\")\n",
    "        return []\n",
    "\n",
    "    for unique_id, text in zip(ids, documents):\n",
    "        processed_list.append({\"url\": unique_id, \"text\": text})\n",
    "\n",
    "    return processed_list"
   ]
  },
  {
   "cell_type": "code",
   "execution_count": 3,
   "metadata": {},
   "outputs": [],
   "source": [
    "@function_tool\n",
    "def get_headlines(query: str) -> List[Dict[str, str]]:\n",
    "    \"\"\"\n",
    "    Retrieve the top 5 most relevant headlines from the Chroma database\n",
    "    based on a semantic search using the provided query string.\n",
    "\n",
    "    Args:\n",
    "        query (str): The natural language query to search against stored headlines.\n",
    "\n",
    "    Returns:\n",
    "        List[Dict[str, str]]: A list of the top 5 matching headlines, where each\n",
    "                              headline is represented as {'id': str, 'text': str}.\n",
    "    \"\"\"\n",
    "\n",
    "    # Initialize embedding function\n",
    "    ef = embedding_functions.OpenAIEmbeddingFunction(\n",
    "        api_key=os.getenv(\"OPENAI_API_KEY\"),\n",
    "        model_name=\"text-embedding-3-large\"\n",
    "    )\n",
    "\n",
    "    # Connect to Chroma persistent client\n",
    "    chroma_client = chromadb.PersistentClient()\n",
    "\n",
    "    # Load the headlines collection with embeddings\n",
    "    headlines = chroma_client.get_collection(\n",
    "        name=\"headlines\",\n",
    "        embedding_function=ef\n",
    "    )\n",
    "\n",
    "    # Query the collection\n",
    "    results = headlines.query(\n",
    "        query_texts=[query],\n",
    "        n_results=5\n",
    "    )\n",
    "\n",
    "    # Process results into clean structured list\n",
    "    return process_chroma_query_result(results)"
   ]
  },
  {
   "cell_type": "code",
   "execution_count": 4,
   "metadata": {},
   "outputs": [],
   "source": [
    "instructions = \"\"\"\n",
    "You are a News Retrieval Agent designed to use Retrieval-Augmented Generation (RAG) to provide users with relevant news headlines based on their expressed preferences.\n",
    "\n",
    "Your Responsibilities:\n",
    "1. Understand the User's Preferences:\n",
    "   - The user will describe the kinds of news they are interested in.\n",
    "   - Extract key topics, categories, or entities from the user's request.\n",
    "\n",
    "2. Formulate Queries for Retrieval:\n",
    "   - For each distinct topic or entity, generate one or more concise natural-language queries that best represent the user's interest.\n",
    "   - Example: If the user says \"I want to hear about Google and artificial intelligence,\" generate queries like \"Google AI\", \"Google artificial intelligence\", \"AI research at Google\".\n",
    "\n",
    "3. Call the Retrieval Tool:\n",
    "   - Use the function tool get_headlines(query: str) to retrieve candidate news articles.\n",
    "   - Always request multiple queries if the user has multiple interests.\n",
    "   - Expect up to 5 headlines per query, structured as {\"id\": str, \"text\": str}.\n",
    "\n",
    "4. Filter and Rerank Results:\n",
    "   - Carefully judge each headline's relevance only in the context of the user's stated interests.\n",
    "   - Discard irrelevant or weakly related headlines.\n",
    "   - Optionally rerank or cluster results if several headlines overlap.\n",
    "\n",
    "5. Produce the Final Output:\n",
    "   - Return only the filtered set of headlines that are highly relevant to the user's query.\n",
    "   - Each headline should be listed clearly (e.g., as a bullet point).\n",
    "   - Do not fabricate headlines — only return those retrieved from the tool.\n",
    "   - If no relevant results are found, state that clearly.\n",
    "\n",
    "Constraints:\n",
    "- Always rely on get_headlines for retrieval. Do not generate news directly.\n",
    "- Filter rigorously to avoid irrelevant content.\n",
    "- Prioritize accuracy and user alignment over quantity of headlines.\n",
    "\n",
    "Example:\n",
    "User Prompt: \"I'd like to hear about space exploration and Elon Musk.\"\n",
    "\n",
    "Agent Steps:\n",
    "- Extract interests: \"space exploration\", \"Elon Musk\".\n",
    "- Generate queries: \"space exploration\", \"NASA space missions\", \"Elon Musk news\", \"SpaceX updates\".\n",
    "- Call get_headlines with each query.\n",
    "- Retrieve results and filter out irrelevant items.\n",
    "\n",
    "Final Output:\n",
    "- NASA Announces New Timeline for Artemis Moon Mission\n",
    "- SpaceX Successfully Launches Starship Prototype\n",
    "- Elon Musk Teases Mars Colonization Plans\n",
    "\"\"\""
   ]
  },
  {
   "cell_type": "code",
   "execution_count": 5,
   "metadata": {},
   "outputs": [],
   "source": [
    "class Headline(BaseModel):\n",
    "    \"\"\"\n",
    "    A single unique news headline.\n",
    "    Each headline must be distinct across all categories.\n",
    "    Do not repeat the same article URL or text in multiple places.\n",
    "    \"\"\"\n",
    "    url: str = Field(\n",
    "        description=\"The source URL of the news article. Must be unique across all headlines.\"\n",
    "    )\n",
    "    text: str = Field(\n",
    "        description=\"The headline text of the news article. Must be unique across all headlines.\"\n",
    "    )\n",
    "\n",
    "\n",
    "class HeadlinesCategory(BaseModel):\n",
    "    \"\"\"\n",
    "    A group of headlines that belong to a single topical category.\n",
    "    Categories are only created when the user clearly expresses two or more distinct interests.\n",
    "    Closely related interests (e.g., 'AI' and 'LLMs') should be merged into one category.\n",
    "    Different interests (e.g., 'AI' vs. 'Trump tariffs') should be separated into different categories.\n",
    "    \"\"\"\n",
    "    category: str = Field(\n",
    "        description=\"The name of the category representing one distinct area of user interest.\"\n",
    "    )\n",
    "    headlines: List[Headline] = Field(\n",
    "        description=\"A list of unique headlines relevant to this category. No duplicates within this list or across categories.\"\n",
    "    )\n",
    "\n",
    "\n",
    "class HeadlinesOutput(BaseModel):\n",
    "    \"\"\"\n",
    "    The final structured output of relevant news headlines grouped by category.\n",
    "    \n",
    "    Rules:\n",
    "    - Each headline must be unique across all categories (no duplicate URLs or texts).\n",
    "    - Categories should only be created if the user has specified two or more distinct interests.\n",
    "      - Merge closely related interests into one category.\n",
    "      - Separate unrelated interests into different categories.\n",
    "    - If the user has only one interest, return a single category with all unique headlines.\n",
    "    \"\"\"\n",
    "    headlines: List[HeadlinesCategory] = Field(\n",
    "        description=\"A list of categories containing unique, relevant news headlines. No duplicates across categories.\"\n",
    "    )"
   ]
  },
  {
   "cell_type": "code",
   "execution_count": 6,
   "metadata": {},
   "outputs": [],
   "source": [
    "rag_agent = Agent(\n",
    "    name=\"RAG Agent\",\n",
    "    tools=[get_headlines],\n",
    "    instructions=instructions,\n",
    "    model=\"gpt-4.1\",\n",
    "    output_type=HeadlinesOutput\n",
    ")"
   ]
  },
  {
   "cell_type": "code",
   "execution_count": 7,
   "metadata": {},
   "outputs": [],
   "source": [
    "prompt = \"Show me news on AI and on what Google is up to. Also include any news about Trump and the economy. Finally, include any news related to health and wellness.\""
   ]
  },
  {
   "cell_type": "code",
   "execution_count": 8,
   "metadata": {},
   "outputs": [
    {
     "name": "stdout",
     "output_type": "stream",
     "text": [
      "1. Duolingo CEO says controversial AI memo was misunderstood - TechCrunchWhile Duolingo CEO Luis von Ahn faced backlash after declaring that Duolingo would become an “AI-first company,” he suggested in a new interview the real issue was that he “did not give enough context.”: https://techcrunch.com/2025/08/17/duolingo-ceo-says-controversial-ai-memo-was-misunderstood/\n",
      "2. This CEO laid off nearly 80% of his staff because they refused to adopt AI fast enough. 2 years later, he says he'd do it again - Fortune\"It was extremely difficult,\" IgniteTech CEO Eric Vaughan tells Fortune. \"But changing minds was harder than adding skills.\": https://fortune.com/2025/08/17/ceo-laid-off-80-percent-workforce-ai-sabotage/\n",
      "1. Duolingo CEO says controversial AI memo was misunderstood - TechCrunchWhile Duolingo CEO Luis von Ahn faced backlash after declaring that Duolingo would become an “AI-first company,” he suggested in a new interview the real issue was that he “did not give enough context.”: https://techcrunch.com/2025/08/17/duolingo-ceo-says-controversial-ai-memo-was-misunderstood/\n",
      "1. After meeting Putin, Trump changes his position on the need for a ceasefire - NPRWhen President Trump was flying to Alaska to meet Vladimir Putin, he said the goal was a ceasefire. But after they talked, Trump aligned himself with Putin and downplayed the need for a truce.: https://www.npr.org/2025/08/17/g-s1-83183/putin-trump-ceasefire\n",
      "2. GOP-led states sending National Guard troops to D.C. - AxiosThe deployment marks a major escalation in President Trump's takeover of the city.: https://www.axios.com/2025/08/17/national-guard-dc-republican-governors\n",
      "3. Inflation alarm bells went off again and prices are rising. Just how bad is it going to get? - MarketWatchConsumer and wholesale prices ticked up in July: https://www.marketwatch.com/story/inflation-alarm-bells-went-off-again-and-prices-are-rising-just-how-bad-is-it-going-to-get-6659c921\n",
      "1. New blood pressure guidelines by American Heart Association: Key takeaways - The Times of IndiaAHA/ACC release new blood pressure guideline: https://timesofindia.indiatimes.com/life-style/health-fitness/web-stories/new-blood-pressure-guidelines-by-american-heart-association-key-takeaways/photostory/123330234.cms\n",
      "2. Barbara Palvin Speaks Out on Secret Health Battle for the First Time - TMZBarbara Palvin is getting real with her fans about a health struggle she's kept private -- revealing she recently underwent surgery for endometriosis after years of painful, debilitating periods.: https://www.tmz.com/2025/08/17/barbara-palvin-reveals-health-battle/\n",
      "3. Las Vegas' growing mosquito problem is 'a ticking time bomb' - NBC NewsIf at one time it was thought mosquitoes couldn’t survive in desert climates, this city is a case study in how wrong that is.: https://www.nbcnews.com/science/science-news/las-vegas-mosquito-problem-explained-rcna225002\n"
     ]
    }
   ],
   "source": [
    "with trace(\"News Semantic Search\"):\n",
    "    result = await Runner.run(rag_agent, input=prompt, max_turns=20)\n",
    "    structured = result.final_output\n",
    "    for category in structured.headlines:\n",
    "        i = 1\n",
    "        for headline in category.headlines:\n",
    "            print(f\"{i}. {headline.text.replace(\"\\n\", \"\")}: {headline.url}\")\n",
    "            i += 1"
   ]
  },
  {
   "cell_type": "markdown",
   "metadata": {},
   "source": [
    "## Stage 2"
   ]
  },
  {
   "cell_type": "code",
   "execution_count": 9,
   "metadata": {},
   "outputs": [],
   "source": [
    "params = {\"command\": \"uvx\", \"args\": [\"mcp-server-fetch\"]}"
   ]
  },
  {
   "cell_type": "code",
   "execution_count": 10,
   "metadata": {},
   "outputs": [],
   "source": [
    "instructions = \"\"\"\n",
    "You are a News Article Extraction Agent. Your sole tool is the fetch MCP server from Anthropic, which you will use to retrieve content from web pages. Your task is to take a URL provided by the user and return the complete text of the news article located at that URL.\n",
    "\n",
    "Follow these rules:\n",
    "\n",
    "1. **Fetch the Page in Full**:\n",
    "   - Use the fetch tool repeatedly if necessary to ensure you obtain the entire content of the webpage.\n",
    "   - Handle cases where content may be paginated, loaded dynamically, or split across multiple fetch calls.\n",
    "\n",
    "2. **Clean the Output**:\n",
    "   - Remove all HTML tags, scripts, styles, ads, and navigation elements.\n",
    "   - Remove any extra whitespace or formatting that is not part of the main article text.\n",
    "   - Preserve the natural paragraphs and sentence structure of the article.\n",
    "\n",
    "3. **Combine All Content**:\n",
    "   - Merge all parts retrieved from multiple fetch calls into a single, coherent string representing the article.\n",
    "   - Ensure that the final output reads as a smooth, continuous article without broken sentences or sections.\n",
    "\n",
    "4. **Return the Result**:\n",
    "   - Provide only the cleaned, combined article text as the output to the user.\n",
    "   - Do not include any metadata, fetch URLs, or tool output details.\n",
    "\n",
    "5. **Do Not Speculate**:\n",
    "   - If the article cannot be fully retrieved or is missing, clearly indicate that you could not access the full content instead of guessing or summarizing.\n",
    "\n",
    "Always prioritize accuracy and completeness of the extracted article text.\n",
    "\"\"\"\n"
   ]
  },
  {
   "cell_type": "code",
   "execution_count": 11,
   "metadata": {},
   "outputs": [],
   "source": [
    "async with MCPServerStdio(params=params) as fetch_server:\n",
    "    await fetch_server.connect()\n",
    "\n",
    "    news_agent = Agent(\n",
    "        name=\"Fetch Agent\",\n",
    "        mcp_servers=[fetch_server],\n",
    "        instructions=instructions,\n",
    "        model=\"gpt-4.1\"\n",
    "    )\n",
    "\n",
    "    articles = []\n",
    "\n",
    "    for category in structured.headlines:\n",
    "        for headline in category.headlines:\n",
    "            with trace(f\"Fetch news article {headline.url} - {category}\"):\n",
    "                result = await Runner.run(news_agent, input=headline.url, max_turns=20)\n",
    "                articles.append(f\"{headline.url}:\" + \"\\n\" + result.final_output)"
   ]
  },
  {
   "cell_type": "code",
   "execution_count": 12,
   "metadata": {},
   "outputs": [
    {
     "data": {
      "text/plain": [
       "['https://techcrunch.com/2025/08/17/duolingo-ceo-says-controversial-ai-memo-was-misunderstood/:\\nPosted: 9:34 AM PDT · August 17, 2025\\n\\nWhile Duolingo CEO Luis von Ahn was loudly criticized this year after declaring that Duolingo would become an “AI-first company,” he suggested in a new interview the real issue was that he “did not give enough context.”\\n\\n“Internally, this was not controversial,” von Ahn told The New York Times. “Externally, as a publicly traded company some people assume that it’s just for profit. Or that we’re trying to lay off humans. And that was not the intent at all.”\\n\\nOn the contrary, von Ahn said the company has “never laid off any full-time employees” and has no intention of doing so. And while he didn’t deny that Duolingo had cut its contractor workforce, he suggested that “from the beginning … our contractor workforce has gone up and down depending on needs.”\\n\\nDespite the criticism (which does not seem to have made a big impact on Duolingo’s bottom line), von Ahn still sounds extremely bullish about AI’s potential, with Duolingo team members taking every Friday morning to experiment with the technology.\\n\\n“It’s a bad acronym, f-r-A-I-days,” he said. “I don’t know how to pronounce it.”',\n",
       " 'https://fortune.com/2025/08/17/ceo-laid-off-80-percent-workforce-ai-sabotage/:\\nEric Vaughan, CEO of enterprise-software powerhouse IgniteTech, is unwavering as he reflects on the most radical decision of his decades-long career. In early 2023, convinced that generative AI was an “existential” transformation, Vaughan looked at his team and saw a workforce not fully on board. His ultimate response: He ripped the company down to the studs, replacing nearly 80% of staff within a year, according to headcount figures reviewed by Fortune.\\n\\nOver the course of 2023 and into the first quarter of 2024, Vaughan said IgniteTech replaced hundreds of employees, declining to disclose a specific number. “That was not our goal,” he told Fortune. “It was extremely difficult…But changing minds was harder than adding skills.” It was, by any measure, a brutal reckoning—but Vaughan insists it was necessary, and says he’d do it again.\\n\\nFor Vaughan, the writing on the wall was clear and dramatic. “In early 2023, we saw the light,” he told Fortune in an interview, adding that he believed every tech company was facing a crucial inflection point around adoption of artificial intelligence. “Now I’ve certainly morphed to believe that this is every company, and I mean that literally every company, is facing an existential threat by this transformation.”\\n\\nWhere others saw promise, Vaughan saw urgency—believing that failing to get ahead on AI could doom even the most robust business. He called an all-hands meeting with his global remote team. Gone were the comfortable routines and quarterly goals. Instead, his message was direct: Everything would now revolve around AI. “We’re going to give a gift to each of you. And that gift is tremendous investment of time, tools, education, projects…to give you a new skill,” he explained. The company began reimbursing for AI tools and prompt-engineering classes, and even brought in outside experts to evangelize.\\n\\n“Every single Monday was called ‘AI Monday,’” Vaughan said, with his mandate for staff that they could work only on AI. “You couldn’t have customer calls; you couldn’t work on budgets; you had to only work on AI projects.” He said this happened across the board, not just for tech workers, but also for sales, marketing, and everybody at IgniteTech. “That culture needed to be built. That was the key.”\\n\\nThis was a major investment, he added: 20% of payroll was dedicated to a mass-learning initiative, and it failed because of mass resistance, even sabotage. Belief, Vaughan discovered, is a hard thing to manufacture. “In those early days, we did get resistance, we got flat-out, ‘Yeah, I’m not going to do this’ resistance. And so we said goodbye to those people.”\\n\\nThe pushback: Why didn’t they get on board?\\n\\nVaughan was surprised to find it was often the technical staff, not marketing or sales, who dug in their heels. They were the “most resistant,” he said, voicing various concerns about what the AI couldn’t do, rather than focusing on what it could. The marketing and salespeople were enthused by the possibilities of working with these new tools, he added.\\n\\nThis friction is borne out by broader research. According to the 2025 enterprise AI adoption report by Writer, an agentic AI platform for enterprises, one in three workers say they’ve “actively sabotaged” their company’s AI rollout—a number that jumps to 41% of millennial and Gen Z employees. This can take the form of refusing to use AI tools, intentionally generating low-quality outputs, or avoiding training altogether. Many act out because of fears that AI will replace their jobs, while others are frustrated by lackluster AI tools or unclear strategy from leadership.\\n\\nWriter’s chief strategy officer Kevin Chung told Fortune the “big eye-opening thing” from this survey was the human element of AI resistance. “This sabotage isn’t because they’re afraid of the technology…It’s more like there’s so much pressure to get it right, and then when you’re handed something that doesn’t work, you get frustrated.” He added that Writer’s research shows that workers often don’t trust where their organizations are headed. “When you’re handed something that isn’t quite what you want, it’s very frustrating, so the sabotage kicks in, because then people are like, ‘Okay, I’m going to run my own thing. I’m going to go figure it out myself.’” You definitely don’t want this kind of “shadow IT” in an organization, he added.\\n\\nVaughan says he didn’t want to force anyone. “You can’t compel people to change, especially if they don’t believe.” He added that belief was really the thing he needed to recruit for. Company leadership ultimately realized they’d have to launch a massive recruiting effort for what became known as “AI innovation specialists.” This applied across the board, to sales, finance, marketing, everywhere. Vaughan said this time was “really difficult” as things inside the company were “upside down…We didn’t really quite know where we were or who we were yet.”\\n\\nA couple of key hires helped, starting with the person who became IgniteTech’s chief AI officer, Thibault Bridel-Bertomeu. That led to a full reorganization of the company that Vaughan called “somewhat unusual.” Essentially, every division now reports into the AI organization, regardless of domain.\\n\\nThis centralization, Vaughan says, prevented duplication of efforts and maximized knowledge sharing—a common struggle in AI adoption, where Writer’s survey shows 71% of the C-suite at other companies say AI applications are being created in silos and nearly half report their employees have been left to “figure generative AI out on their own.”\\n\\nNo pain, no gain?\\n\\nIn exchange for this difficult transformation, IgniteTech reaped extraordinary results. By the end of 2024, the company had launched two patent-pending AI solutions, including a platform for AI-based email automation (Eloquens AI), with a radically rebuilt team.\\n\\nFinancially, IgniteTech remained strong. Vaughan disclosed that the company, which he said is in the nine-figure revenue range, finished 2024 at “near 75% Ebitda”—all while completing a major acquisition, Khoros. “You multiply people…give people the ability to multiply themselves and do things at a pace,” he said, touting the company’s ability to build new customer-ready products in as little as four days, an unthinkable timeline in the old regime.\\n\\nWhat does Vaughan’s story say for others? On one level, it’s a case study in the pain and payoff of radical change management. But his ruthless approach arguably addresses many challenges identified in the Writer survey: lack of strategy and investment, misalignment between IT and business, and the failure to engage champions who can unlock AI’s benefits.\\n\\nThe ‘boy who cried wolf’ problem\\n\\nTo be sure, IgniteTech is far from alone in wrestling with these challenges. Joshua Wöhle is the CEO of Mindstone, a firm similar to Writer that provides AI upskilling services to workforces, training hundreds of employees monthly at companies including Lufthansa, Hyatt, and NBA teams. He recently discussed the two approaches described by Vaughan—upskilling and mass replacement—in an appearance on BBC Business Today.\\n\\nWöhle contrasted the recent examples of Ikea and Klarna, arguing the former’s example shows why it’s better to “reskill” existing employees. Klarna, a Swedish buy-now, pay-later firm, drew considerable publicity for a decision to reduce members of its customer support staff in a pivot to AI, only to rehire for the same roles. “We’re near the point where [AI is] more intelligent than most people doing knowledge work. But that’s precisely why augmentation beats automation,” Wöhle wrote on LinkedIn.\\n\\nA representative for Klarna told Fortune the company did not lay off employees but has instead adopted several approaches to its customer service, which is managed by outsourced customer service providers who are paid according to the volume of work required. The launch of an AI customer service assistant reduced the workload by the equivalent of 700 full-time agents—from roughly 3,000 to 2,300—and the third-party providers redeployed those 700 workers to other clients, according to Klarna. Now that the AI customer service agent is “handling more complex queries than when we launched,” Klarna says, that number has fallen to 2,200. Klarna says its contractor has rehired just two people in a pilot program designed to combine highly trained human support staff with AI to deliver outstanding customer service.\\n\\nIn an interview with Fortune, Wöhle said one client of his has been very blunt with his workers, ordering them to dedicate all Fridays to AI retraining, and if they didn’t report back on any of their work, they were invited to leave the company. He said it can be “kinder” to dismiss workers who are resistant to AI: “The pace of change is so fast that it’s the kinder thing to force people through it.” He added that he used to think that if he got all workers to really love learning, then that could help Mindstone make a real difference, but he discovered after training literally thousands of people that “most people hate learning. They’d avoid it if they can.”\\n\\nWöhle attributed much of the AI resistance in the workforce to a “boy who cried wolf” problem from the tech sector, citing NFTs and blockchain as technologies that were billed as revolutionary but “didn’t have the real effect” that tech leaders promised. “You can’t really blame them” for resisting, he said. Most people “get stuck because they think from their work flow first,” he added, and they conclude AI is overhyped because they want AI to fit into their old way of working. “It takes a lot more thinking and a lot more kind of prodding for you to change the way that you work,” but once you do, you see dramatic increases. A human can’t possibly keep five call transcripts in their head while you’re trying to write a proposal to a client, he offers, but AI can.\\n\\nIkea echoed Wöhle when reached for comment, saying that its “people-first AI approach focuses on augmentation, not automation.” A spokesperson said Ikea is using AI to automate tasks, not jobs, freeing up time for value-added, human-centric work.\\n\\nThe Writer report notes that companies with formal AI strategies are far more likely to succeed, and those who heavily invest in AI outperform their peers by a large margin. But as Vaughan’s experience shows, investment without belief and buy-in can be wasted energy. “The culture needed to be built. Ultimately, we ended up having to go out and recruit and hire people that were already of the same mind. Changing minds was harder than adding skills.”\\n\\nFor Vaughan, there’s no ambiguity. Would he do it again? He doesn’t hesitate: He’d rather endure months of pain and build a new, AI-driven foundation from scratch than let an organization drift into irrelevance. “This is not a tech change. It is a cultural change, and it is a business change.” He said he doesn’t recommend that others follow his lead and swap out 80% of their staff. “I do not recommend that at all. That was not our goal. It was extremely difficult.” But at the end of the day, he added, everybody’s got to be in the same boat, rowing in the same direction. Otherwise, “we don’t get where we’re going.”',\n",
       " 'https://techcrunch.com/2025/08/17/duolingo-ceo-says-controversial-ai-memo-was-misunderstood/:\\nWhile Duolingo CEO Luis von Ahn was loudly criticized this year after declaring that Duolingo would become an “AI-first company,” he suggested in a new interview the real issue was that he “did not give enough context.”\\n\\n“Internally, this was not controversial,” von Ahn told The New York Times. “Externally, as a publicly traded company some people assume that it’s just for profit. Or that we’re trying to lay off humans. And that was not the intent at all.”\\n\\nOn the contrary, von Ahn said the company has “never laid off any full-time employees” and has no intention of doing so. And while he didn’t deny that Duolingo had cut its contractor workforce, he suggested that “from the beginning … our contractor workforce has gone up and down depending on needs.”\\n\\nDespite the criticism (which does not seem to have made a big impact on Duolingo’s bottom line), von Ahn still sounds extremely bullish about AI’s potential, with Duolingo team members taking every Friday morning to experiment with the technology.\\n\\n“It’s a bad acronym, f-r-A-I-days,” he said. “I don’t know how to pronounce it.”',\n",
       " 'https://www.npr.org/2025/08/17/g-s1-83183/putin-trump-ceasefire:\\nPresident Trump greets Russian President Vladimir Putin at Joint Base Elmendorf-Richardson on Friday in Anchorage, Alaska. On his flight to Alaska, Trump said his top priority was a ceasefire in the Russia-Ukraine war. After meeting with Putin, Trump said a ceasefire was not essential, and it was better to seek a permanent peace agreement.\\n\\nKYIV – When President Trump was flying to Alaska for his summit with Russian leader Vladimir Putin, Trump said the main goal was a ceasefire. He said he\\'d be disappointed if it didn\\'t happen, and warned of \"severe consequences.\"\\n\\nBut shortly after meeting Putin, Trump reversed himself and said a ceasefire in the Russia-Ukraine war wasn\\'t critical. He wrote on social media that \"it was determined by all that the best way to end the horrific war between Russia and Ukraine is to go directly to a Peace Agreement, which would end the war, and not a mere Ceasefire Agreement, which often times do not hold up.\"\\n\\nTrump\\'s new position aligns him with Putin, and puts him at odds with Ukrainian President Volodymyr Zelenskyy -- who\\'s headed to the White House on Monday.\\n\\nZelenskyy\\'s last visit to the White House, on Feb. 28, descended into a heated dispute between the Ukrainian leader and Trump with the cameras rolling. Trump told Zelenskyy that, \"You don\\'t have the cards right now,\" and that the Ukrainian leader would have to make concessions with Russia to prevent the total destruction of his country.\\n\\nSince that diplomatic disaster, Zelenskyy and Ukraine have worked hard to rebuild the relationship with Trump, and it appeared to be working. The Ukrainians consistently praise Trump\\'s peace efforts. When Trump pressed for a deal that would give the U.S. access to valuable Ukrainian minerals, the Ukrainians agreed.\\n\\nWhen Trump began pushing for a ceasefire several months ago, the Ukrainians endorsed the move. Putin did not, and Trump became openly critical and grew increasingly frustrated, to the point of threatening additional sanctions.\\n\\nBut Putin and Trump appeared to be on excellent terms at Friday\\'s summit. While they didn\\'t announce any breakthroughs, Trump now looks to be on Putin\\'s side when it comes to the critical question of whether to pursue an immediate ceasefire versus a comprehensive peace agreement, which would take lengthy negotiations.\\n\\nSecretary of State Marco Rubio was asked about the president\\'s position on NBC\\'s Meet the Press with Kristen Welker.\\n\\n\"We\\'ve been asking for ceasefire for a long period of time,\" Rubio said. \"The only way to have a ceasefire is for both sides to agree to stop firing at one another, and the Russians just haven\\'t agreed to that.\"\\n\\nZelenskyy will have additional support during Monday\\'s visit. Several European leaders will be traveling with him to Washington to help make the case for further Western support for Ukraine.\\n\\nZelenskyy met Sunday in Brussels with European Commission President Ursula von der Leyen, one of those accompanying him.\\n\\n\"We agreed on the necessity of a ceasefire for subsequent diplomatic steps, effective security guarantees for Ukraine, and continued sanctions pressure on Russia,\" Zelenskyy posted on X.\\n\\nWhy Ukraine favors an immediate ceasefire\\n\\nUkraine wants a ceasefire for several reasons. First, it would be the quickest and most realistic way to stop the fighting in the short-term.\\n\\nUkraine has had no relief from Russian attacks since the full-scale invasion in February 2022, and any respite would be welcome. Russian forces continue to pound Ukraine with offensive operations on the ground in eastern Ukraine, and with nightly drone and missile strikes across the country.\\n\\nUkraine says the two sides need a ceasefire first, and can then sit down and negotiate the much more complicated terms of a permanent peace agreement.\\n\\n\"Our vision is a ceasefire first, and then everything else,\" Serhiy Leshchenko, an advisor to Zelenskyy, said on Ukrainian television. \"If we negotiate before the ceasefire, it creates a big risk for Ukraine. If there is a ceasefire, it opens up space for diplomats.\"\\n\\nUkraine also fears that without a ceasefire, Putin will keep buying time and dragging out the war. According to Ukrainian leaders, Putin believes time is on his side and he intends to keep fighting until he wins what he wants on the battlefield, or gets concessions from Ukraine.\\n\\nA ceasefire, Ukrainians say, would force Putin to negotiate.\\n\\nRussia\\'s approach to negotiations\\n\\nAt the Alaska summit, Putin again raised his favorite talking point — that the \"root causes\" of the conflict need to be addressed for a lasting peace. This includes an expansive list of demands that Russia has not been able to achieve on the battlefield.\\n\\nRussia now controls close to 20 percent of Ukrainian territory, yet is calling on Ukraine to give up additional land it still holds in the eastern part of the country, in the Donbas region. Russia wants guarantees that Ukraine will never be allowed to join NATO. Russia also wants an agreement that would greatly restrict the future size of Ukraine\\'s military.\\n\\nUkraine rejects all these demands and says negotiations on a comprehensive peace deal would go nowhere, while the fighting would grind on.\\n\\nFrom Russia\\'s perspective, agreeing to a ceasefire could cost the Russian military its momentum in the fighting, where Russia has been making incremental gains the past two years, though at an extremely high cost in casualties. A truce would reduce Russia\\'s current leverage and ease the pressure on Ukraine.\\n\\n\"Everything is going to be about what the Ukrainians can live with.\"\\n\\nIn the wake of the Alaska summit, the diplomatic debate is now focused on whether to work for a near-term ceasefire or a permanent peace agreement. It will be on full display when Trump and Zelenskyy meet Monday at the White House.',\n",
       " 'https://www.axios.com/2025/08/17/national-guard-dc-republican-governors:\\nI could not access the full content of the article at the provided URL. The webpage is restricted and could not be retrieved.',\n",
       " 'https://www.marketwatch.com/story/inflation-alarm-bells-went-off-again-and-prices-are-rising-just-how-bad-is-it-going-to-get-6659c921:\\nI could not access the full content of the article. The page is restricted, and I was unable to retrieve the text. If you have another source or a different article, please provide the link and I will try again.',\n",
       " 'https://timesofindia.indiatimes.com/life-style/health-fitness/web-stories/new-blood-pressure-guidelines-by-american-heart-association-key-takeaways/photostory/123330234.cms:\\nAug 16, 2025\\n\\nAHA/ACC release new blood pressure guideline\\n\\nAmerican Heart Association and The American College of Cardiology release new guidelines for heart health and blood pressure. Here are a few takeaways from the new guideline young men and women must know.\\n\\nKnow the risks\\n\\nHigh blood pressure is the leading risk factor for stroke and a number of heart conditions such as coronary artery disease, heart failure and atrial fibrillation (AFib), AHA says.\\n\\nKnow when is emergency\\n\\nIf systolic exceeds 180 or diastolic exceeds 120, it may be life-threatening. Call 911 immediately if you experience chest pain, shortness of breath, back pain, numbness, weakness, vision changes, or difficulty speaking—urgent care is critical in such cases.\\n\\nRegular check up\\n\\nEveryone should have their blood pressure checked regularly. Routine checks are important at every stage of life to catch potential issues early and help prevent long-term health complications like hypertension and heart disease.\\n\\nEat a healthy diet\\n\\nAdults should limit sodium to 2,300 mg daily, ideally 1,500 mg, following a heart-healthy plan like DASH with fruits, vegetables, whole grains, lean proteins, and healthy oils. Reduce alcohol—less or none—to help lower or prevent high blood pressure.\\n\\nWeight management\\n\\nIf you’re overweight or obese, dropping just 5% of your body weight can make a real difference in lowering or even preventing high blood pressure. Losing 5% might seem small, but it can have a big impact on improving your blood pressure and overall heart health.\\n\\nPhysical activity and diet go hand in hand\\n\\nTo help manage blood pressure, eat smart with a DASH-style eating pattern, stay active your way, reduce or eliminate alcohol, and try stress-reducing activities, including meditation, breathing control and/or yoga, the guidelines say.',\n",
       " 'https://www.tmz.com/2025/08/17/barbara-palvin-reveals-health-battle/:\\nBarbara Palvin is getting real with her fans about a health struggle she\\'s kept private -- revealing she recently underwent surgery for endometriosis after years of painful, debilitating periods.\\n\\nThe supermodel and wife of Dylan Sprouse took to Instagram Sunday with a candid update, saying she long believed the extreme fatigue, severe cramps, heavy bleeding, and even nights spent on the bathroom floor were just part of her cycle. But after being encouraged to see a specialist, doctors discovered she has endometriosis.\\n\\nBarbara says she had surgery three months ago and, for the first time, experienced a \"normal\" period. She called it a life changing difference and urged followers who suspect something similar to seek answers, stressing early diagnosis and treatment can prevent long term complications.\\n\\nThe Hungarian beauty also explained her recent three month hiatus, saying she needed time to rest and fully heal. Now, she\\'s ready to get back to work -- healthier, stronger, and more mindful of her body than ever.\\n\\nFans flooded her comments with support, praising her honesty for shedding light on a condition that affects millions of women worldwide.',\n",
       " \"https://www.nbcnews.com/science/science-news/las-vegas-mosquito-problem-explained-rcna225002:\\nLAS VEGAS — If at one time it was thought mosquitoes couldn’t survive in desert climates, this city is a case study in how wrong that is.\\n\\nMosquitoes typically prefer more tropical, humid conditions, but these biting machines have exploded in number throughout the Las Vegas Valley in recent years because of a host of changes.\\n\\nA mix of urban development, climate change, insecticide resistance and genetic adaptations are creating a more hospitable environment for the insects in southern Nevada.\\n\\nLas Vegas is hardly alone in its battle against the pesky insects. Warmer temperatures and shifting weather patterns are expanding the geographic range in which mosquitoes live and breed. In many ways, what’s happening here is playing out across the desert Southwest and beyond.\\n\\nThe mosquitoes have brought with them not only the nuisance of bug bites, but also the major threat of mosquito-borne diseases such as dengue fever and West Nile virus to Las Vegas and the rest of Clark County.\\n\\nIt's also caught people off guard.\\n\\n“People aren’t wrong that mosquitoes shouldn’t really thrive in desert conditions, but it’s clear that the particular set of species that we do have in Clark County has adapted to the local ecology,” said Louisa Messenger, an assistant professor in the department of environmental and global health at the University of Nevada, Las Vegas.\\n\\n'A ticking time bomb'\\n\\nThe species that have taken hold in Clark County include Culex mosquitoes, which can carry West Nile virus, and Aedes aegypti mosquitoes, the primary spreaders of dengue. What’s more, Messenger and her colleagues at UNLV have found that mosquitoes in Las Vegas are becoming resistant to insecticides, a major public health risk in a city built on tourism.\\n\\n“It is a little bit of a ticking time bomb,” Messenger said.\\n\\nShe has for some time been concerned about how vulnerable Las Vegas is to mosquito-borne diseases. In particular, dengue has been surging in North America and South America, with more than 13 million cases recorded across the continents in 2024, according to the Centers for Disease Control and Prevention.\\n\\n“In Vegas, we have more than 48 million visitors coming through our doors every year from all over the planet,” Messenger said. “It just takes a couple of mosquito bites to start local transmission.”\\n\\nLast year, there were 26 reported cases of West Nile virus in humans in Las Vegas, according to the Southern Nevada Health District, trailing the city’s largest outbreak of 43 cases in 2019. Yet, in 2024, scientists still found a record number of mosquitoes that tested positive for the virus in and around the city, which suggests the risk of exposure was very concerning.\\n\\nThis year, the public health department hasn’t identified any human cases so far, even as mosquitoes have tested positive for the virus in certain ZIP codes. Messenger said it’s not well understood what specific factors fuel outbreaks in some years and not in others.\\n\\n“We see these overlapping factors but they are quite difficult to tease it apart,” she said. “All we can say for certain is that we have these bumper years and these zero years, and they are hard to predict.”\\n\\nThe Southern Nevada Health District has been conducting mosquito surveillance in the region since 2004. Its meticulous records show which mosquito species are present across the Las Vegas Valley year after year and where these flying insects have tested positive for diseases.\\n\\nOne of the most astonishing trends in the data was the explosive growth of Aedes aegypti mosquitoes, which were first identified in Las Vegas in 2017, said Vivek Raman, environmental health supervisor for the Southern Nevada Health District.\\n\\nThe 'relentless biters' are spreading\\n\\n“In 2017, this mosquito was found in just a few ZIP codes,” said Raman, who oversees the health district’s mosquito surveillance program. “A few years later, it was six ZIP codes. Then 12 ZIP codes, then maybe 20, and now it’s in 48 different ZIP codes across the valley.”\\n\\nIn addition to being able to spread dengue, these insects are a major nuisance.\\n\\n“Aedes aegypti are very aggressive daytime-biting mosquitoes,” Raman said. “They are just relentless biters.”\\n\\nUnlike Culex mosquitoes, which prefer breeding near larger sources of water such as untended swimming pools, culverts or detention basins, Aedes aegypti tend to breed in much shallower standing water.\\n\\n“One of the reasons they are spreading so quickly is the mosquito can lay its eggs in small containers, like if rain fills a child’s toy or tires or a wheelbarrow,” Raman said. “All it takes is a couple inches of water.”\\n\\nUrban development in Las Vegas has also inadvertently spurred the spread of mosquitoes in the city. Golf courses, human-made lakes and other forms of artificial irrigation have all made this outpost in the Nevada desert a welcome home for mosquitoes, according to Messenger.\\n\\nClimate change is likely also a factor, and it’s an active area of research for Messenger and other scientists. Warmer temperatures are expanding the range of geographies for mosquitoes around the world. A warmer atmosphere can also hold more moisture, which increases humidity and rain, both mosquito-friendly conditions.\\n\\nIn Las Vegas, how the interplay between local environmental factors and changing climate trends is affecting mosquito populations is less well understood, but the implications are paramount.\\n\\n“Las Vegas is kind of a case study for what climate change is going to look like in other parts of the world,” Messenger said. “We’re seeing record-breaking temperatures, we’re becoming much more arid, precipitation is becoming much more aberrant and unpredictable. That’s what large parts of the world are going to look like over the next 15 to 25 years.”\\n\\nWhat that means for mosquitoes in the city remains to be seen, but the problem so far shows no sign of slowing.\\n\\nThe Southern Nevada Health District conducts public outreach on how to identify and protect against mosquito breeding sites in and around homes, and how to prevent mosquito bites. But, controlling the number of mosquitoes in the city — and thus controlling the public health risk — will require a coordinated effort from the local government, Messenger said. Currently, there isn’t one in Las Vegas.\\n\\n“You’ve got private pest companies that people can call for severe infestations, you have some work going on around wetlands, but what we don’t have, which many other jurisdictions have, is a centralized, coordinated abatement,” Messenger said.\\n\\nThat lack of coordination has resulted in mosquito populations building up resistance to insecticides, she added. A centralized effort could assess which chemicals are safe to use — particularly around humans — and monitor the performance of insecticides and pesticides to prevent mosquitoes from building up immunity.\\n\\nIn the years ahead, Messenger said, prevention and control will be key to protecting the residents of Las Vegas and its many visitors from around the world.\\n\\n“The bottom line is that this is entirely preventable,” she said. “Nobody in southern Nevada, in Clark County, should be getting bit by mosquitoes and contracting any kind of virus.”\"]"
      ]
     },
     "execution_count": 12,
     "metadata": {},
     "output_type": "execute_result"
    }
   ],
   "source": [
    "articles"
   ]
  },
  {
   "cell_type": "markdown",
   "metadata": {},
   "source": [
    "## Stage 3"
   ]
  },
  {
   "cell_type": "code",
   "execution_count": 13,
   "metadata": {},
   "outputs": [],
   "source": [
    "instructions = \"\"\"\n",
    "You are a News Summary Writer Agent. Your task is to take in a list of full news article contents and the user's preferences for news topics, styles, or focus, and produce a concise, accurate, and well-written news summary in Markdown format.\n",
    "\n",
    "Follow these rules:\n",
    "\n",
    "1. **Understand User Preferences**:\n",
    "   - Carefully consider the user's stated interests, preferred topics, or areas of focus.\n",
    "   - Prioritize including information from articles that match the user's preferences.\n",
    "   - If an article is less relevant, include only key points that add context or value.\n",
    "\n",
    "2. **Generate a Markdown News Summary**:\n",
    "   - Summarize the actual content of each article, capturing key facts, findings, or events.\n",
    "   - Use clear headings and subheadings if necessary to organize the summary.\n",
    "   - Include bullet points or numbered lists for clarity when summarizing multiple points.\n",
    "   - Maintain clean Markdown syntax throughout (e.g., `#`, `##`, `###`, `-`, `*`, etc.).\n",
    "\n",
    "3. **Write in a Readable, Engaging Style**:\n",
    "   - Ensure the text is coherent, smooth, and easy to read.\n",
    "   - Avoid repeating content unnecessarily.\n",
    "   - Highlight the most important and relevant aspects of the articles according to user preferences.\n",
    "\n",
    "4. **Return Only the Markdown Summary**:\n",
    "   - Do not include full raw articles, tool outputs, metadata, or internal instructions.\n",
    "   - Only include the synthesized summary based on the article content.\n",
    "\n",
    "5. **Respect Accuracy**:\n",
    "   - Do not fabricate information or speculate beyond what the articles provide.\n",
    "   - Ensure the summary accurately reflects the content of each article.\n",
    "\n",
    "Always aim to create a concise, user-friendly news summary that uses the actual content of the articles while aligning with the user's interests.\n",
    "\"\"\"\n"
   ]
  },
  {
   "cell_type": "code",
   "execution_count": 14,
   "metadata": {},
   "outputs": [],
   "source": [
    "def create_user_prompt(articles: list[str], user_preferences: str) -> str:\n",
    "    \"\"\"\n",
    "    Generates a user prompt for the News Digest Writer Agent.\n",
    "    \n",
    "    Parameters:\n",
    "    - articles: List of strings, each containing the full text of a news article.\n",
    "    - user_preferences: String describing the user's news interests and preferences.\n",
    "    \n",
    "    Returns:\n",
    "    - A formatted prompt string for the agent.\n",
    "    \"\"\"\n",
    "    \n",
    "    # Join articles with clear separation\n",
    "    formatted_articles = \"\\n\\n---\\n\\n\".join(articles)\n",
    "    \n",
    "    prompt = f\"\"\"\n",
    "    You are given the following news articles:\n",
    "\n",
    "    {formatted_articles}\n",
    "\n",
    "    The user has expressed the following preferences for their news digest:\n",
    "\n",
    "    {user_preferences}\n",
    "\n",
    "    Please create a well-organized, engaging news digest in Markdown format based on these articles and the user's preferences. \n",
    "    - Summarize each article in 1-3 sentences.\n",
    "    - Use headings, subheadings, and lists where appropriate.\n",
    "    - Focus on articles most relevant to the user's preferences.\n",
    "    - Do not include raw article text beyond summaries or any metadata.\n",
    "    - Ensure the digest is readable, coherent, and professional.\n",
    "    \"\"\"\n",
    "    return prompt\n"
   ]
  },
  {
   "cell_type": "code",
   "execution_count": 15,
   "metadata": {},
   "outputs": [],
   "source": [
    "user_preferences = \"Show me news on AI and on what Google is up to. Also include any news about Trump and the economy. Finally, include any news related to health and wellness.\""
   ]
  },
  {
   "cell_type": "code",
   "execution_count": 16,
   "metadata": {},
   "outputs": [
    {
     "data": {
      "text/plain": [
       "'\\n    You are given the following news articles:\\n\\n    https://techcrunch.com/2025/08/17/duolingo-ceo-says-controversial-ai-memo-was-misunderstood/:\\nPosted: 9:34 AM PDT · August 17, 2025\\n\\nWhile Duolingo CEO Luis von Ahn was loudly criticized this year after declaring that Duolingo would become an “AI-first company,” he suggested in a new interview the real issue was that he “did not give enough context.”\\n\\n“Internally, this was not controversial,” von Ahn told The New York Times. “Externally, as a publicly traded company some people assume that it’s just for profit. Or that we’re trying to lay off humans. And that was not the intent at all.”\\n\\nOn the contrary, von Ahn said the company has “never laid off any full-time employees” and has no intention of doing so. And while he didn’t deny that Duolingo had cut its contractor workforce, he suggested that “from the beginning … our contractor workforce has gone up and down depending on needs.”\\n\\nDespite the criticism (which does not seem to have made a big impact on Duolingo’s bottom line), von Ahn still sounds extremely bullish about AI’s potential, with Duolingo team members taking every Friday morning to experiment with the technology.\\n\\n“It’s a bad acronym, f-r-A-I-days,” he said. “I don’t know how to pronounce it.”\\n\\n---\\n\\nhttps://fortune.com/2025/08/17/ceo-laid-off-80-percent-workforce-ai-sabotage/:\\nEric Vaughan, CEO of enterprise-software powerhouse IgniteTech, is unwavering as he reflects on the most radical decision of his decades-long career. In early 2023, convinced that generative AI was an “existential” transformation, Vaughan looked at his team and saw a workforce not fully on board. His ultimate response: He ripped the company down to the studs, replacing nearly 80% of staff within a year, according to headcount figures reviewed by Fortune.\\n\\nOver the course of 2023 and into the first quarter of 2024, Vaughan said IgniteTech replaced hundreds of employees, declining to disclose a specific number. “That was not our goal,” he told Fortune. “It was extremely difficult…But changing minds was harder than adding skills.” It was, by any measure, a brutal reckoning—but Vaughan insists it was necessary, and says he’d do it again.\\n\\nFor Vaughan, the writing on the wall was clear and dramatic. “In early 2023, we saw the light,” he told Fortune in an interview, adding that he believed every tech company was facing a crucial inflection point around adoption of artificial intelligence. “Now I’ve certainly morphed to believe that this is every company, and I mean that literally every company, is facing an existential threat by this transformation.”\\n\\nWhere others saw promise, Vaughan saw urgency—believing that failing to get ahead on AI could doom even the most robust business. He called an all-hands meeting with his global remote team. Gone were the comfortable routines and quarterly goals. Instead, his message was direct: Everything would now revolve around AI. “We’re going to give a gift to each of you. And that gift is tremendous investment of time, tools, education, projects…to give you a new skill,” he explained. The company began reimbursing for AI tools and prompt-engineering classes, and even brought in outside experts to evangelize.\\n\\n“Every single Monday was called ‘AI Monday,’” Vaughan said, with his mandate for staff that they could work only on AI. “You couldn’t have customer calls; you couldn’t work on budgets; you had to only work on AI projects.” He said this happened across the board, not just for tech workers, but also for sales, marketing, and everybody at IgniteTech. “That culture needed to be built. That was the key.”\\n\\nThis was a major investment, he added: 20% of payroll was dedicated to a mass-learning initiative, and it failed because of mass resistance, even sabotage. Belief, Vaughan discovered, is a hard thing to manufacture. “In those early days, we did get resistance, we got flat-out, ‘Yeah, I’m not going to do this’ resistance. And so we said goodbye to those people.”\\n\\nThe pushback: Why didn’t they get on board?\\n\\nVaughan was surprised to find it was often the technical staff, not marketing or sales, who dug in their heels. They were the “most resistant,” he said, voicing various concerns about what the AI couldn’t do, rather than focusing on what it could. The marketing and salespeople were enthused by the possibilities of working with these new tools, he added.\\n\\nThis friction is borne out by broader research. According to the 2025 enterprise AI adoption report by Writer, an agentic AI platform for enterprises, one in three workers say they’ve “actively sabotaged” their company’s AI rollout—a number that jumps to 41% of millennial and Gen Z employees. This can take the form of refusing to use AI tools, intentionally generating low-quality outputs, or avoiding training altogether. Many act out because of fears that AI will replace their jobs, while others are frustrated by lackluster AI tools or unclear strategy from leadership.\\n\\nWriter’s chief strategy officer Kevin Chung told Fortune the “big eye-opening thing” from this survey was the human element of AI resistance. “This sabotage isn’t because they’re afraid of the technology…It’s more like there’s so much pressure to get it right, and then when you’re handed something that doesn’t work, you get frustrated.” He added that Writer’s research shows that workers often don’t trust where their organizations are headed. “When you’re handed something that isn’t quite what you want, it’s very frustrating, so the sabotage kicks in, because then people are like, ‘Okay, I’m going to run my own thing. I’m going to go figure it out myself.’” You definitely don’t want this kind of “shadow IT” in an organization, he added.\\n\\nVaughan says he didn’t want to force anyone. “You can’t compel people to change, especially if they don’t believe.” He added that belief was really the thing he needed to recruit for. Company leadership ultimately realized they’d have to launch a massive recruiting effort for what became known as “AI innovation specialists.” This applied across the board, to sales, finance, marketing, everywhere. Vaughan said this time was “really difficult” as things inside the company were “upside down…We didn’t really quite know where we were or who we were yet.”\\n\\nA couple of key hires helped, starting with the person who became IgniteTech’s chief AI officer, Thibault Bridel-Bertomeu. That led to a full reorganization of the company that Vaughan called “somewhat unusual.” Essentially, every division now reports into the AI organization, regardless of domain.\\n\\nThis centralization, Vaughan says, prevented duplication of efforts and maximized knowledge sharing—a common struggle in AI adoption, where Writer’s survey shows 71% of the C-suite at other companies say AI applications are being created in silos and nearly half report their employees have been left to “figure generative AI out on their own.”\\n\\nNo pain, no gain?\\n\\nIn exchange for this difficult transformation, IgniteTech reaped extraordinary results. By the end of 2024, the company had launched two patent-pending AI solutions, including a platform for AI-based email automation (Eloquens AI), with a radically rebuilt team.\\n\\nFinancially, IgniteTech remained strong. Vaughan disclosed that the company, which he said is in the nine-figure revenue range, finished 2024 at “near 75% Ebitda”—all while completing a major acquisition, Khoros. “You multiply people…give people the ability to multiply themselves and do things at a pace,” he said, touting the company’s ability to build new customer-ready products in as little as four days, an unthinkable timeline in the old regime.\\n\\nWhat does Vaughan’s story say for others? On one level, it’s a case study in the pain and payoff of radical change management. But his ruthless approach arguably addresses many challenges identified in the Writer survey: lack of strategy and investment, misalignment between IT and business, and the failure to engage champions who can unlock AI’s benefits.\\n\\nThe ‘boy who cried wolf’ problem\\n\\nTo be sure, IgniteTech is far from alone in wrestling with these challenges. Joshua Wöhle is the CEO of Mindstone, a firm similar to Writer that provides AI upskilling services to workforces, training hundreds of employees monthly at companies including Lufthansa, Hyatt, and NBA teams. He recently discussed the two approaches described by Vaughan—upskilling and mass replacement—in an appearance on BBC Business Today.\\n\\nWöhle contrasted the recent examples of Ikea and Klarna, arguing the former’s example shows why it’s better to “reskill” existing employees. Klarna, a Swedish buy-now, pay-later firm, drew considerable publicity for a decision to reduce members of its customer support staff in a pivot to AI, only to rehire for the same roles. “We’re near the point where [AI is] more intelligent than most people doing knowledge work. But that’s precisely why augmentation beats automation,” Wöhle wrote on LinkedIn.\\n\\nA representative for Klarna told Fortune the company did not lay off employees but has instead adopted several approaches to its customer service, which is managed by outsourced customer service providers who are paid according to the volume of work required. The launch of an AI customer service assistant reduced the workload by the equivalent of 700 full-time agents—from roughly 3,000 to 2,300—and the third-party providers redeployed those 700 workers to other clients, according to Klarna. Now that the AI customer service agent is “handling more complex queries than when we launched,” Klarna says, that number has fallen to 2,200. Klarna says its contractor has rehired just two people in a pilot program designed to combine highly trained human support staff with AI to deliver outstanding customer service.\\n\\nIn an interview with Fortune, Wöhle said one client of his has been very blunt with his workers, ordering them to dedicate all Fridays to AI retraining, and if they didn’t report back on any of their work, they were invited to leave the company. He said it can be “kinder” to dismiss workers who are resistant to AI: “The pace of change is so fast that it’s the kinder thing to force people through it.” He added that he used to think that if he got all workers to really love learning, then that could help Mindstone make a real difference, but he discovered after training literally thousands of people that “most people hate learning. They’d avoid it if they can.”\\n\\nWöhle attributed much of the AI resistance in the workforce to a “boy who cried wolf” problem from the tech sector, citing NFTs and blockchain as technologies that were billed as revolutionary but “didn’t have the real effect” that tech leaders promised. “You can’t really blame them” for resisting, he said. Most people “get stuck because they think from their work flow first,” he added, and they conclude AI is overhyped because they want AI to fit into their old way of working. “It takes a lot more thinking and a lot more kind of prodding for you to change the way that you work,” but once you do, you see dramatic increases. A human can’t possibly keep five call transcripts in their head while you’re trying to write a proposal to a client, he offers, but AI can.\\n\\nIkea echoed Wöhle when reached for comment, saying that its “people-first AI approach focuses on augmentation, not automation.” A spokesperson said Ikea is using AI to automate tasks, not jobs, freeing up time for value-added, human-centric work.\\n\\nThe Writer report notes that companies with formal AI strategies are far more likely to succeed, and those who heavily invest in AI outperform their peers by a large margin. But as Vaughan’s experience shows, investment without belief and buy-in can be wasted energy. “The culture needed to be built. Ultimately, we ended up having to go out and recruit and hire people that were already of the same mind. Changing minds was harder than adding skills.”\\n\\nFor Vaughan, there’s no ambiguity. Would he do it again? He doesn’t hesitate: He’d rather endure months of pain and build a new, AI-driven foundation from scratch than let an organization drift into irrelevance. “This is not a tech change. It is a cultural change, and it is a business change.” He said he doesn’t recommend that others follow his lead and swap out 80% of their staff. “I do not recommend that at all. That was not our goal. It was extremely difficult.” But at the end of the day, he added, everybody’s got to be in the same boat, rowing in the same direction. Otherwise, “we don’t get where we’re going.”\\n\\n---\\n\\nhttps://techcrunch.com/2025/08/17/duolingo-ceo-says-controversial-ai-memo-was-misunderstood/:\\nWhile Duolingo CEO Luis von Ahn was loudly criticized this year after declaring that Duolingo would become an “AI-first company,” he suggested in a new interview the real issue was that he “did not give enough context.”\\n\\n“Internally, this was not controversial,” von Ahn told The New York Times. “Externally, as a publicly traded company some people assume that it’s just for profit. Or that we’re trying to lay off humans. And that was not the intent at all.”\\n\\nOn the contrary, von Ahn said the company has “never laid off any full-time employees” and has no intention of doing so. And while he didn’t deny that Duolingo had cut its contractor workforce, he suggested that “from the beginning … our contractor workforce has gone up and down depending on needs.”\\n\\nDespite the criticism (which does not seem to have made a big impact on Duolingo’s bottom line), von Ahn still sounds extremely bullish about AI’s potential, with Duolingo team members taking every Friday morning to experiment with the technology.\\n\\n“It’s a bad acronym, f-r-A-I-days,” he said. “I don’t know how to pronounce it.”\\n\\n---\\n\\nhttps://www.npr.org/2025/08/17/g-s1-83183/putin-trump-ceasefire:\\nPresident Trump greets Russian President Vladimir Putin at Joint Base Elmendorf-Richardson on Friday in Anchorage, Alaska. On his flight to Alaska, Trump said his top priority was a ceasefire in the Russia-Ukraine war. After meeting with Putin, Trump said a ceasefire was not essential, and it was better to seek a permanent peace agreement.\\n\\nKYIV – When President Trump was flying to Alaska for his summit with Russian leader Vladimir Putin, Trump said the main goal was a ceasefire. He said he\\'d be disappointed if it didn\\'t happen, and warned of \"severe consequences.\"\\n\\nBut shortly after meeting Putin, Trump reversed himself and said a ceasefire in the Russia-Ukraine war wasn\\'t critical. He wrote on social media that \"it was determined by all that the best way to end the horrific war between Russia and Ukraine is to go directly to a Peace Agreement, which would end the war, and not a mere Ceasefire Agreement, which often times do not hold up.\"\\n\\nTrump\\'s new position aligns him with Putin, and puts him at odds with Ukrainian President Volodymyr Zelenskyy -- who\\'s headed to the White House on Monday.\\n\\nZelenskyy\\'s last visit to the White House, on Feb. 28, descended into a heated dispute between the Ukrainian leader and Trump with the cameras rolling. Trump told Zelenskyy that, \"You don\\'t have the cards right now,\" and that the Ukrainian leader would have to make concessions with Russia to prevent the total destruction of his country.\\n\\nSince that diplomatic disaster, Zelenskyy and Ukraine have worked hard to rebuild the relationship with Trump, and it appeared to be working. The Ukrainians consistently praise Trump\\'s peace efforts. When Trump pressed for a deal that would give the U.S. access to valuable Ukrainian minerals, the Ukrainians agreed.\\n\\nWhen Trump began pushing for a ceasefire several months ago, the Ukrainians endorsed the move. Putin did not, and Trump became openly critical and grew increasingly frustrated, to the point of threatening additional sanctions.\\n\\nBut Putin and Trump appeared to be on excellent terms at Friday\\'s summit. While they didn\\'t announce any breakthroughs, Trump now looks to be on Putin\\'s side when it comes to the critical question of whether to pursue an immediate ceasefire versus a comprehensive peace agreement, which would take lengthy negotiations.\\n\\nSecretary of State Marco Rubio was asked about the president\\'s position on NBC\\'s Meet the Press with Kristen Welker.\\n\\n\"We\\'ve been asking for ceasefire for a long period of time,\" Rubio said. \"The only way to have a ceasefire is for both sides to agree to stop firing at one another, and the Russians just haven\\'t agreed to that.\"\\n\\nZelenskyy will have additional support during Monday\\'s visit. Several European leaders will be traveling with him to Washington to help make the case for further Western support for Ukraine.\\n\\nZelenskyy met Sunday in Brussels with European Commission President Ursula von der Leyen, one of those accompanying him.\\n\\n\"We agreed on the necessity of a ceasefire for subsequent diplomatic steps, effective security guarantees for Ukraine, and continued sanctions pressure on Russia,\" Zelenskyy posted on X.\\n\\nWhy Ukraine favors an immediate ceasefire\\n\\nUkraine wants a ceasefire for several reasons. First, it would be the quickest and most realistic way to stop the fighting in the short-term.\\n\\nUkraine has had no relief from Russian attacks since the full-scale invasion in February 2022, and any respite would be welcome. Russian forces continue to pound Ukraine with offensive operations on the ground in eastern Ukraine, and with nightly drone and missile strikes across the country.\\n\\nUkraine says the two sides need a ceasefire first, and can then sit down and negotiate the much more complicated terms of a permanent peace agreement.\\n\\n\"Our vision is a ceasefire first, and then everything else,\" Serhiy Leshchenko, an advisor to Zelenskyy, said on Ukrainian television. \"If we negotiate before the ceasefire, it creates a big risk for Ukraine. If there is a ceasefire, it opens up space for diplomats.\"\\n\\nUkraine also fears that without a ceasefire, Putin will keep buying time and dragging out the war. According to Ukrainian leaders, Putin believes time is on his side and he intends to keep fighting until he wins what he wants on the battlefield, or gets concessions from Ukraine.\\n\\nA ceasefire, Ukrainians say, would force Putin to negotiate.\\n\\nRussia\\'s approach to negotiations\\n\\nAt the Alaska summit, Putin again raised his favorite talking point — that the \"root causes\" of the conflict need to be addressed for a lasting peace. This includes an expansive list of demands that Russia has not been able to achieve on the battlefield.\\n\\nRussia now controls close to 20 percent of Ukrainian territory, yet is calling on Ukraine to give up additional land it still holds in the eastern part of the country, in the Donbas region. Russia wants guarantees that Ukraine will never be allowed to join NATO. Russia also wants an agreement that would greatly restrict the future size of Ukraine\\'s military.\\n\\nUkraine rejects all these demands and says negotiations on a comprehensive peace deal would go nowhere, while the fighting would grind on.\\n\\nFrom Russia\\'s perspective, agreeing to a ceasefire could cost the Russian military its momentum in the fighting, where Russia has been making incremental gains the past two years, though at an extremely high cost in casualties. A truce would reduce Russia\\'s current leverage and ease the pressure on Ukraine.\\n\\n\"Everything is going to be about what the Ukrainians can live with.\"\\n\\nIn the wake of the Alaska summit, the diplomatic debate is now focused on whether to work for a near-term ceasefire or a permanent peace agreement. It will be on full display when Trump and Zelenskyy meet Monday at the White House.\\n\\n---\\n\\nhttps://www.axios.com/2025/08/17/national-guard-dc-republican-governors:\\nI could not access the full content of the article at the provided URL. The webpage is restricted and could not be retrieved.\\n\\n---\\n\\nhttps://www.marketwatch.com/story/inflation-alarm-bells-went-off-again-and-prices-are-rising-just-how-bad-is-it-going-to-get-6659c921:\\nI could not access the full content of the article. The page is restricted, and I was unable to retrieve the text. If you have another source or a different article, please provide the link and I will try again.\\n\\n---\\n\\nhttps://timesofindia.indiatimes.com/life-style/health-fitness/web-stories/new-blood-pressure-guidelines-by-american-heart-association-key-takeaways/photostory/123330234.cms:\\nAug 16, 2025\\n\\nAHA/ACC release new blood pressure guideline\\n\\nAmerican Heart Association and The American College of Cardiology release new guidelines for heart health and blood pressure. Here are a few takeaways from the new guideline young men and women must know.\\n\\nKnow the risks\\n\\nHigh blood pressure is the leading risk factor for stroke and a number of heart conditions such as coronary artery disease, heart failure and atrial fibrillation (AFib), AHA says.\\n\\nKnow when is emergency\\n\\nIf systolic exceeds 180 or diastolic exceeds 120, it may be life-threatening. Call 911 immediately if you experience chest pain, shortness of breath, back pain, numbness, weakness, vision changes, or difficulty speaking—urgent care is critical in such cases.\\n\\nRegular check up\\n\\nEveryone should have their blood pressure checked regularly. Routine checks are important at every stage of life to catch potential issues early and help prevent long-term health complications like hypertension and heart disease.\\n\\nEat a healthy diet\\n\\nAdults should limit sodium to 2,300 mg daily, ideally 1,500 mg, following a heart-healthy plan like DASH with fruits, vegetables, whole grains, lean proteins, and healthy oils. Reduce alcohol—less or none—to help lower or prevent high blood pressure.\\n\\nWeight management\\n\\nIf you’re overweight or obese, dropping just 5% of your body weight can make a real difference in lowering or even preventing high blood pressure. Losing 5% might seem small, but it can have a big impact on improving your blood pressure and overall heart health.\\n\\nPhysical activity and diet go hand in hand\\n\\nTo help manage blood pressure, eat smart with a DASH-style eating pattern, stay active your way, reduce or eliminate alcohol, and try stress-reducing activities, including meditation, breathing control and/or yoga, the guidelines say.\\n\\n---\\n\\nhttps://www.tmz.com/2025/08/17/barbara-palvin-reveals-health-battle/:\\nBarbara Palvin is getting real with her fans about a health struggle she\\'s kept private -- revealing she recently underwent surgery for endometriosis after years of painful, debilitating periods.\\n\\nThe supermodel and wife of Dylan Sprouse took to Instagram Sunday with a candid update, saying she long believed the extreme fatigue, severe cramps, heavy bleeding, and even nights spent on the bathroom floor were just part of her cycle. But after being encouraged to see a specialist, doctors discovered she has endometriosis.\\n\\nBarbara says she had surgery three months ago and, for the first time, experienced a \"normal\" period. She called it a life changing difference and urged followers who suspect something similar to seek answers, stressing early diagnosis and treatment can prevent long term complications.\\n\\nThe Hungarian beauty also explained her recent three month hiatus, saying she needed time to rest and fully heal. Now, she\\'s ready to get back to work -- healthier, stronger, and more mindful of her body than ever.\\n\\nFans flooded her comments with support, praising her honesty for shedding light on a condition that affects millions of women worldwide.\\n\\n---\\n\\nhttps://www.nbcnews.com/science/science-news/las-vegas-mosquito-problem-explained-rcna225002:\\nLAS VEGAS — If at one time it was thought mosquitoes couldn’t survive in desert climates, this city is a case study in how wrong that is.\\n\\nMosquitoes typically prefer more tropical, humid conditions, but these biting machines have exploded in number throughout the Las Vegas Valley in recent years because of a host of changes.\\n\\nA mix of urban development, climate change, insecticide resistance and genetic adaptations are creating a more hospitable environment for the insects in southern Nevada.\\n\\nLas Vegas is hardly alone in its battle against the pesky insects. Warmer temperatures and shifting weather patterns are expanding the geographic range in which mosquitoes live and breed. In many ways, what’s happening here is playing out across the desert Southwest and beyond.\\n\\nThe mosquitoes have brought with them not only the nuisance of bug bites, but also the major threat of mosquito-borne diseases such as dengue fever and West Nile virus to Las Vegas and the rest of Clark County.\\n\\nIt\\'s also caught people off guard.\\n\\n“People aren’t wrong that mosquitoes shouldn’t really thrive in desert conditions, but it’s clear that the particular set of species that we do have in Clark County has adapted to the local ecology,” said Louisa Messenger, an assistant professor in the department of environmental and global health at the University of Nevada, Las Vegas.\\n\\n\\'A ticking time bomb\\'\\n\\nThe species that have taken hold in Clark County include Culex mosquitoes, which can carry West Nile virus, and Aedes aegypti mosquitoes, the primary spreaders of dengue. What’s more, Messenger and her colleagues at UNLV have found that mosquitoes in Las Vegas are becoming resistant to insecticides, a major public health risk in a city built on tourism.\\n\\n“It is a little bit of a ticking time bomb,” Messenger said.\\n\\nShe has for some time been concerned about how vulnerable Las Vegas is to mosquito-borne diseases. In particular, dengue has been surging in North America and South America, with more than 13 million cases recorded across the continents in 2024, according to the Centers for Disease Control and Prevention.\\n\\n“In Vegas, we have more than 48 million visitors coming through our doors every year from all over the planet,” Messenger said. “It just takes a couple of mosquito bites to start local transmission.”\\n\\nLast year, there were 26 reported cases of West Nile virus in humans in Las Vegas, according to the Southern Nevada Health District, trailing the city’s largest outbreak of 43 cases in 2019. Yet, in 2024, scientists still found a record number of mosquitoes that tested positive for the virus in and around the city, which suggests the risk of exposure was very concerning.\\n\\nThis year, the public health department hasn’t identified any human cases so far, even as mosquitoes have tested positive for the virus in certain ZIP codes. Messenger said it’s not well understood what specific factors fuel outbreaks in some years and not in others.\\n\\n“We see these overlapping factors but they are quite difficult to tease it apart,” she said. “All we can say for certain is that we have these bumper years and these zero years, and they are hard to predict.”\\n\\nThe Southern Nevada Health District has been conducting mosquito surveillance in the region since 2004. Its meticulous records show which mosquito species are present across the Las Vegas Valley year after year and where these flying insects have tested positive for diseases.\\n\\nOne of the most astonishing trends in the data was the explosive growth of Aedes aegypti mosquitoes, which were first identified in Las Vegas in 2017, said Vivek Raman, environmental health supervisor for the Southern Nevada Health District.\\n\\nThe \\'relentless biters\\' are spreading\\n\\n“In 2017, this mosquito was found in just a few ZIP codes,” said Raman, who oversees the health district’s mosquito surveillance program. “A few years later, it was six ZIP codes. Then 12 ZIP codes, then maybe 20, and now it’s in 48 different ZIP codes across the valley.”\\n\\nIn addition to being able to spread dengue, these insects are a major nuisance.\\n\\n“Aedes aegypti are very aggressive daytime-biting mosquitoes,” Raman said. “They are just relentless biters.”\\n\\nUnlike Culex mosquitoes, which prefer breeding near larger sources of water such as untended swimming pools, culverts or detention basins, Aedes aegypti tend to breed in much shallower standing water.\\n\\n“One of the reasons they are spreading so quickly is the mosquito can lay its eggs in small containers, like if rain fills a child’s toy or tires or a wheelbarrow,” Raman said. “All it takes is a couple inches of water.”\\n\\nUrban development in Las Vegas has also inadvertently spurred the spread of mosquitoes in the city. Golf courses, human-made lakes and other forms of artificial irrigation have all made this outpost in the Nevada desert a welcome home for mosquitoes, according to Messenger.\\n\\nClimate change is likely also a factor, and it’s an active area of research for Messenger and other scientists. Warmer temperatures are expanding the range of geographies for mosquitoes around the world. A warmer atmosphere can also hold more moisture, which increases humidity and rain, both mosquito-friendly conditions.\\n\\nIn Las Vegas, how the interplay between local environmental factors and changing climate trends is affecting mosquito populations is less well understood, but the implications are paramount.\\n\\n“Las Vegas is kind of a case study for what climate change is going to look like in other parts of the world,” Messenger said. “We’re seeing record-breaking temperatures, we’re becoming much more arid, precipitation is becoming much more aberrant and unpredictable. That’s what large parts of the world are going to look like over the next 15 to 25 years.”\\n\\nWhat that means for mosquitoes in the city remains to be seen, but the problem so far shows no sign of slowing.\\n\\nThe Southern Nevada Health District conducts public outreach on how to identify and protect against mosquito breeding sites in and around homes, and how to prevent mosquito bites. But, controlling the number of mosquitoes in the city — and thus controlling the public health risk — will require a coordinated effort from the local government, Messenger said. Currently, there isn’t one in Las Vegas.\\n\\n“You’ve got private pest companies that people can call for severe infestations, you have some work going on around wetlands, but what we don’t have, which many other jurisdictions have, is a centralized, coordinated abatement,” Messenger said.\\n\\nThat lack of coordination has resulted in mosquito populations building up resistance to insecticides, she added. A centralized effort could assess which chemicals are safe to use — particularly around humans — and monitor the performance of insecticides and pesticides to prevent mosquitoes from building up immunity.\\n\\nIn the years ahead, Messenger said, prevention and control will be key to protecting the residents of Las Vegas and its many visitors from around the world.\\n\\n“The bottom line is that this is entirely preventable,” she said. “Nobody in southern Nevada, in Clark County, should be getting bit by mosquitoes and contracting any kind of virus.”\\n\\n    The user has expressed the following preferences for their news digest:\\n\\n    Show me news on AI and on what Google is up to. Also include any news about Trump and the economy. Finally, include any news related to health and wellness.\\n\\n    Please create a well-organized, engaging news digest in Markdown format based on these articles and the user\\'s preferences. \\n    - Summarize each article in 1-3 sentences.\\n    - Use headings, subheadings, and lists where appropriate.\\n    - Focus on articles most relevant to the user\\'s preferences.\\n    - Do not include raw article text beyond summaries or any metadata.\\n    - Ensure the digest is readable, coherent, and professional.\\n    '"
      ]
     },
     "execution_count": 16,
     "metadata": {},
     "output_type": "execute_result"
    }
   ],
   "source": [
    "prompt = create_user_prompt(articles=articles, user_preferences=user_preferences)\n",
    "\n",
    "prompt"
   ]
  },
  {
   "cell_type": "code",
   "execution_count": 17,
   "metadata": {},
   "outputs": [],
   "source": [
    "news_agent = Agent(\n",
    "    name=\"News Summarizer\",\n",
    "    instructions=instructions,\n",
    "    model=\"gpt-4.1\",\n",
    ")"
   ]
  },
  {
   "cell_type": "code",
   "execution_count": 18,
   "metadata": {},
   "outputs": [
    {
     "data": {
      "text/markdown": [
       "# Weekly News Digest\n",
       "\n",
       "## Artificial Intelligence\n",
       "\n",
       "### Radical Workforce Overhaul at IgniteTech in AI Push\n",
       "- **IgniteTech CEO Eric Vaughan** replaced nearly 80% of his staff in 2023-2024 to transform the enterprise software company into an AI-driven organization.\n",
       "- Significant internal resistance, especially from technical staff, led to widespread layoffs, with new roles focused on \"AI innovation specialists.\"\n",
       "- The move resulted in strong financial performance, rapid product launches, and a restructured company reporting directly through the AI division.\n",
       "- Industry-wide, resistance and even sabotage of AI rollouts is common as workers fear job loss or experience frustration with unproven tools; experts agree that company culture and buy-in are crucial for successful AI adoption.\n",
       "- Other companies like **Ikea** are opting for augmentation rather than automation, reskilling workers instead of replacing them.\n",
       "\n",
       "### Duolingo CEO Addresses Controversy Over AI Memo\n",
       "- **Luis von Ahn**, CEO of Duolingo, clarified that the company’s shift to being \"AI-first\" was misunderstood; the move was not about laying off full-time staff.\n",
       "- While contractor numbers have fluctuated, no full-time employees have been let go, and AI adoption remains a key focus with company-wide experimentation.\n",
       "- Duolingo’s embrace of AI has not negatively impacted its business performance.\n",
       "\n",
       "## Trump and International Affairs\n",
       "\n",
       "### Trump and Putin: From Ceasefire to “Permanent Peace” in Ukraine\n",
       "- President **Trump** reversed his stance after meeting with Russian President Putin in Alaska, abandoning his ceasefire push for Ukraine in favor of seeking a “permanent peace agreement.”\n",
       "- The shift aligns Trump with Putin and contrasts with Ukrainian President **Zelenskyy’s** preferred approach of an immediate ceasefire, which Ukraine views as essential to halting bloodshed and opening diplomatic channels.\n",
       "- The differing views set the stage for further diplomatic tension as Zelenskyy and European leaders visit the White House to push for Western support.\n",
       "\n",
       "## Health and Wellness\n",
       "\n",
       "### New Blood Pressure Guidelines Issued by Heart Experts\n",
       "- The American Heart Association and the American College of Cardiology released updated blood pressure guidelines, stressing regular monitoring, early recognition of emergencies, sodium-restricted diets, weight management, and combined physical activity and healthy eating patterns (DASH diet).\n",
       "- Losing just 5% of body weight can significantly reduce blood pressure; routine checks and stress management techniques like yoga or meditation are recommended.\n",
       "\n",
       "### Supermodel Barbara Palvin Opens Up About Endometriosis\n",
       "- Barbara Palvin revealed she underwent surgery for endometriosis after years of undiagnosed pain and difficult periods, encouraging others to seek early medical advice.\n",
       "- Her candid disclosure drew widespread support and increased awareness of a condition affecting millions of women worldwide.\n",
       "\n",
       "### Urban Mosquito Surges Linked to Climate Change in Las Vegas\n",
       "- Las Vegas is experiencing a sharp rise in mosquito populations, including species carrying West Nile and dengue, due to urban development, climate change, and increased insecticide resistance.\n",
       "- Experts warn of growing public health risks as mosquitoes adapt to new environments and existing control measures become less effective, highlighting the need for coordinated local government responses.\n",
       "\n",
       "---\n",
       "\n",
       "*For further in-depth articles on Google, inflation, or the wider economy, full article texts were unavailable this week. Please provide alternative sources if you’d like additional coverage on these topics.*"
      ],
      "text/plain": [
       "<IPython.core.display.Markdown object>"
      ]
     },
     "metadata": {},
     "output_type": "display_data"
    }
   ],
   "source": [
    "with trace(\"News Summary\"):\n",
    "    result = await Runner.run(news_agent, input=prompt)\n",
    "    news_markdown = result.final_output\n",
    "    display(Markdown(result.final_output))"
   ]
  },
  {
   "cell_type": "markdown",
   "metadata": {},
   "source": [
    "## Stage 4"
   ]
  },
  {
   "cell_type": "code",
   "execution_count": 19,
   "metadata": {},
   "outputs": [
    {
     "name": "stdout",
     "output_type": "stream",
     "text": [
      "202\n"
     ]
    }
   ],
   "source": [
    "def send_test_email():\n",
    "    sg = sendgrid.SendGridAPIClient(api_key=os.environ.get('SENDGRID_API_KEY'))\n",
    "    from_email = Email(\"arnav.thakrar@gmail.com\")  # Change to your verified sender\n",
    "    to_email = To(\"arnav.thakrar@gmail.com\")  # Change to your recipient\n",
    "    content = Content(\"text/plain\", \"This is an important test email\")\n",
    "    mail = Mail(from_email, to_email, \"Test email\", content).get()\n",
    "    response = sg.client.mail.send.post(request_body=mail)\n",
    "    print(response.status_code)\n",
    "\n",
    "send_test_email()"
   ]
  },
  {
   "cell_type": "code",
   "execution_count": 20,
   "metadata": {},
   "outputs": [],
   "source": [
    "@function_tool\n",
    "def send_html_email(subject: str, html_body: str, recipient: str) -> Dict[str, str]:\n",
    "    \"\"\"\n",
    "    Send an HTML email using SendGrid.\n",
    "\n",
    "    Args:\n",
    "        subject (str): The subject line of the email.\n",
    "        html_body (str): The HTML content of the email.\n",
    "        recipient (str): Recipient email address.\n",
    "\n",
    "    Returns:\n",
    "        Dict[str, str]: Status of the email sending operation.\n",
    "    \"\"\"\n",
    "    try:\n",
    "        api_key = os.environ.get(\"SENDGRID_API_KEY\")\n",
    "        if not api_key:\n",
    "            return {\"status\": \"error\", \"message\": \"SendGrid API key not set in environment\"}\n",
    "\n",
    "        sg_client = sendgrid.SendGridAPIClient(api_key=api_key)\n",
    "        from_email = Email(\"arnav.thakrar@gmail.com\")  # Must be verified in SendGrid\n",
    "        to_email = To(recipient)\n",
    "        content = Content(\"text/html\", html_body)\n",
    "\n",
    "        mail = Mail(from_email, to_email, subject, content)\n",
    "        response = sg_client.client.mail.send.post(request_body=mail.get())\n",
    "\n",
    "        if 200 <= response.status_code < 300:\n",
    "            return {\"status\": \"success\", \"message\": f\"Email sent to {recipient}\"}\n",
    "        else:\n",
    "            return {\n",
    "                \"status\": \"error\",\n",
    "                \"message\": f\"SendGrid responded with status {response.status_code}\",\n",
    "                \"body\": response.body.decode() if hasattr(response.body, 'decode') else str(response.body)\n",
    "            }\n",
    "\n",
    "    except Exception as e:\n",
    "        return {\"status\": \"error\", \"message\": str(e)}"
   ]
  },
  {
   "cell_type": "code",
   "execution_count": 21,
   "metadata": {},
   "outputs": [],
   "source": [
    "instructions = \"\"\"\n",
    "You are a News Email Agent. Your task is to take a Markdown-formatted news summary provided by the user, \n",
    "convert it to a clean HTML email, and send it to the recipient email address specified in the user's prompt.\n",
    "\n",
    "Follow these rules carefully:\n",
    "\n",
    "1. **Input Handling**:\n",
    "   - The user will provide a news summary in Markdown format.\n",
    "   - The user will also provide a recipient email address where the email should be sent.\n",
    "\n",
    "2. **Markdown to HTML Conversion**:\n",
    "   - Convert all Markdown elements to proper HTML:\n",
    "       - Headings (#, ##, ###) → <h1>, <h2>, <h3>\n",
    "       - Bold (**text**) → <strong>\n",
    "       - Italics (*text*) → <em>\n",
    "       - Links ([text](url)) → <a href=\"url\">text</a>\n",
    "       - Lists (- item or * item) → <ul><li>item</li></ul>\n",
    "       - Paragraphs → <p>\n",
    "   - Ensure the resulting HTML is clean and readable in an email client.\n",
    "\n",
    "3. **Email Composition**:\n",
    "   - Set the email subject line as \"Daily News Summary\".\n",
    "   - Use the HTML content generated from the Markdown conversion as the body.\n",
    "\n",
    "4. **Call the Tool**:\n",
    "   - Use the `send_html_email` function tool.\n",
    "   - Pass the following arguments:\n",
    "       - `subject`: \"Daily News Summary\"\n",
    "       - `html_body`: the HTML you generated\n",
    "       - `recipient`: the email address provided by the user\n",
    "\n",
    "5. **Error Handling**:\n",
    "   - If the tool reports an error, provide a clear message to the user with the reason.\n",
    "   - Confirm successful email sending to the user with the recipient address.\n",
    "\n",
    "6. **Output**:\n",
    "   - Never send raw Markdown; always convert it to HTML before sending.\n",
    "   - Provide a short confirmation message to the user about email delivery status.\n",
    "\"\"\"\n"
   ]
  },
  {
   "cell_type": "code",
   "execution_count": 22,
   "metadata": {},
   "outputs": [],
   "source": [
    "recipient_email = \"arnav.thakrar@gmail.com\""
   ]
  },
  {
   "cell_type": "code",
   "execution_count": 23,
   "metadata": {},
   "outputs": [],
   "source": [
    "prompt = f\"\"\"\n",
    "You are receiving a personalized news summary in Markdown format and need to send it as an HTML email.\n",
    "\n",
    "Here is the news summary (Markdown format):\n",
    "{news_markdown}\n",
    "\n",
    "Please send this news summary as an HTML email to the recipient email address below:\n",
    "\n",
    "Recipient Email: {recipient_email}\n",
    "\n",
    "Instructions for yourself:\n",
    "1. Convert the Markdown content above into proper HTML suitable for an email.\n",
    "2. Set the email subject to \"Daily News Summary\".\n",
    "3. Call the `send_html_email` function tool with the following parameters:\n",
    "   - subject: \"Daily News Summary\"\n",
    "   - html_body: the HTML content you generated\n",
    "   - recipient: {recipient_email}\n",
    "4. Report back whether the email was successfully sent or if there was an error.\n",
    "\"\"\"\n"
   ]
  },
  {
   "cell_type": "code",
   "execution_count": 24,
   "metadata": {},
   "outputs": [],
   "source": [
    "email_agent = Agent(\n",
    "    name=\"Email Agent\",\n",
    "    instructions=instructions,\n",
    "    tools=[send_html_email],\n",
    "    model=\"gpt-4.1\",\n",
    ")"
   ]
  },
  {
   "cell_type": "code",
   "execution_count": 25,
   "metadata": {},
   "outputs": [
    {
     "data": {
      "text/markdown": [
       "The news summary was successfully converted to a clean HTML email and sent to arnav.thakrar@gmail.com with the subject \"Daily News Summary\".\n",
       "\n",
       "If you need another summary sent or wish to add more recipients, just let me know!"
      ],
      "text/plain": [
       "<IPython.core.display.Markdown object>"
      ]
     },
     "metadata": {},
     "output_type": "display_data"
    }
   ],
   "source": [
    "with trace(\"Email Agent\"):\n",
    "    result = await Runner.run(email_agent, input=prompt)\n",
    "    display(Markdown(result.final_output))"
   ]
  }
 ],
 "metadata": {
  "kernelspec": {
   "display_name": "venv",
   "language": "python",
   "name": "python3"
  },
  "language_info": {
   "codemirror_mode": {
    "name": "ipython",
    "version": 3
   },
   "file_extension": ".py",
   "mimetype": "text/x-python",
   "name": "python",
   "nbconvert_exporter": "python",
   "pygments_lexer": "ipython3",
   "version": "3.12.2"
  }
 },
 "nbformat": 4,
 "nbformat_minor": 2
}
