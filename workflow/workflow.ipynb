{
 "cells": [
  {
   "cell_type": "markdown",
   "metadata": {},
   "source": [
    "# Personalized News Digest Workflow"
   ]
  },
  {
   "cell_type": "code",
   "execution_count": 1,
   "metadata": {},
   "outputs": [
    {
     "data": {
      "text/plain": [
       "True"
      ]
     },
     "execution_count": 1,
     "metadata": {},
     "output_type": "execute_result"
    }
   ],
   "source": [
    "from dotenv import load_dotenv\n",
    "import os\n",
    "from agents import Agent, Runner, trace, function_tool\n",
    "import asyncio\n",
    "from typing import List, Optional, Dict\n",
    "from IPython.display import display, Markdown\n",
    "from agents.run_context import RunContextWrapper\n",
    "from agents.mcp import MCPServerStdio\n",
    "import chromadb\n",
    "from chromadb.utils import embedding_functions\n",
    "from typing import List, Dict\n",
    "from pydantic import BaseModel, Field\n",
    "from agents.mcp import MCPServerStdio\n",
    "from openai.types.responses import ResponseTextDeltaEvent\n",
    "import sendgrid\n",
    "from sendgrid.helpers.mail import Mail, Email, To, Content\n",
    "import requests\n",
    "\n",
    "load_dotenv(override=True)"
   ]
  },
  {
   "cell_type": "markdown",
   "metadata": {},
   "source": [
    "## Stage 1"
   ]
  },
  {
   "cell_type": "code",
   "execution_count": 2,
   "metadata": {},
   "outputs": [],
   "source": [
    "def process_chroma_query_result(chroma_result: dict) -> List[Dict[str, str]]:\n",
    "    \"\"\"\n",
    "    Transforms the output of a ChromaDB collection.query() call into a\n",
    "    list of dictionaries, with each dictionary containing 'id' and 'text'.\n",
    "\n",
    "    Args:\n",
    "        chroma_result (dict): The dictionary returned by the collection.query() call.\n",
    "                              Expected to have 'ids' and 'documents' keys, each\n",
    "                              containing a nested list.\n",
    "\n",
    "    Returns:\n",
    "        list[dict]: A list of dictionaries, where each dictionary has\n",
    "                    the keys 'id' and 'text'.\n",
    "    \"\"\"\n",
    "    processed_list = []\n",
    "    ids = chroma_result.get('ids', [[]])[0]\n",
    "    documents = chroma_result.get('documents', [[]])[0]\n",
    "\n",
    "    if len(ids) != len(documents):\n",
    "        print(\"Warning: Mismatch between number of IDs and documents. Check the query result.\")\n",
    "        return []\n",
    "\n",
    "    for unique_id, text in zip(ids, documents):\n",
    "        processed_list.append({\"url\": unique_id, \"text\": text})\n",
    "\n",
    "    return processed_list"
   ]
  },
  {
   "cell_type": "code",
   "execution_count": 3,
   "metadata": {},
   "outputs": [],
   "source": [
    "@function_tool\n",
    "def get_headlines(query: str) -> List[Dict[str, str]]:\n",
    "    \"\"\"\n",
    "    Retrieve the top 5 most relevant headlines from the Chroma database\n",
    "    based on a semantic search using the provided query string.\n",
    "\n",
    "    Args:\n",
    "        query (str): The natural language query to search against stored headlines.\n",
    "\n",
    "    Returns:\n",
    "        List[Dict[str, str]]: A list of the top 5 matching headlines, where each\n",
    "                              headline is represented as {'id': str, 'text': str}.\n",
    "    \"\"\"\n",
    "\n",
    "    # Initialize embedding function\n",
    "    ef = embedding_functions.OpenAIEmbeddingFunction(\n",
    "        api_key=os.getenv(\"OPENAI_API_KEY\"),\n",
    "        model_name=\"text-embedding-3-large\"\n",
    "    )\n",
    "\n",
    "    # Connect to Chroma persistent client\n",
    "    chroma_client = chromadb.PersistentClient()\n",
    "\n",
    "    # Load the headlines collection with embeddings\n",
    "    headlines = chroma_client.get_collection(\n",
    "        name=\"headlines\",\n",
    "        embedding_function=ef\n",
    "    )\n",
    "\n",
    "    # Query the collection\n",
    "    results = headlines.query(\n",
    "        query_texts=[query],\n",
    "        n_results=5\n",
    "    )\n",
    "\n",
    "    # Process results into clean structured list\n",
    "    return process_chroma_query_result(results)"
   ]
  },
  {
   "cell_type": "code",
   "execution_count": 4,
   "metadata": {},
   "outputs": [],
   "source": [
    "instructions = \"\"\"\n",
    "You are a News Retrieval Agent designed to use Retrieval-Augmented Generation (RAG) to provide users with relevant news headlines based on their expressed preferences.\n",
    "\n",
    "Your Responsibilities:\n",
    "1. Understand the User's Preferences:\n",
    "   - The user will describe the kinds of news they are interested in.\n",
    "   - Extract key topics, categories, or entities from the user's request.\n",
    "\n",
    "2. Formulate Queries for Retrieval:\n",
    "   - For each distinct topic or entity, generate one or more concise natural-language queries that best represent the user's interest.\n",
    "   - Example: If the user says \"I want to hear about Google and artificial intelligence,\" generate queries like \"Google AI\", \"Google artificial intelligence\", \"AI research at Google\".\n",
    "\n",
    "3. Call the Retrieval Tool:\n",
    "   - Use the function tool get_headlines(query: str) to retrieve candidate news articles.\n",
    "   - Always request multiple queries if the user has multiple interests.\n",
    "   - Expect up to 5 headlines per query, structured as {\"id\": str, \"text\": str}.\n",
    "\n",
    "4. Filter and Rerank Results:\n",
    "   - Carefully judge each headline's relevance only in the context of the user's stated interests.\n",
    "   - Discard irrelevant or weakly related headlines.\n",
    "   - Optionally rerank or cluster results if several headlines overlap.\n",
    "\n",
    "5. Produce the Final Output:\n",
    "   - Return only the filtered set of headlines that are highly relevant to the user's query.\n",
    "   - Each headline should be listed clearly (e.g., as a bullet point).\n",
    "   - Do not fabricate headlines — only return those retrieved from the tool.\n",
    "   - If no relevant results are found, state that clearly.\n",
    "\n",
    "Constraints:\n",
    "- Always rely on get_headlines for retrieval. Do not generate news directly.\n",
    "- Filter rigorously to avoid irrelevant content.\n",
    "- Prioritize accuracy and user alignment over quantity of headlines.\n",
    "\n",
    "Example:\n",
    "User Prompt: \"I'd like to hear about space exploration and Elon Musk.\"\n",
    "\n",
    "Agent Steps:\n",
    "- Extract interests: \"space exploration\", \"Elon Musk\".\n",
    "- Generate queries: \"space exploration\", \"NASA space missions\", \"Elon Musk news\", \"SpaceX updates\".\n",
    "- Call get_headlines with each query.\n",
    "- Retrieve results and filter out irrelevant items.\n",
    "\n",
    "Final Output:\n",
    "- NASA Announces New Timeline for Artemis Moon Mission\n",
    "- SpaceX Successfully Launches Starship Prototype\n",
    "- Elon Musk Teases Mars Colonization Plans\n",
    "\"\"\""
   ]
  },
  {
   "cell_type": "code",
   "execution_count": 5,
   "metadata": {},
   "outputs": [],
   "source": [
    "class Headline(BaseModel):\n",
    "    \"\"\"\n",
    "    A single unique news headline.\n",
    "    Each headline must be distinct across all categories.\n",
    "    Do not repeat the same article URL or text in multiple places.\n",
    "    \"\"\"\n",
    "    url: str = Field(\n",
    "        description=\"The source URL of the news article. Must be unique across all headlines.\"\n",
    "    )\n",
    "    text: str = Field(\n",
    "        description=\"The headline text of the news article. Must be unique across all headlines.\"\n",
    "    )\n",
    "\n",
    "\n",
    "class HeadlinesCategory(BaseModel):\n",
    "    \"\"\"\n",
    "    A group of headlines that belong to a single topical category.\n",
    "    Categories are only created when the user clearly expresses two or more distinct interests.\n",
    "    Closely related interests (e.g., 'AI' and 'LLMs') should be merged into one category.\n",
    "    Different interests (e.g., 'AI' vs. 'Trump tariffs') should be separated into different categories.\n",
    "    \"\"\"\n",
    "    category: str = Field(\n",
    "        description=\"The name of the category representing one distinct area of user interest.\"\n",
    "    )\n",
    "    headlines: List[Headline] = Field(\n",
    "        description=\"A list of unique headlines relevant to this category. No duplicates within this list or across categories.\"\n",
    "    )\n",
    "\n",
    "\n",
    "class HeadlinesOutput(BaseModel):\n",
    "    \"\"\"\n",
    "    The final structured output of relevant news headlines grouped by category.\n",
    "    \n",
    "    Rules:\n",
    "    - Each headline must be unique across all categories (no duplicate URLs or texts).\n",
    "    - Categories should only be created if the user has specified two or more distinct interests.\n",
    "      - Merge closely related interests into one category.\n",
    "      - Separate unrelated interests into different categories.\n",
    "    - If the user has only one interest, return a single category with all unique headlines.\n",
    "    \"\"\"\n",
    "    headlines: List[HeadlinesCategory] = Field(\n",
    "        description=\"A list of categories containing unique, relevant news headlines. No duplicates across categories.\"\n",
    "    )"
   ]
  },
  {
   "cell_type": "code",
   "execution_count": 6,
   "metadata": {},
   "outputs": [],
   "source": [
    "rag_agent = Agent(\n",
    "    name=\"RAG Agent\",\n",
    "    tools=[get_headlines],\n",
    "    instructions=instructions,\n",
    "    model=\"gpt-4.1\",\n",
    "    output_type=HeadlinesOutput\n",
    ")"
   ]
  },
  {
   "cell_type": "code",
   "execution_count": 7,
   "metadata": {},
   "outputs": [],
   "source": [
    "prompt = \"Show me news on AI and on what Google is up to. Also include any news about Trump and the economy. Aditionally, include any news related to health and wellness. Finally, any major or important news in any area should be included.\""
   ]
  },
  {
   "cell_type": "code",
   "execution_count": 8,
   "metadata": {},
   "outputs": [
    {
     "name": "stdout",
     "output_type": "stream",
     "text": [
      "1. New early Homo species discovered that challenges 'ape-to-human' evolution theory - Earth.com: https://www.earth.com/news/new-early-homo-species-discovered-lived-with-australopithecus-challenges-human-evolution-theory/\n",
      "1. Google’s Gmail Warning—Hackers Gain Access To User Accounts - Forbes: https://www.forbes.com/sites/zakdoffman/2025/08/17/google-warns-gmail-users-hackers-gain-access-to-accounts/\n",
      "1. Bond Market’s Rate-Cut Bets Enter Decisive Stretch With Powell - Bloomberg.com: https://www.bloomberg.com/news/articles/2025-08-17/bond-market-s-rate-cut-bets-enter-decisive-stretch-with-powell\n",
      "2. White House envoy claims Russia agreed to 'Article 5-like' security guarantees for Ukraine - CNBC: https://www.cnbc.com/2025/08/17/trump-putin-steve-witkoff-ukraine-security-guarantees.html\n",
      "1. Hair loss remedies for women are all over social media. Here's how to know what works - NPR: https://www.npr.org/2025/08/17/nx-s1-5464787/hair-loss-remedies-for-women-are-all-over-social-media-heres-how-to-know-what-works\n",
      "2. Barbara Palvin Speaks Out on Secret Health Battle for the First Time - TMZ: https://www.tmz.com/2025/08/17/barbara-palvin-reveals-health-battle/\n",
      "3. New blood pressure guidelines by American Heart Association: Key takeaways - The Times of India: https://timesofindia.indiatimes.com/life-style/health-fitness/web-stories/new-blood-pressure-guidelines-by-american-heart-association-key-takeaways/photostory/123330234.cms\n",
      "1. Protests explode across Israel amid growing frustration over the war in Gaza - PBS: https://www.pbs.org/newshour/world/protests-explode-across-israel-amid-growing-frustration-over-the-war-in-gaza\n",
      "2. Hurricane Erin tracker: 1st hurricane of Atlantic season weakens to Category 3 - ABC News: https://abcnews.go.com/US/hurricane-erin-tracker-atlantic-hurricane-season/story?id\\u003d124719983\n"
     ]
    }
   ],
   "source": [
    "with trace(\"News Semantic Search\"):\n",
    "    result = await Runner.run(rag_agent, input=prompt, max_turns=20)\n",
    "    structured = result.final_output\n",
    "    for category in structured.headlines:\n",
    "        i = 1\n",
    "        for headline in category.headlines:\n",
    "            print(f\"{i}. {headline.text.replace(\"\\n\", \"\")}: {headline.url}\")\n",
    "            i += 1"
   ]
  },
  {
   "cell_type": "markdown",
   "metadata": {},
   "source": [
    "## Stage 2"
   ]
  },
  {
   "cell_type": "code",
   "execution_count": 9,
   "metadata": {},
   "outputs": [],
   "source": [
    "params = {\"command\": \"uvx\", \"args\": [\"mcp-server-fetch\"]}"
   ]
  },
  {
   "cell_type": "code",
   "execution_count": 10,
   "metadata": {},
   "outputs": [],
   "source": [
    "instructions = \"\"\"\n",
    "You are a News Article Extraction Agent. Your sole tool is the fetch MCP server from Anthropic, which you will use to retrieve content from web pages. Your task is to take a URL provided by the user and return the complete text of the news article located at that URL.\n",
    "\n",
    "Follow these rules:\n",
    "\n",
    "1. **Fetch the Page in Full**:\n",
    "   - Use the fetch tool repeatedly if necessary to ensure you obtain the entire content of the webpage.\n",
    "   - Handle cases where content may be paginated, loaded dynamically, or split across multiple fetch calls.\n",
    "\n",
    "2. **Clean the Output**:\n",
    "   - Remove all HTML tags, scripts, styles, ads, and navigation elements.\n",
    "   - Remove any extra whitespace or formatting that is not part of the main article text.\n",
    "   - Preserve the natural paragraphs and sentence structure of the article.\n",
    "\n",
    "3. **Combine All Content**:\n",
    "   - Merge all parts retrieved from multiple fetch calls into a single, coherent string representing the article.\n",
    "   - Ensure that the final output reads as a smooth, continuous article without broken sentences or sections.\n",
    "\n",
    "4. **Return the Result**:\n",
    "   - Provide only the cleaned, combined article text as the output to the user.\n",
    "   - Do not include any metadata, fetch URLs, or tool output details.\n",
    "\n",
    "5. **Do Not Speculate**:\n",
    "   - If the article cannot be fully retrieved or is missing, clearly indicate that you could not access the full content instead of guessing or summarizing.\n",
    "\n",
    "Always prioritize accuracy and completeness of the extracted article text.\n",
    "\"\"\"\n"
   ]
  },
  {
   "cell_type": "code",
   "execution_count": 11,
   "metadata": {},
   "outputs": [],
   "source": [
    "async with MCPServerStdio(params=params) as fetch_server:\n",
    "    await fetch_server.connect()\n",
    "\n",
    "    news_agent = Agent(\n",
    "        name=\"Fetch Agent\",\n",
    "        mcp_servers=[fetch_server],\n",
    "        instructions=instructions,\n",
    "        model=\"gpt-4.1\"\n",
    "    )\n",
    "\n",
    "    articles = []\n",
    "\n",
    "    for category in structured.headlines:\n",
    "        for headline in category.headlines:\n",
    "            with trace(f\"Fetch news article {headline.url} - {category}\"):\n",
    "                result = await Runner.run(news_agent, input=headline.url, max_turns=20)\n",
    "                articles.append(f\"{headline.url}:\" + \"\\n\" + result.final_output)"
   ]
  },
  {
   "cell_type": "code",
   "execution_count": 12,
   "metadata": {},
   "outputs": [
    {
     "data": {
      "text/plain": [
       "['https://www.earth.com/news/new-early-homo-species-discovered-lived-with-australopithecus-challenges-human-evolution-theory/:\\nThe story of human evolution is not a simple ladder from early forms to more advanced ones. For decades, fossils shaped a picture of steady, linear progress – one form giving rise to another in a neat sequence.\\n\\nBut science often rewrites its narratives when new evidence appears. Now, remarkable finds in Ethiopia are challenging long-held assumptions and painting a richer, more intricate picture of our origins.\\n\\nRecent fossil discoveries in Ethiopia suggest that our evolutionary past was far more complex than a simple linear progression.\\n\\nResearch led by UNLV anthropologist Brian Villmoare, in collaboration with the Ledi-Geraru Research Project, has revealed that Australopithecus and early and unidentified Homo species coexisted between 2.6 and 2.8 million years ago in the same part of Africa.\\n\\nThese findings challenge the traditional “march from ape to human” model and instead support the idea of a branching tree with multiple lineages.\\n\\nUnderstanding Australopithecus – the basics\\n\\nAustralopithecus walked the African landscape around 3 million years ago, bridging the gap between our ape-like ancestors and modern humans.\\n\\nThey stood upright, though shorter and smaller-brained than us, and their mix of traits – long arms for climbing, but pelvis and legs built for walking – shows how they lived in both trees and open grasslands.\\n\\nFossils of species like Australopithecus afarensis, best known from the famous skeleton “Lucy,” reveal that these early hominins were already experimenting with bipedalism while still relying on arboreal agility.\\n\\nWhat makes Australopithecus so fascinating is the story their bones tell about adaptation. They didn’t use tools the way later hominins did, but they set the stage for it by freeing their hands once walking became the norm.\\n\\nTheir teeth and jaws suggest a varied diet, probably fruits, roots, and tougher plants, helping them survive in shifting environments.\\n\\nAustralopithecus lived with others\\n\\nAt the Ledi-Geraru site, scientists found 13 teeth. Some belonged to early Homo, while others came from a previously unknown Australopithecus species.\\n\\nThe latter is different from the famous Australopithecus afarensis skeleton, known as “Lucy,” that disappeared from the fossil record around 2.95 million years ago.\\n\\nThe research showed no evidence of Lucy’s kind aged any younger than 2.95 million years.\\n\\n“This new research shows that the image many of us have in our minds of an ape to a Neanderthal to a modern human is not correct – evolution doesn’t work like that,” said ASU paleoecologist Kaye Reed.\\n\\n“Here we have two hominin species that are together. Human evolution is not linear – it’s a bushy tree, there are life forms that go extinct.”\\n\\nSite shows oldest Homo and tools\\n\\nLedi-Geraru is already well known in paleoanthropology. It has produced the oldest known Homo jaw fossil, dated to 2.8 million years ago, and the earliest Oldowan stone tools.\\n\\nThe site’s sediments, which are rich in volcanic ash, allow precise dating.\\n\\nCrystals in the ash, called feldspars, are key for determining the ages of fossils, as they can be dated from volcanic eruptions above and below the fossil layers.\\n\\nThis geological context also provides clues about the environment in which these species lived.\\n\\nAustralopithecus territory had rivers\\n\\nTwo to three million years ago, the Ledi-Geraru area was a dynamic landscape of rivers, vegetation, and shallow lakes that expanded and shrank over time.\\n\\nThis is a stark contrast to today’s faulted badlands.\\n\\nGeological evidence indicates that the region preserved an interpretable record for the period from 2.3 to 2.95 million years ago – a crucial time in terms of human evolution.\\n\\nMultiple lineages, multiple niches\\n\\nThe study concluded that before 2.5 million years ago, eastern Africa may have had as many as four hominin lineages: early Homo, Australopithecus garhi, the newly discovered Ledi-Geraru Australopithecus, and potentially others in nearby regions.\\n\\n“We used to think of human evolution as fairly linear, with a steady march from an ape-like ancestor to modern Homo sapiens,” Villmoare said.\\n\\nInstead, humans branched out multiple times into different niches.\\n\\n“Our pattern of evolution is not particularly unusual, and what has happened to humans has happened to every other tree of life.”\\n\\nDetailed analysis of the teeth showed differences from known Australopithecus and Homo specimens.\\n\\nThese distinctions suggest the Ledi-Geraru Australopithecus was neither a late-surviving A. afarensis nor A. garhi, but rather a previously unknown species.\\n\\nHowever, the team has not yet named it, as more fossils are needed for a full classification.\\n\\nResearchers are now studying the tooth enamel to understand diet and possible interactions between early Homo and this Australopithecus species.\\n\\nMore study is needed\\n\\nKey questions remain: Did they compete for food or share resources? How often did they encounter each other? Who were their ancestors?\\n\\n“Whenever you have an exciting discovery, if you’re a paleontologist, you always know that you need more information,” Reed explained. “You need more fossils.”\\n\\n“That’s why it’s an important field to train people in – and for people to go out and find their own sites and explore places where we haven’t yet found fossils.”\\n\\nMore finds could reveal not just how these species lived but also why some survived while others vanished.\\n\\nThe study is published in the journal Nature.\\n\\nImage Credit: Kaye Reed, Arizona State University.',\n",
       " 'https://www.forbes.com/sites/zakdoffman/2025/08/17/google-warns-gmail-users-hackers-gain-access-to-accounts/:\\nDo not lose your account — what to know.\\n\\nRepublished on August 18 with a new warning for Google users about the risks in their Gmail address and what they should do to secure their accounts.\\n\\nGoogle has confirmed that Gmail attacks are surging, as hackers steal passwords to gain access to accounts. This also means a surge in “suspicious sign in prevented” emails, Google’s warning that “it recently blocked an attempt to access your account.”\\n\\nAttackers know this — that Gmail user concerns are heightened by security warnings, and they use this to frame their attacks. “Sometimes hackers try to copy the ‘suspicious sign in prevented’ email,” Google warns, “to steal other people’s account information,” which then gives those hackers access to user accounts.\\n\\nIf you receive this Google email warning, do not click on any link or button within the email itself. Instead, “go to your Google Account, on the left navigation panel, click security, and on the recent security events panel, click to review security events.”\\n\\nIf any of the events raise concerns — times or locations or devices you do not recognize — then “on the top of the page click secure your account” to change your password.\\n\\nIf you do click a link from within this email or any other email purporting to come from Google, you will be taken to a sign-in page that will be a malicious fake. If you enter your user name and password into that page, you risk them being stolen by hackers to hijack your account. And that will give them access to everything.\\n\\nThis is the same risk as the recent Amazon refund scam, which texts a link for a fake Amazon refund, but which actually steals login credentials. The answer is twofold. First, never click any such link in a text message or email. And second, add passkeys to your Google, Amazon and other accounts to stop such hijacks.\\n\\nThis exploitation of seemingly legitimate emails, messages and calls that perfectly mimic the content and style of the real thing has become an alarming theme in the last year. This also includes exploiting legitimate infrastructure to add authenticity.\\n\\nBeyond adding passkeys and shoring up two-factor authentication with something other than SMS, the key rule is never to use links to access accounts. Always use your app or the sign-in page you usually use in your browser.\\n\\nAccount hijacks are painful, and while there are mechanisms to recover lost accounts, these can be time consuming and will not stop the content in your account from being stolen. It takes just seconds to secure your accounts — do that now.\\n\\nThose same account defenses will protect you from the latest Gmail attacks, which use fake voicemail notifications to steal login credentials to gain access to accounts. Malware analyst Anurag flagged the issue on Reddit, as a “seemingly harmless” email claimed “I had a ‘New Voice Notification’” with “a big ‘Listen to Voicemail’ button.”\\n\\nAfter clicking the link, per Cybersecurity News, the attack “systematically captures and exfiltrates all entered data through encrypted channels. The system is designed to handle various Gmail security features, including: Primary email and password combinations, SMS and voice call verification codes, Google Authenticator tokens, Backup recovery codes, Alternative email addresses, Security question responses.”\\n\\nAnurag says “this campaign is a good example of how phishing operations abuse legit services (Microsoft Dynamics, SendGrid) to bypass filters, and use captchas as both a deception tool and a barrier against automated security tools. Staying alert and performing deep inspection of suspicious emails is crucial. A single click on the Gmail phishing login could have led to stolen credentials.”\\n\\nAs I have warned before, what Gmail really needs is the equivalent to Apple’s Hide My Email that has been promised but thus far shows no signs of an imminent release. Absent that, it’s too easy for scammers and attackers to buy or steal your email address, pushing their threats directly into your inbox.\\n\\nYes, Google filters out huge volumes of such trash, but a vast amount still gets through. When it comes to the science of large numbers, even auto-deleting 90% or more of the dangerous emails sent when the volume is tens of billions is still not good.\\n\\nAndroid Police has now offered some good advice for Gmail users. Despite what some reports have suggested, Gmail’s “plus addressing (yourname+alias@gmail.com)” is no substitute for a genuine alias. “Relying on one Gmail address is a major security risk,” and “the + is still your real address, which is easy to guess and doesn’t fool spammers.”\\n\\nThe website suggests solutions from Proton, Firefox and DuckDuckGo to provide a more robust system, albeit if your Gmail address is already out in countless databases you won’t stop all the inflow. Personally I use DuckDuckGo, thus the zak@duck.com in my Forbes profile. It’s an excellent solution and I recommend it to others.\\n\\n“Email aliasing masks your real email address,” Android Police explains. “Letting you generate unique, random email addresses for every website or service you sign up for. These addresses, called aliases, forward any incoming mail to your primary inbox, but the original sender never sees your real address. You can also shut off an email address if it starts receiving spam. The aliasing services also allow you to reply anonymously.”',\n",
       " 'https://www.bloomberg.com/news/articles/2025-08-17/bond-market-s-rate-cut-bets-enter-decisive-stretch-with-powell:\\nI could not access the full content of the article. It appears that the page is restricted and cannot be retrieved. If you have another source or a different URL, please provide it and I will try again.',\n",
       " 'https://www.cnbc.com/2025/08/17/trump-putin-steve-witkoff-ukraine-security-guarantees.html:\\nU.S. special envoy Steve Witkoff said Sunday that Russian President Vladimir Putin agreed to allow the United States and European nations to give Ukraine \"Article 5-like protection\" as a security guarantee to bring an end to the war.\\n\\n\"We were able to win the following concession: That the United States could offer Article Five-like protection, which is one of the real reasons why Ukraine wants to be in NATO,\" Witkoff said Sunday on CNN.\\n\\nIt was \"the first time we had ever heard the Russians agree to that,\" he continued.\\n\\nNATO\\'s Article 5 says that \"if a NATO Ally is the victim of an armed attack, each and every other member of the Alliance will consider this act of violence as an armed attack against all members and will take the actions it deems necessary to assist the Ally attacked.\"\\n\\nEuropean Commission President Ursula von der Leyen said Sunday that she welcomed the security guarantees for Ukraine, and that the \"European Union ... is ready to do its share,\" according to the Associated Press.\\n\\nUkrainian President Volodymyr Zelenskyy said it is \"a historic decision that the United States is ready to take part in security guarantees for Ukraine,\" according to a post on X.\\n\\n\"Security guarantees, as a result of our joint work, must really be very practical, delivering protection on land, in the air, and at sea, and must be developed with Europe\\'s participation,\" he wrote.\\n\\nSpecial envoy Witkoff\\'s remarks come just days after President Donald Trump met in Alaska with Putin amid his country\\'s ongoing war with Ukraine. Trump and his administration hailed the talks as \"productive,\" but details of the meeting have so far been scant.\\n\\nTrump, in the lead-up to his meeting with Putin, repeatedly stressed the need for an urgent, long-lasting ceasefire in the war.\\n\\nThe talks did not yield such an agreement, sparking concern among officials in Ukraine and European nations that Trump was moving away from the goal.\\n\\nIn the days since the talks, Trump, however, has said that the \"best way\" to end the war is \"to go directly to a Peace Agreement.\"\\n\\nWitkoff said Sunday that Trump and Putin covered almost all the other issues necessary for a peace deal during their hours-long meeting, without providing additional details.\\n\\n\"We began to see some moderation in the way they\\'re thinking about getting to a final peace deal,\" he said.\\n\\nPeace deal \\'still a long ways off\\'\\n\\nSecretary of State Marco Rubio also said Sunday that Russia will face \"additional consequences\" if Trump\\'s effort to end the war \"doesn\\'t work out,\" but warned against implementing additional sanctions.\\n\\n\"The minute you levy additional sanctions, strong additional sanctions, the talking stops,\" he said on ABC News.\\n\\nRubio added that \"we\\'re still a long ways off\" from a peace agreement.\\n\\n\"We made progress in the sense that we identified potential areas of agreement, but there remain some big areas of disagreement,\" he said. \"We\\'re not at the precipice of a peace agreement, we\\'re not at the edge of one, but I do think progress was made towards one.\"\\n\\nTrump is set to meet with Zelenskyy and European leaders on Monday.\\n\\nWhat\\'s at stake\\n\\nIf the Kremlin did in fact agree to security conditions for Ukraine similar to NATO\\'s Article 5, it would be a stark departure from at least one of the Russian president\\'s previous justifications for attacking the country.\\n\\nRussia has said any resolution to the war would need to address the \"root causes of the conflict,\" most significantly Ukraine demilitarizing and abandoning its aspirations of joining NATO.\\n\\nThe Kremlin has also made clear it wants any peace deal to include international recognition of its annexation of Crimea and significant portions of eastern Ukraine.\\n\\nFollowing Friday\\'s summit, Trump said a peace deal could be reached if Zelenskyy agreed to give up the Donbas region, the New York Times reported, citing senior European officials.\\n\\nBut Zelenskyy has been adamant that Kyiv will never recognize any of its sovereign territory as part of Russia, even regions Moscow has already annexed. The Ukrainian president has said doing so would violate the country\\'s Constitution. Ukraine has also said it wants any peace deal to include guarantees that Russia will never invade again.\\n\\n\"Everyone agrees that borders must not be changed by force,\" Zelenskyy wrote on X.\\n\\n\"Everyone supports that key issues must be resolved with Ukraine\\'s participation in a trilateral format – Ukraine, the U.S., and the Russian chief.\"\\n\\nRubio also said Sunday on NBC News that \"there has to be talk about what the territories are going to look like and what the border lines are going to look like at the end of this conflict.\"\\n\\n\"There has to be talk about how Ukraine is rebuilt, and how do you rebuild a country that\\'s been attacked as often as it has over the last three and a half years,\" he added.\\n\\n— CNBC\\'s Terri Cullen contributed to this report',\n",
       " \"https://www.npr.org/2025/08/17/nx-s1-5464787/hair-loss-remedies-for-women-are-all-over-social-media-heres-how-to-know-what-works:\\nFor women with hair loss, there are more treatment options than ever before — and more ways to access them, as anyone scrolling social media has likely seen firsthand. But it can be confusing.\\n\\nAYESHA RASCOE, HOST:\\n\\nFor women with hair loss, there are more treatment options than ever before, and more ways to access them, as anyone scrolling social media is likely to find out. But all those choices can be confusing. NPR pharmaceuticals correspondent Sydney Lupkin reports on how best to navigate the world of hair-loss remedies.\\n\\nSYDNEY LUPKIN, BYLINE: When Allison Richards (ph) was little, she had long, straight blond hair, and a lot of it.\\n\\nALLISON RICHARDS: That was the beauty feature that people commented on. They're like, oh, your hair is so pretty. It's so long.\\n\\nLUPKIN: It started thinning in her 20s and then got really bad during the pandemic.\\n\\nRICHARDS: There was one day, in the shower, where just I had hundreds of strands of hair. Like, fistfuls of hair coming out. It was a very scary experience.\\n\\nLUPKIN: To understand hair loss, it's important to understand hair growth, says Dr. Carolyn Goh, a clinical professor of dermatology at UCLA Health. Each hair on your head goes through cycles of growth, transition and rest. The rest phase is called telogen.\\n\\nCAROLYN GOH: So it's at the end of that telogen phase is when your hair actually sheds. And when the hair's shedding, it's actually because there's a new hair growing and pushing it out.\\n\\nLUPKIN: And each strand of hair does this at different times. Sometimes, however, stress, like having a baby or even COVID, can cause the hair cycles to sync up, causing a bigger shed. But it's temporary.\\n\\nGOH: Mostly it's time will tell, and that's really difficult to deal with. You know, you see all this hair coming out. It is this huge change, and it seems like the world is ending. But in fact, most of the time is fine.\\n\\nLUPKIN: She says about half of all women will experience hair loss in their lifetime, and sometimes it doesn't resolve on its own. Goh says patients have come to her with all kinds of solutions they've seen on social media, from onion juice to rosemary oil. Goh says there is one randomized controlled study of a hundred people showing rosemary oil could work, but there's also a lot of misinformation.\\n\\nGOH: I think somebody asked me about cucumber today, and I said, you know, I think if that worked, cucumbers would probably be $50 a pop for hair loss, you know? Someone would've figured, you know, a way to monetize it.\\n\\nLUPKIN: When it comes to prescription drugs, it's important to get a formal diagnosis because different kinds of hair loss respond to different treatments. But some people say their doctors can be dismissive or it can be hard to get an appointment. So telehealth companies are stepping in. Dr. Jessica Shepherd, chief medical officer of Hers, says the company takes women's hair loss seriously.\\n\\nJESSICA SHEPHERD: We are going to be there when you're scrolling your phone, on commercials. That's really how we are exposed or how we introduce ourselves to our community.\\n\\nLUPKIN: But Thea Chassin, the founder and CEO of the nonprofit Bald Girls Do Lunch, says telehealth isn't always the answer. She has alopecia areata - an autoimmune kind of hair loss - and says a telehealth visit alone wouldn't have gotten her diagnosis right.\\n\\nTHEA CHASSIN: They don't know because even with alopecia areata, there are look-alike conditions that are completely different. For example, you could have a fungal condition, and that's treatable, but you don't want to wait.\\n\\nLUPKIN: New drugs to treat alopecia areata were approved in just the last few years. They're called JAK inhibitors. As for Allison Richards, who first noticed hair loss in the shower, she considers herself lucky. She was able to get to a dermatologist in person, who took her seriously. Now she takes oral minoxidil - the same compound in Rogaine but in a pill - and spironolactone. Both are being prescribed off-label, meaning they weren't approved by the Food and Drug Administration to treat hair loss. But they're working for her, and her doctor monitors her for side effects. Richards mostly wants other women like her to know they're not alone.\\n\\nRICHARDS: There's always going to be somebody to hold your hand, cheer you on. And if you ever feel like your beauty is compromised, beauty gets redefined.\\n\\nLUPKIN: Sydney Lupkin, NPR News.\",\n",
       " 'https://www.tmz.com/2025/08/17/barbara-palvin-reveals-health-battle/:\\nBarbara Palvin is getting real with her fans about a health struggle she\\'s kept private -- revealing she recently underwent surgery for endometriosis after years of painful, debilitating periods.\\n\\nThe supermodel and wife of Dylan Sprouse took to Instagram Sunday with a candid update, saying she long believed the extreme fatigue, severe cramps, heavy bleeding, and even nights spent on the bathroom floor were just part of her cycle. But after being encouraged to see a specialist, doctors discovered she has endometriosis.\\n\\nBarbara says she had surgery three months ago and, for the first time, experienced a \"normal\" period. She called it a life changing difference and urged followers who suspect something similar to seek answers, stressing early diagnosis and treatment can prevent long term complications.\\n\\nThe Hungarian beauty also explained her recent three month hiatus, saying she needed time to rest and fully heal. Now, she\\'s ready to get back to work -- healthier, stronger, and more mindful of her body than ever.\\n\\nFans flooded her comments with support, praising her honesty for shedding light on a condition that affects millions of women worldwide.',\n",
       " 'https://timesofindia.indiatimes.com/life-style/health-fitness/web-stories/new-blood-pressure-guidelines-by-american-heart-association-key-takeaways/photostory/123330234.cms:\\nAHA/ACC release new blood pressure guideline\\n\\nAmerican Heart Association and The American College of Cardiology release new guidelines for heart health and blood pressure. Here are a few takeaways from the new guideline young men and women must know.\\n\\nKnow the risks\\n\\nHigh blood pressure is the leading risk factor for stroke and a number of heart conditions such as coronary artery disease, heart failure and atrial fibrillation (AFib), AHA says.\\n\\nKnow when is emergency\\n\\nIf systolic exceeds 180 or diastolic exceeds 120, it may be life-threatening. Call 911 immediately if you experience chest pain, shortness of breath, back pain, numbness, weakness, vision changes, or difficulty speaking—urgent care is critical in such cases.\\n\\nRegular check up\\n\\nEveryone should have their blood pressure checked regularly. Routine checks are important at every stage of life to catch potential issues early and help prevent long-term health complications like hypertension and heart disease.\\n\\nEat a healthy diet\\n\\nAdults should limit sodium to 2,300 mg daily, ideally 1,500 mg, following a heart-healthy plan like DASH with fruits, vegetables, whole grains, lean proteins, and healthy oils. Reduce alcohol—less or none—to help lower or prevent high blood pressure.\\n\\nWeight management\\n\\nIf you’re overweight or obese, dropping just 5% of your body weight can make a real difference in lowering or even preventing high blood pressure. Losing 5% might seem small, but it can have a big impact on improving your blood pressure and overall heart health.\\n\\nPhysical activity and diet go hand in hand\\n\\nTo help manage blood pressure, eat smart with a DASH-style eating pattern, stay active your way, reduce or eliminate alcohol, and try stress-reducing activities, including meditation, breathing control and/or yoga, the guidelines say.',\n",
       " 'https://www.pbs.org/newshour/world/protests-explode-across-israel-amid-growing-frustration-over-the-war-in-gaza:\\nJERUSALEM (AP) — Israeli police blasted crowds with water cannons and made dozens of arrests on Sunday as thousands of protesters demanding a deal to free hostages in Gaza aimed to shut down the country with a one-day strike that blocked roads and closed businesses.\\n\\nGroups representing families of hostages organized the demonstrations as frustration grows in Israel over plans for a new military offensive in some of Gaza’s most populated areas, which many fear could further endanger the remaining hostages. Fifty hostages remain, and 20 of them are believed to still be alive.\\n\\n“We don’t win a war over the bodies of hostages,” protesters chanted in one of the largest and fiercest protests in 22 months of war. Even some former Israeli army and intelligence chiefs now call for a deal to end the fighting.\\n\\nProtesters gathered at dozens of places including outside politicians’ homes, military headquarters and on major highways. They blocked lanes and lit bonfires. Some restaurants and theaters closed in solidarity. Police said they arrested 38 people.\\n\\n“The only way to bring (hostages) back is through a deal, all at once, without games,” former hostage Arbel Yehoud said at a demonstration in Tel Aviv. Her boyfriend Ariel Cunio is still being held by Hamas.\\n\\nOne protester carried a photo of an emaciated Palestinian child from Gaza. Such images were once rare at Israeli demonstrations but now appear more often as outrage grows over conditions there for civilians after more than 250 malnutrition-related deaths.\\n\\nNetanyahu opposes any deal that leaves Hamas in power\\n\\nAn end to the conflict does not seem near. Israeli Prime Minister Benjamin Netanyahu is balancing competing pressures including the potential for mutiny within his coalition.\\n\\n“Those who today call for an end to the war without defeating Hamas are not only hardening Hamas’ position and delaying the release of our hostages, they are also ensuring that the horrors of Oct. 7 will be repeated,” Netanyahu said, referencing the Hamas-led attack in 2023 that killed some 1,200 people and sparked the war.\\n\\nThe last time Israel agreed to a ceasefire that released hostages earlier this year, far-right members of his cabinet threatened to topple Netanyahu’s government.\\n\\nFinance Minister Bezalel Smotrich on Sunday called the demonstrations “a bad and harmful campaign that plays into Hamas’ hands, buries the hostages in the tunnels and attempts to get Israel to surrender to its enemies and jeopardize its security and future.”\\n\\nThe new offensive would require the call-up of thousands of reservists, another concern for many Israelis.\\n\\nAnother 17 aid-seekers killed in Gaza\\n\\nHospitals and witnesses in Gaza said Israeli forces killed at least 17 aid-seekers on Sunday, including nine awaiting U.N. aid trucks close to the Morag corridor.\\n\\nHamza Asfour said he was just north of the corridor awaiting a convoy when Israeli snipers fired, first to disperse the crowds, then from tanks hundreds of meters (yards) away. He saw two people with gunshot wounds.\\n\\n“It’s either to take this risk or wait and see my family die of starvation,” he said.\\n\\nThe Gaza Humanitarian Foundation, which runs the Israeli-backed and U.S.-supported distribution points that have become the main source of aid since they opened in May, said there was no gunfire “at or near” its sites, which are located in military-controlled areas.\\n\\nIsrael’s military did not immediately respond to questions.\\n\\nIsrael’s air and ground war has displaced most of Gaza’s population and killed more than 61,900 people, according to Gaza’s Health Ministry, which does not specify how many were fighters or civilians but says around half were women and children.\\n\\nTwo children and five adults died of malnutrition-related causes Sunday, according to the ministry, which is part of the Hamas-run government and staffed by medical professionals. The U.N. and independent experts consider it the most reliable source on casualties. Israel disputes its figures but has not provided its own.\\n\\nThe United Nations has warned that levels of starvation and malnutrition in Gaza are at their highest since the war began. Most aid has been blocked from entering Gaza since Israel imposed a total blockade in March after ending a ceasefire. Deliveries have since partially resumed, though aid organizations say the flow is far below what is needed.\\n\\nFears of the coming military offensive\\n\\nIt is not clear when Israel’s military will begin the new offensive in the crowded Gaza City, Muwasi and what Netanyahu has called the “central camps” of Gaza.\\n\\nThe military body that coordinates its humanitarian aid to Gaza, COGAT, this weekend noted plans to forcibly evacuate people from combat zones to southern Gaza “for their protection.” Designated “safe zones,” however, also have been bombed during the war.\\n\\nWar-weary Palestinians on Sunday insisted that they won’t leave, arguing that there is “no safe place” in Gaza.\\n\\n“There are no humanitarian zones at all,” said Raghda Abu Dhaher, who said she has been displaced 10 times during the war and now shelters in a school in western Gaza City.\\n\\nMohamed Ahmed also insisted that he won’t move south. “Here is bombing and there is bombing,” he said.\\n\\nAirstrike on power plant in Yemen\\n\\nIsraeli airstrikes hit Yemen’s capital Sunday, escalating strikes on the Iran-backed Houthi rebels, who since the war in Gaza began have fired missiles at Israel and targeted ships in the Red Sea.\\n\\nThe Houthi-run Al-Masirah Television said the strikes targeted a power plant in the southern district of Sanhan, sparking a fire and knocking it out of service. Israel’s military said the strikes were launched in response to missiles and drones aimed at Israel.\\n\\nWhile some projectiles have breached its missile defenses — notably during its 12-day war with Iran in June — Israel has intercepted the vast majority of missiles launched from Yemen. Its military later Sunday said it had intercepted another.\\n\\nMelzer reported from Nahariya, Israel and Magdy from Cairo. Sam Mednick contributed from Tel Aviv, Israel.',\n",
       " 'https://abcnews.go.com/US/hurricane-erin-tracker-atlantic-hurricane-season/story?id\\\\u003d124719983:\\nAfter completing an eye wall replacement cycle, Hurricane Erin has now restrengthened to a Category 4 hurricane.\\n\\nErin had max sustained winds of 130 mph, the National Hurricane Center said in an update on Sunday evening.\\n\\nAn eye wall replacement cycle is a natural cycle that normally weakens a hurricane slightly, but re-intensification is normal once the cycle is completed.\\n\\nEarlier on Sunday, Erin was weakened to a Category 3, which was only seen as temporary, as it was expected to re-intensify.\\n\\nAs of the latest update, Erin is located about 130 miles east-northeast of Grand Turk Island and is moving to the west-northwest at 12 mph.\\n\\nWhile wind and rain diminish across the U.S. Virgin Islands, tropical storm conditions will continue for Puerto Rico through Monday. Heavy rain, wind and surf, will continue to impact Turks and Caicos and the Bahamas as Erin passes to the east early this week.\\n\\nAdditional strengthening is possible over the next 12 hours, but thereafter, Erin will then begin to gradually weaken as it takes on a more northerly trajectory. Regardless, Erin will become a very large hurricane -- and is forecast to maintain its status a major hurricane through midweek.\\n\\n\"Considerable\" flash flood warnings are ongoing for the U.S. Virgin Islands. Between 3 to 6 inches of rain are estimated by radar to have fallen over St. John and St. Thomas, and between 2 to 4 inches have been reported for the northern sections of Puerto Rico.\\n\\nFlood watches are expected to remain in effect for Puerto Rico and the U.S. Virgin Islands until Monday morning. Isolated storm rainfall totals of between 6 to 8 inches are still possible as the outer bands of Erin continue to pass over these areas, enough to cause quick flooding and possibly landslides and mudslides.\\n\\nTropical storm warnings are in effect for the Turks and Caicos Islands and southeast Bahamas as Erin\\'s outer bands will graze the islands with heavy rain and gusty winds.\\n\\nAs of Sunday morning, Erin\\'s forecasted path for this week remains the same as it has been for the past few days, as do the steering factors that will be at play to make it happen.\\n\\nErin will slowly turn north over the next few days thanks to the weakening Bermuda High and a cold front that will sweep through the East Coast to begin the new week.\\n\\nWeather models are still in good agreement on Erin steering between Bermuda and the East Coast this week, keeping any direct impacts for the U.S. Mainland at bay.\\n\\nDangerous surf and rip currents are anticipated for the Eastern U.S. coastline between the Space Coast of Florida and coastal New England. These will be driven by Erin\\'s growing size as it treks northward this week.\\n\\nThe bigger the storm, the bigger the wave action that will come from it.\\n\\nVery large waves will also be likely from the Carolinas to possibly the Northeast by Thursday. Eight- to 12-foot waves will be possible along the Carolina coastline, bringing not only dangerous surf but also potentially significant beach erosion that could threaten beachfront properties.\\n\\nDare County in North Carolina issued a mandatory evacuation order for Hatteras Island, according to Dare County Government.\\n\\nThose visiting must evacuate beginning at 10 a.m. Monday, and residents must evacuate beginning at 8 a.m. Tuesday.\\n\\n\"A Mandatory Evacuation has been issued for Hatteras Island (Zone A). Zone A includes all of Hatteras Island, including the unincorporated villages of Rodanthe, Waves, Salvo, Avon, Buxton, Frisco, and Hatteras,\" the government said on Facebook.\\n\\nCaslin Martucci and Bill Hutchinson contributed to this report.']"
      ]
     },
     "execution_count": 12,
     "metadata": {},
     "output_type": "execute_result"
    }
   ],
   "source": [
    "articles"
   ]
  },
  {
   "cell_type": "markdown",
   "metadata": {},
   "source": [
    "## Stage 3"
   ]
  },
  {
   "cell_type": "code",
   "execution_count": 13,
   "metadata": {},
   "outputs": [],
   "source": [
    "instructions = \"\"\"\n",
    "You are a News Summary Writer Agent. Your task is to take in a list of full news article contents (with their source URLs) and the user's preferences for news topics, styles, or focus, and produce a concise, accurate, and well-written news summary in Markdown format.\n",
    "\n",
    "Follow these rules:\n",
    "\n",
    "1. **Understand User Preferences**:\n",
    "   - Carefully consider the user's stated interests, preferred topics, or areas of focus.\n",
    "   - Prioritize including information from articles that match the user's preferences.\n",
    "   - If an article is less relevant, include only key points that add context or value.\n",
    "\n",
    "2. **Generate a Markdown News Summary**:\n",
    "   - Summarize the actual content of each article, capturing key facts, findings, or events.\n",
    "   - Use clear headings and subheadings if necessary to organize the summary.\n",
    "   - Include bullet points or numbered lists for clarity when summarizing multiple points.\n",
    "   - After each section or article summary, include a Markdown link to the source in the format:  \n",
    "     *Source: [Publication Name](Article_URL)*  \n",
    "   - Maintain clean Markdown syntax throughout (e.g., `#`, `##`, `###`, `-`, `*`, etc.).\n",
    "\n",
    "3. **Write in a Readable, Engaging Style**:\n",
    "   - Ensure the text is coherent, smooth, and easy to read.\n",
    "   - Avoid repeating content unnecessarily.\n",
    "   - Highlight the most important and relevant aspects of the articles according to user preferences.\n",
    "\n",
    "4. **Return Only the Markdown Summary**:\n",
    "   - Do not include full raw articles, tool outputs, metadata, or internal instructions.\n",
    "   - Only include the synthesized summary based on the article content and cite sources.\n",
    "\n",
    "5. **Respect Accuracy**:\n",
    "   - Do not fabricate information or speculate beyond what the articles provide.\n",
    "   - Ensure the summary accurately reflects the content of each article.\n",
    "   - Always cite the correct source for each article summary.\n",
    "\n",
    "Always aim to create a concise, user-friendly news summary that uses the actual content of the articles, aligns with the user's interests, and clearly cites sources with links.\n",
    "\"\"\""
   ]
  },
  {
   "cell_type": "code",
   "execution_count": 14,
   "metadata": {},
   "outputs": [],
   "source": [
    "def create_user_prompt(articles: list[str], user_preferences: str) -> str:\n",
    "    \"\"\"\n",
    "    Generates a user prompt for the News Digest Writer Agent.\n",
    "    \n",
    "    Parameters:\n",
    "    - articles: List of strings, each containing the full text of a news article.\n",
    "    - user_preferences: String describing the user's news interests and preferences.\n",
    "    \n",
    "    Returns:\n",
    "    - A formatted prompt string for the agent.\n",
    "    \"\"\"\n",
    "    \n",
    "    # Join articles with clear separation\n",
    "    formatted_articles = \"\\n\\n---\\n\\n\".join(articles)\n",
    "    \n",
    "    prompt = f\"\"\"\n",
    "    You are given the following news articles:\n",
    "\n",
    "    {formatted_articles}\n",
    "\n",
    "    The user has expressed the following preferences for their news digest:\n",
    "\n",
    "    {user_preferences}\n",
    "\n",
    "    Please create a well-organized, engaging news digest in Markdown format based on these articles and the user's preferences. \n",
    "    - Summarize each article in 1-3 sentences.\n",
    "    - Use headings, subheadings, and lists where appropriate.\n",
    "    - Focus on articles most relevant to the user's preferences.\n",
    "    - Do not include raw article text beyond summaries or any metadata.\n",
    "    - Ensure the digest is readable, coherent, and professional.\n",
    "    \"\"\"\n",
    "    return prompt\n"
   ]
  },
  {
   "cell_type": "code",
   "execution_count": 15,
   "metadata": {},
   "outputs": [],
   "source": [
    "user_preferences = \"Show me news on AI and on what Google is up to. Also include any news about Trump and the economy. Aditionally, include any news related to health and wellness. Finally, any major or important news in any area should be included.\""
   ]
  },
  {
   "cell_type": "code",
   "execution_count": 16,
   "metadata": {},
   "outputs": [
    {
     "data": {
      "text/plain": [
       "'\\n    You are given the following news articles:\\n\\n    https://www.earth.com/news/new-early-homo-species-discovered-lived-with-australopithecus-challenges-human-evolution-theory/:\\nThe story of human evolution is not a simple ladder from early forms to more advanced ones. For decades, fossils shaped a picture of steady, linear progress – one form giving rise to another in a neat sequence.\\n\\nBut science often rewrites its narratives when new evidence appears. Now, remarkable finds in Ethiopia are challenging long-held assumptions and painting a richer, more intricate picture of our origins.\\n\\nRecent fossil discoveries in Ethiopia suggest that our evolutionary past was far more complex than a simple linear progression.\\n\\nResearch led by UNLV anthropologist Brian Villmoare, in collaboration with the Ledi-Geraru Research Project, has revealed that Australopithecus and early and unidentified Homo species coexisted between 2.6 and 2.8 million years ago in the same part of Africa.\\n\\nThese findings challenge the traditional “march from ape to human” model and instead support the idea of a branching tree with multiple lineages.\\n\\nUnderstanding Australopithecus – the basics\\n\\nAustralopithecus walked the African landscape around 3 million years ago, bridging the gap between our ape-like ancestors and modern humans.\\n\\nThey stood upright, though shorter and smaller-brained than us, and their mix of traits – long arms for climbing, but pelvis and legs built for walking – shows how they lived in both trees and open grasslands.\\n\\nFossils of species like Australopithecus afarensis, best known from the famous skeleton “Lucy,” reveal that these early hominins were already experimenting with bipedalism while still relying on arboreal agility.\\n\\nWhat makes Australopithecus so fascinating is the story their bones tell about adaptation. They didn’t use tools the way later hominins did, but they set the stage for it by freeing their hands once walking became the norm.\\n\\nTheir teeth and jaws suggest a varied diet, probably fruits, roots, and tougher plants, helping them survive in shifting environments.\\n\\nAustralopithecus lived with others\\n\\nAt the Ledi-Geraru site, scientists found 13 teeth. Some belonged to early Homo, while others came from a previously unknown Australopithecus species.\\n\\nThe latter is different from the famous Australopithecus afarensis skeleton, known as “Lucy,” that disappeared from the fossil record around 2.95 million years ago.\\n\\nThe research showed no evidence of Lucy’s kind aged any younger than 2.95 million years.\\n\\n“This new research shows that the image many of us have in our minds of an ape to a Neanderthal to a modern human is not correct – evolution doesn’t work like that,” said ASU paleoecologist Kaye Reed.\\n\\n“Here we have two hominin species that are together. Human evolution is not linear – it’s a bushy tree, there are life forms that go extinct.”\\n\\nSite shows oldest Homo and tools\\n\\nLedi-Geraru is already well known in paleoanthropology. It has produced the oldest known Homo jaw fossil, dated to 2.8 million years ago, and the earliest Oldowan stone tools.\\n\\nThe site’s sediments, which are rich in volcanic ash, allow precise dating.\\n\\nCrystals in the ash, called feldspars, are key for determining the ages of fossils, as they can be dated from volcanic eruptions above and below the fossil layers.\\n\\nThis geological context also provides clues about the environment in which these species lived.\\n\\nAustralopithecus territory had rivers\\n\\nTwo to three million years ago, the Ledi-Geraru area was a dynamic landscape of rivers, vegetation, and shallow lakes that expanded and shrank over time.\\n\\nThis is a stark contrast to today’s faulted badlands.\\n\\nGeological evidence indicates that the region preserved an interpretable record for the period from 2.3 to 2.95 million years ago – a crucial time in terms of human evolution.\\n\\nMultiple lineages, multiple niches\\n\\nThe study concluded that before 2.5 million years ago, eastern Africa may have had as many as four hominin lineages: early Homo, Australopithecus garhi, the newly discovered Ledi-Geraru Australopithecus, and potentially others in nearby regions.\\n\\n“We used to think of human evolution as fairly linear, with a steady march from an ape-like ancestor to modern Homo sapiens,” Villmoare said.\\n\\nInstead, humans branched out multiple times into different niches.\\n\\n“Our pattern of evolution is not particularly unusual, and what has happened to humans has happened to every other tree of life.”\\n\\nDetailed analysis of the teeth showed differences from known Australopithecus and Homo specimens.\\n\\nThese distinctions suggest the Ledi-Geraru Australopithecus was neither a late-surviving A. afarensis nor A. garhi, but rather a previously unknown species.\\n\\nHowever, the team has not yet named it, as more fossils are needed for a full classification.\\n\\nResearchers are now studying the tooth enamel to understand diet and possible interactions between early Homo and this Australopithecus species.\\n\\nMore study is needed\\n\\nKey questions remain: Did they compete for food or share resources? How often did they encounter each other? Who were their ancestors?\\n\\n“Whenever you have an exciting discovery, if you’re a paleontologist, you always know that you need more information,” Reed explained. “You need more fossils.”\\n\\n“That’s why it’s an important field to train people in – and for people to go out and find their own sites and explore places where we haven’t yet found fossils.”\\n\\nMore finds could reveal not just how these species lived but also why some survived while others vanished.\\n\\nThe study is published in the journal Nature.\\n\\nImage Credit: Kaye Reed, Arizona State University.\\n\\n---\\n\\nhttps://www.forbes.com/sites/zakdoffman/2025/08/17/google-warns-gmail-users-hackers-gain-access-to-accounts/:\\nDo not lose your account — what to know.\\n\\nRepublished on August 18 with a new warning for Google users about the risks in their Gmail address and what they should do to secure their accounts.\\n\\nGoogle has confirmed that Gmail attacks are surging, as hackers steal passwords to gain access to accounts. This also means a surge in “suspicious sign in prevented” emails, Google’s warning that “it recently blocked an attempt to access your account.”\\n\\nAttackers know this — that Gmail user concerns are heightened by security warnings, and they use this to frame their attacks. “Sometimes hackers try to copy the ‘suspicious sign in prevented’ email,” Google warns, “to steal other people’s account information,” which then gives those hackers access to user accounts.\\n\\nIf you receive this Google email warning, do not click on any link or button within the email itself. Instead, “go to your Google Account, on the left navigation panel, click security, and on the recent security events panel, click to review security events.”\\n\\nIf any of the events raise concerns — times or locations or devices you do not recognize — then “on the top of the page click secure your account” to change your password.\\n\\nIf you do click a link from within this email or any other email purporting to come from Google, you will be taken to a sign-in page that will be a malicious fake. If you enter your user name and password into that page, you risk them being stolen by hackers to hijack your account. And that will give them access to everything.\\n\\nThis is the same risk as the recent Amazon refund scam, which texts a link for a fake Amazon refund, but which actually steals login credentials. The answer is twofold. First, never click any such link in a text message or email. And second, add passkeys to your Google, Amazon and other accounts to stop such hijacks.\\n\\nThis exploitation of seemingly legitimate emails, messages and calls that perfectly mimic the content and style of the real thing has become an alarming theme in the last year. This also includes exploiting legitimate infrastructure to add authenticity.\\n\\nBeyond adding passkeys and shoring up two-factor authentication with something other than SMS, the key rule is never to use links to access accounts. Always use your app or the sign-in page you usually use in your browser.\\n\\nAccount hijacks are painful, and while there are mechanisms to recover lost accounts, these can be time consuming and will not stop the content in your account from being stolen. It takes just seconds to secure your accounts — do that now.\\n\\nThose same account defenses will protect you from the latest Gmail attacks, which use fake voicemail notifications to steal login credentials to gain access to accounts. Malware analyst Anurag flagged the issue on Reddit, as a “seemingly harmless” email claimed “I had a ‘New Voice Notification’” with “a big ‘Listen to Voicemail’ button.”\\n\\nAfter clicking the link, per Cybersecurity News, the attack “systematically captures and exfiltrates all entered data through encrypted channels. The system is designed to handle various Gmail security features, including: Primary email and password combinations, SMS and voice call verification codes, Google Authenticator tokens, Backup recovery codes, Alternative email addresses, Security question responses.”\\n\\nAnurag says “this campaign is a good example of how phishing operations abuse legit services (Microsoft Dynamics, SendGrid) to bypass filters, and use captchas as both a deception tool and a barrier against automated security tools. Staying alert and performing deep inspection of suspicious emails is crucial. A single click on the Gmail phishing login could have led to stolen credentials.”\\n\\nAs I have warned before, what Gmail really needs is the equivalent to Apple’s Hide My Email that has been promised but thus far shows no signs of an imminent release. Absent that, it’s too easy for scammers and attackers to buy or steal your email address, pushing their threats directly into your inbox.\\n\\nYes, Google filters out huge volumes of such trash, but a vast amount still gets through. When it comes to the science of large numbers, even auto-deleting 90% or more of the dangerous emails sent when the volume is tens of billions is still not good.\\n\\nAndroid Police has now offered some good advice for Gmail users. Despite what some reports have suggested, Gmail’s “plus addressing (yourname+alias@gmail.com)” is no substitute for a genuine alias. “Relying on one Gmail address is a major security risk,” and “the + is still your real address, which is easy to guess and doesn’t fool spammers.”\\n\\nThe website suggests solutions from Proton, Firefox and DuckDuckGo to provide a more robust system, albeit if your Gmail address is already out in countless databases you won’t stop all the inflow. Personally I use DuckDuckGo, thus the zak@duck.com in my Forbes profile. It’s an excellent solution and I recommend it to others.\\n\\n“Email aliasing masks your real email address,” Android Police explains. “Letting you generate unique, random email addresses for every website or service you sign up for. These addresses, called aliases, forward any incoming mail to your primary inbox, but the original sender never sees your real address. You can also shut off an email address if it starts receiving spam. The aliasing services also allow you to reply anonymously.”\\n\\n---\\n\\nhttps://www.bloomberg.com/news/articles/2025-08-17/bond-market-s-rate-cut-bets-enter-decisive-stretch-with-powell:\\nI could not access the full content of the article. It appears that the page is restricted and cannot be retrieved. If you have another source or a different URL, please provide it and I will try again.\\n\\n---\\n\\nhttps://www.cnbc.com/2025/08/17/trump-putin-steve-witkoff-ukraine-security-guarantees.html:\\nU.S. special envoy Steve Witkoff said Sunday that Russian President Vladimir Putin agreed to allow the United States and European nations to give Ukraine \"Article 5-like protection\" as a security guarantee to bring an end to the war.\\n\\n\"We were able to win the following concession: That the United States could offer Article Five-like protection, which is one of the real reasons why Ukraine wants to be in NATO,\" Witkoff said Sunday on CNN.\\n\\nIt was \"the first time we had ever heard the Russians agree to that,\" he continued.\\n\\nNATO\\'s Article 5 says that \"if a NATO Ally is the victim of an armed attack, each and every other member of the Alliance will consider this act of violence as an armed attack against all members and will take the actions it deems necessary to assist the Ally attacked.\"\\n\\nEuropean Commission President Ursula von der Leyen said Sunday that she welcomed the security guarantees for Ukraine, and that the \"European Union ... is ready to do its share,\" according to the Associated Press.\\n\\nUkrainian President Volodymyr Zelenskyy said it is \"a historic decision that the United States is ready to take part in security guarantees for Ukraine,\" according to a post on X.\\n\\n\"Security guarantees, as a result of our joint work, must really be very practical, delivering protection on land, in the air, and at sea, and must be developed with Europe\\'s participation,\" he wrote.\\n\\nSpecial envoy Witkoff\\'s remarks come just days after President Donald Trump met in Alaska with Putin amid his country\\'s ongoing war with Ukraine. Trump and his administration hailed the talks as \"productive,\" but details of the meeting have so far been scant.\\n\\nTrump, in the lead-up to his meeting with Putin, repeatedly stressed the need for an urgent, long-lasting ceasefire in the war.\\n\\nThe talks did not yield such an agreement, sparking concern among officials in Ukraine and European nations that Trump was moving away from the goal.\\n\\nIn the days since the talks, Trump, however, has said that the \"best way\" to end the war is \"to go directly to a Peace Agreement.\"\\n\\nWitkoff said Sunday that Trump and Putin covered almost all the other issues necessary for a peace deal during their hours-long meeting, without providing additional details.\\n\\n\"We began to see some moderation in the way they\\'re thinking about getting to a final peace deal,\" he said.\\n\\nPeace deal \\'still a long ways off\\'\\n\\nSecretary of State Marco Rubio also said Sunday that Russia will face \"additional consequences\" if Trump\\'s effort to end the war \"doesn\\'t work out,\" but warned against implementing additional sanctions.\\n\\n\"The minute you levy additional sanctions, strong additional sanctions, the talking stops,\" he said on ABC News.\\n\\nRubio added that \"we\\'re still a long ways off\" from a peace agreement.\\n\\n\"We made progress in the sense that we identified potential areas of agreement, but there remain some big areas of disagreement,\" he said. \"We\\'re not at the precipice of a peace agreement, we\\'re not at the edge of one, but I do think progress was made towards one.\"\\n\\nTrump is set to meet with Zelenskyy and European leaders on Monday.\\n\\nWhat\\'s at stake\\n\\nIf the Kremlin did in fact agree to security conditions for Ukraine similar to NATO\\'s Article 5, it would be a stark departure from at least one of the Russian president\\'s previous justifications for attacking the country.\\n\\nRussia has said any resolution to the war would need to address the \"root causes of the conflict,\" most significantly Ukraine demilitarizing and abandoning its aspirations of joining NATO.\\n\\nThe Kremlin has also made clear it wants any peace deal to include international recognition of its annexation of Crimea and significant portions of eastern Ukraine.\\n\\nFollowing Friday\\'s summit, Trump said a peace deal could be reached if Zelenskyy agreed to give up the Donbas region, the New York Times reported, citing senior European officials.\\n\\nBut Zelenskyy has been adamant that Kyiv will never recognize any of its sovereign territory as part of Russia, even regions Moscow has already annexed. The Ukrainian president has said doing so would violate the country\\'s Constitution. Ukraine has also said it wants any peace deal to include guarantees that Russia will never invade again.\\n\\n\"Everyone agrees that borders must not be changed by force,\" Zelenskyy wrote on X.\\n\\n\"Everyone supports that key issues must be resolved with Ukraine\\'s participation in a trilateral format – Ukraine, the U.S., and the Russian chief.\"\\n\\nRubio also said Sunday on NBC News that \"there has to be talk about what the territories are going to look like and what the border lines are going to look like at the end of this conflict.\"\\n\\n\"There has to be talk about how Ukraine is rebuilt, and how do you rebuild a country that\\'s been attacked as often as it has over the last three and a half years,\" he added.\\n\\n— CNBC\\'s Terri Cullen contributed to this report\\n\\n---\\n\\nhttps://www.npr.org/2025/08/17/nx-s1-5464787/hair-loss-remedies-for-women-are-all-over-social-media-heres-how-to-know-what-works:\\nFor women with hair loss, there are more treatment options than ever before — and more ways to access them, as anyone scrolling social media has likely seen firsthand. But it can be confusing.\\n\\nAYESHA RASCOE, HOST:\\n\\nFor women with hair loss, there are more treatment options than ever before, and more ways to access them, as anyone scrolling social media is likely to find out. But all those choices can be confusing. NPR pharmaceuticals correspondent Sydney Lupkin reports on how best to navigate the world of hair-loss remedies.\\n\\nSYDNEY LUPKIN, BYLINE: When Allison Richards (ph) was little, she had long, straight blond hair, and a lot of it.\\n\\nALLISON RICHARDS: That was the beauty feature that people commented on. They\\'re like, oh, your hair is so pretty. It\\'s so long.\\n\\nLUPKIN: It started thinning in her 20s and then got really bad during the pandemic.\\n\\nRICHARDS: There was one day, in the shower, where just I had hundreds of strands of hair. Like, fistfuls of hair coming out. It was a very scary experience.\\n\\nLUPKIN: To understand hair loss, it\\'s important to understand hair growth, says Dr. Carolyn Goh, a clinical professor of dermatology at UCLA Health. Each hair on your head goes through cycles of growth, transition and rest. The rest phase is called telogen.\\n\\nCAROLYN GOH: So it\\'s at the end of that telogen phase is when your hair actually sheds. And when the hair\\'s shedding, it\\'s actually because there\\'s a new hair growing and pushing it out.\\n\\nLUPKIN: And each strand of hair does this at different times. Sometimes, however, stress, like having a baby or even COVID, can cause the hair cycles to sync up, causing a bigger shed. But it\\'s temporary.\\n\\nGOH: Mostly it\\'s time will tell, and that\\'s really difficult to deal with. You know, you see all this hair coming out. It is this huge change, and it seems like the world is ending. But in fact, most of the time is fine.\\n\\nLUPKIN: She says about half of all women will experience hair loss in their lifetime, and sometimes it doesn\\'t resolve on its own. Goh says patients have come to her with all kinds of solutions they\\'ve seen on social media, from onion juice to rosemary oil. Goh says there is one randomized controlled study of a hundred people showing rosemary oil could work, but there\\'s also a lot of misinformation.\\n\\nGOH: I think somebody asked me about cucumber today, and I said, you know, I think if that worked, cucumbers would probably be $50 a pop for hair loss, you know? Someone would\\'ve figured, you know, a way to monetize it.\\n\\nLUPKIN: When it comes to prescription drugs, it\\'s important to get a formal diagnosis because different kinds of hair loss respond to different treatments. But some people say their doctors can be dismissive or it can be hard to get an appointment. So telehealth companies are stepping in. Dr. Jessica Shepherd, chief medical officer of Hers, says the company takes women\\'s hair loss seriously.\\n\\nJESSICA SHEPHERD: We are going to be there when you\\'re scrolling your phone, on commercials. That\\'s really how we are exposed or how we introduce ourselves to our community.\\n\\nLUPKIN: But Thea Chassin, the founder and CEO of the nonprofit Bald Girls Do Lunch, says telehealth isn\\'t always the answer. She has alopecia areata - an autoimmune kind of hair loss - and says a telehealth visit alone wouldn\\'t have gotten her diagnosis right.\\n\\nTHEA CHASSIN: They don\\'t know because even with alopecia areata, there are look-alike conditions that are completely different. For example, you could have a fungal condition, and that\\'s treatable, but you don\\'t want to wait.\\n\\nLUPKIN: New drugs to treat alopecia areata were approved in just the last few years. They\\'re called JAK inhibitors. As for Allison Richards, who first noticed hair loss in the shower, she considers herself lucky. She was able to get to a dermatologist in person, who took her seriously. Now she takes oral minoxidil - the same compound in Rogaine but in a pill - and spironolactone. Both are being prescribed off-label, meaning they weren\\'t approved by the Food and Drug Administration to treat hair loss. But they\\'re working for her, and her doctor monitors her for side effects. Richards mostly wants other women like her to know they\\'re not alone.\\n\\nRICHARDS: There\\'s always going to be somebody to hold your hand, cheer you on. And if you ever feel like your beauty is compromised, beauty gets redefined.\\n\\nLUPKIN: Sydney Lupkin, NPR News.\\n\\n---\\n\\nhttps://www.tmz.com/2025/08/17/barbara-palvin-reveals-health-battle/:\\nBarbara Palvin is getting real with her fans about a health struggle she\\'s kept private -- revealing she recently underwent surgery for endometriosis after years of painful, debilitating periods.\\n\\nThe supermodel and wife of Dylan Sprouse took to Instagram Sunday with a candid update, saying she long believed the extreme fatigue, severe cramps, heavy bleeding, and even nights spent on the bathroom floor were just part of her cycle. But after being encouraged to see a specialist, doctors discovered she has endometriosis.\\n\\nBarbara says she had surgery three months ago and, for the first time, experienced a \"normal\" period. She called it a life changing difference and urged followers who suspect something similar to seek answers, stressing early diagnosis and treatment can prevent long term complications.\\n\\nThe Hungarian beauty also explained her recent three month hiatus, saying she needed time to rest and fully heal. Now, she\\'s ready to get back to work -- healthier, stronger, and more mindful of her body than ever.\\n\\nFans flooded her comments with support, praising her honesty for shedding light on a condition that affects millions of women worldwide.\\n\\n---\\n\\nhttps://timesofindia.indiatimes.com/life-style/health-fitness/web-stories/new-blood-pressure-guidelines-by-american-heart-association-key-takeaways/photostory/123330234.cms:\\nAHA/ACC release new blood pressure guideline\\n\\nAmerican Heart Association and The American College of Cardiology release new guidelines for heart health and blood pressure. Here are a few takeaways from the new guideline young men and women must know.\\n\\nKnow the risks\\n\\nHigh blood pressure is the leading risk factor for stroke and a number of heart conditions such as coronary artery disease, heart failure and atrial fibrillation (AFib), AHA says.\\n\\nKnow when is emergency\\n\\nIf systolic exceeds 180 or diastolic exceeds 120, it may be life-threatening. Call 911 immediately if you experience chest pain, shortness of breath, back pain, numbness, weakness, vision changes, or difficulty speaking—urgent care is critical in such cases.\\n\\nRegular check up\\n\\nEveryone should have their blood pressure checked regularly. Routine checks are important at every stage of life to catch potential issues early and help prevent long-term health complications like hypertension and heart disease.\\n\\nEat a healthy diet\\n\\nAdults should limit sodium to 2,300 mg daily, ideally 1,500 mg, following a heart-healthy plan like DASH with fruits, vegetables, whole grains, lean proteins, and healthy oils. Reduce alcohol—less or none—to help lower or prevent high blood pressure.\\n\\nWeight management\\n\\nIf you’re overweight or obese, dropping just 5% of your body weight can make a real difference in lowering or even preventing high blood pressure. Losing 5% might seem small, but it can have a big impact on improving your blood pressure and overall heart health.\\n\\nPhysical activity and diet go hand in hand\\n\\nTo help manage blood pressure, eat smart with a DASH-style eating pattern, stay active your way, reduce or eliminate alcohol, and try stress-reducing activities, including meditation, breathing control and/or yoga, the guidelines say.\\n\\n---\\n\\nhttps://www.pbs.org/newshour/world/protests-explode-across-israel-amid-growing-frustration-over-the-war-in-gaza:\\nJERUSALEM (AP) — Israeli police blasted crowds with water cannons and made dozens of arrests on Sunday as thousands of protesters demanding a deal to free hostages in Gaza aimed to shut down the country with a one-day strike that blocked roads and closed businesses.\\n\\nGroups representing families of hostages organized the demonstrations as frustration grows in Israel over plans for a new military offensive in some of Gaza’s most populated areas, which many fear could further endanger the remaining hostages. Fifty hostages remain, and 20 of them are believed to still be alive.\\n\\n“We don’t win a war over the bodies of hostages,” protesters chanted in one of the largest and fiercest protests in 22 months of war. Even some former Israeli army and intelligence chiefs now call for a deal to end the fighting.\\n\\nProtesters gathered at dozens of places including outside politicians’ homes, military headquarters and on major highways. They blocked lanes and lit bonfires. Some restaurants and theaters closed in solidarity. Police said they arrested 38 people.\\n\\n“The only way to bring (hostages) back is through a deal, all at once, without games,” former hostage Arbel Yehoud said at a demonstration in Tel Aviv. Her boyfriend Ariel Cunio is still being held by Hamas.\\n\\nOne protester carried a photo of an emaciated Palestinian child from Gaza. Such images were once rare at Israeli demonstrations but now appear more often as outrage grows over conditions there for civilians after more than 250 malnutrition-related deaths.\\n\\nNetanyahu opposes any deal that leaves Hamas in power\\n\\nAn end to the conflict does not seem near. Israeli Prime Minister Benjamin Netanyahu is balancing competing pressures including the potential for mutiny within his coalition.\\n\\n“Those who today call for an end to the war without defeating Hamas are not only hardening Hamas’ position and delaying the release of our hostages, they are also ensuring that the horrors of Oct. 7 will be repeated,” Netanyahu said, referencing the Hamas-led attack in 2023 that killed some 1,200 people and sparked the war.\\n\\nThe last time Israel agreed to a ceasefire that released hostages earlier this year, far-right members of his cabinet threatened to topple Netanyahu’s government.\\n\\nFinance Minister Bezalel Smotrich on Sunday called the demonstrations “a bad and harmful campaign that plays into Hamas’ hands, buries the hostages in the tunnels and attempts to get Israel to surrender to its enemies and jeopardize its security and future.”\\n\\nThe new offensive would require the call-up of thousands of reservists, another concern for many Israelis.\\n\\nAnother 17 aid-seekers killed in Gaza\\n\\nHospitals and witnesses in Gaza said Israeli forces killed at least 17 aid-seekers on Sunday, including nine awaiting U.N. aid trucks close to the Morag corridor.\\n\\nHamza Asfour said he was just north of the corridor awaiting a convoy when Israeli snipers fired, first to disperse the crowds, then from tanks hundreds of meters (yards) away. He saw two people with gunshot wounds.\\n\\n“It’s either to take this risk or wait and see my family die of starvation,” he said.\\n\\nThe Gaza Humanitarian Foundation, which runs the Israeli-backed and U.S.-supported distribution points that have become the main source of aid since they opened in May, said there was no gunfire “at or near” its sites, which are located in military-controlled areas.\\n\\nIsrael’s military did not immediately respond to questions.\\n\\nIsrael’s air and ground war has displaced most of Gaza’s population and killed more than 61,900 people, according to Gaza’s Health Ministry, which does not specify how many were fighters or civilians but says around half were women and children.\\n\\nTwo children and five adults died of malnutrition-related causes Sunday, according to the ministry, which is part of the Hamas-run government and staffed by medical professionals. The U.N. and independent experts consider it the most reliable source on casualties. Israel disputes its figures but has not provided its own.\\n\\nThe United Nations has warned that levels of starvation and malnutrition in Gaza are at their highest since the war began. Most aid has been blocked from entering Gaza since Israel imposed a total blockade in March after ending a ceasefire. Deliveries have since partially resumed, though aid organizations say the flow is far below what is needed.\\n\\nFears of the coming military offensive\\n\\nIt is not clear when Israel’s military will begin the new offensive in the crowded Gaza City, Muwasi and what Netanyahu has called the “central camps” of Gaza.\\n\\nThe military body that coordinates its humanitarian aid to Gaza, COGAT, this weekend noted plans to forcibly evacuate people from combat zones to southern Gaza “for their protection.” Designated “safe zones,” however, also have been bombed during the war.\\n\\nWar-weary Palestinians on Sunday insisted that they won’t leave, arguing that there is “no safe place” in Gaza.\\n\\n“There are no humanitarian zones at all,” said Raghda Abu Dhaher, who said she has been displaced 10 times during the war and now shelters in a school in western Gaza City.\\n\\nMohamed Ahmed also insisted that he won’t move south. “Here is bombing and there is bombing,” he said.\\n\\nAirstrike on power plant in Yemen\\n\\nIsraeli airstrikes hit Yemen’s capital Sunday, escalating strikes on the Iran-backed Houthi rebels, who since the war in Gaza began have fired missiles at Israel and targeted ships in the Red Sea.\\n\\nThe Houthi-run Al-Masirah Television said the strikes targeted a power plant in the southern district of Sanhan, sparking a fire and knocking it out of service. Israel’s military said the strikes were launched in response to missiles and drones aimed at Israel.\\n\\nWhile some projectiles have breached its missile defenses — notably during its 12-day war with Iran in June — Israel has intercepted the vast majority of missiles launched from Yemen. Its military later Sunday said it had intercepted another.\\n\\nMelzer reported from Nahariya, Israel and Magdy from Cairo. Sam Mednick contributed from Tel Aviv, Israel.\\n\\n---\\n\\nhttps://abcnews.go.com/US/hurricane-erin-tracker-atlantic-hurricane-season/story?id\\\\u003d124719983:\\nAfter completing an eye wall replacement cycle, Hurricane Erin has now restrengthened to a Category 4 hurricane.\\n\\nErin had max sustained winds of 130 mph, the National Hurricane Center said in an update on Sunday evening.\\n\\nAn eye wall replacement cycle is a natural cycle that normally weakens a hurricane slightly, but re-intensification is normal once the cycle is completed.\\n\\nEarlier on Sunday, Erin was weakened to a Category 3, which was only seen as temporary, as it was expected to re-intensify.\\n\\nAs of the latest update, Erin is located about 130 miles east-northeast of Grand Turk Island and is moving to the west-northwest at 12 mph.\\n\\nWhile wind and rain diminish across the U.S. Virgin Islands, tropical storm conditions will continue for Puerto Rico through Monday. Heavy rain, wind and surf, will continue to impact Turks and Caicos and the Bahamas as Erin passes to the east early this week.\\n\\nAdditional strengthening is possible over the next 12 hours, but thereafter, Erin will then begin to gradually weaken as it takes on a more northerly trajectory. Regardless, Erin will become a very large hurricane -- and is forecast to maintain its status a major hurricane through midweek.\\n\\n\"Considerable\" flash flood warnings are ongoing for the U.S. Virgin Islands. Between 3 to 6 inches of rain are estimated by radar to have fallen over St. John and St. Thomas, and between 2 to 4 inches have been reported for the northern sections of Puerto Rico.\\n\\nFlood watches are expected to remain in effect for Puerto Rico and the U.S. Virgin Islands until Monday morning. Isolated storm rainfall totals of between 6 to 8 inches are still possible as the outer bands of Erin continue to pass over these areas, enough to cause quick flooding and possibly landslides and mudslides.\\n\\nTropical storm warnings are in effect for the Turks and Caicos Islands and southeast Bahamas as Erin\\'s outer bands will graze the islands with heavy rain and gusty winds.\\n\\nAs of Sunday morning, Erin\\'s forecasted path for this week remains the same as it has been for the past few days, as do the steering factors that will be at play to make it happen.\\n\\nErin will slowly turn north over the next few days thanks to the weakening Bermuda High and a cold front that will sweep through the East Coast to begin the new week.\\n\\nWeather models are still in good agreement on Erin steering between Bermuda and the East Coast this week, keeping any direct impacts for the U.S. Mainland at bay.\\n\\nDangerous surf and rip currents are anticipated for the Eastern U.S. coastline between the Space Coast of Florida and coastal New England. These will be driven by Erin\\'s growing size as it treks northward this week.\\n\\nThe bigger the storm, the bigger the wave action that will come from it.\\n\\nVery large waves will also be likely from the Carolinas to possibly the Northeast by Thursday. Eight- to 12-foot waves will be possible along the Carolina coastline, bringing not only dangerous surf but also potentially significant beach erosion that could threaten beachfront properties.\\n\\nDare County in North Carolina issued a mandatory evacuation order for Hatteras Island, according to Dare County Government.\\n\\nThose visiting must evacuate beginning at 10 a.m. Monday, and residents must evacuate beginning at 8 a.m. Tuesday.\\n\\n\"A Mandatory Evacuation has been issued for Hatteras Island (Zone A). Zone A includes all of Hatteras Island, including the unincorporated villages of Rodanthe, Waves, Salvo, Avon, Buxton, Frisco, and Hatteras,\" the government said on Facebook.\\n\\nCaslin Martucci and Bill Hutchinson contributed to this report.\\n\\n    The user has expressed the following preferences for their news digest:\\n\\n    Show me news on AI and on what Google is up to. Also include any news about Trump and the economy. Aditionally, include any news related to health and wellness. Finally, any major or important news in any area should be included.\\n\\n    Please create a well-organized, engaging news digest in Markdown format based on these articles and the user\\'s preferences. \\n    - Summarize each article in 1-3 sentences.\\n    - Use headings, subheadings, and lists where appropriate.\\n    - Focus on articles most relevant to the user\\'s preferences.\\n    - Do not include raw article text beyond summaries or any metadata.\\n    - Ensure the digest is readable, coherent, and professional.\\n    '"
      ]
     },
     "execution_count": 16,
     "metadata": {},
     "output_type": "execute_result"
    }
   ],
   "source": [
    "prompt = create_user_prompt(articles=articles, user_preferences=user_preferences)\n",
    "\n",
    "prompt"
   ]
  },
  {
   "cell_type": "code",
   "execution_count": 17,
   "metadata": {},
   "outputs": [],
   "source": [
    "news_agent = Agent(\n",
    "    name=\"News Summarizer\",\n",
    "    instructions=instructions,\n",
    "    model=\"gpt-4.1\",\n",
    ")"
   ]
  },
  {
   "cell_type": "code",
   "execution_count": 18,
   "metadata": {},
   "outputs": [
    {
     "data": {
      "text/markdown": [
       "# News Digest – August 18, 2025\n",
       "\n",
       "---\n",
       "\n",
       "## Technology & AI\n",
       "\n",
       "### Google Issues New Warnings as Gmail Attacks Surge\n",
       "\n",
       "- Google warns Gmail users about a rise in hacking attempts that mimic legitimate “suspicious sign-in” alert emails, aiming to steal login credentials.\n",
       "- Users are advised **never to click email links** to access their accounts and instead review security events directly via Google’s account page.\n",
       "- Security experts further recommend setting up passkeys and using true email aliasing services (like DuckDuckGo, Proton, or Firefox) for better protection, as Gmail's plus-addressing isn't enough.\n",
       "- The growing sophistication of phishing attacks—some leveraging legitimate services and bypassing spam filters—underlines the need for vigilance and robust security practices.\n",
       "- Calls for improved privacy features, such as Apple’s “Hide My Email,” persist as scammers keep targeting Gmail accounts.\n",
       "\n",
       "*Source: [Forbes](https://www.forbes.com/sites/zakdoffman/2025/08/17/google-warns-gmail-users-hackers-gain-access-to-accounts/)*\n",
       "\n",
       "---\n",
       "\n",
       "## Trump, Ukraine, and International Affairs\n",
       "\n",
       "### U.S., Russia Discuss “Article 5-like” Security Guarantees for Ukraine\n",
       "\n",
       "- U.S. special envoy Steve Witkoff revealed that Vladimir Putin has agreed in principle to allow the U.S. and Europe to offer NATO-style security guarantees for Ukraine—a first for Russian acceptance of such terms.\n",
       "- The talks, following Trump’s meeting with Putin, are seen as a sign of progress towards a peace agreement but remain far from final; disagreements persist over territory and the future status of Russian-held regions.\n",
       "- European and Ukrainian leaders welcomed the move, but Ukrainian President Zelenskyy remains firm about not conceding territory.\n",
       "- U.S. Secretary of State Marco Rubio cautioned that, while there’s some progress, a comprehensive peace deal is still distant.\n",
       "\n",
       "*Source: [CNBC](https://www.cnbc.com/2025/08/17/trump-putin-steve-witkoff-ukraine-security-guarantees.html)*\n",
       "\n",
       "---\n",
       "\n",
       "## Health & Wellness\n",
       "\n",
       "### New Blood Pressure Guidelines: Key Takeaways from AHA/ACC\n",
       "\n",
       "- The American Heart Association and American College of Cardiology released updated guidelines emphasizing:\n",
       "  - **Routine blood pressure checks** at all ages.\n",
       "  - Limiting sodium intake to <2,300 mg/day (ideally 1,500 mg).\n",
       "  - Weight loss of just 5% can meaningfully reduce hypertension.\n",
       "  - A DASH-style diet, regular physical activity, reduced alcohol, and stress management are recommended to prevent high blood pressure and heart disease.\n",
       "  - Seek emergency care promptly if experiencing dangerously high readings (systolic >180 or diastolic >120) with symptoms.\n",
       "\n",
       "*Source: [Times of India](https://timesofindia.indiatimes.com/life-style/health-fitness/web-stories/new-blood-pressure-guidelines-by-american-heart-association-key-takeaways/photostory/123330234.cms)*\n",
       "\n",
       "---\n",
       "\n",
       "### Women’s Hair Loss: Navigating Remedies and Misinformation\n",
       "\n",
       "- With hair loss remedies flooding social media, experts urge women to seek a formal diagnosis before pursuing treatments, as effective therapies depend on the cause.\n",
       "- Some treatments like rosemary oil have limited scientific backing; oral minoxidil and spironolactone show promise off-label for some.\n",
       "- Telehealth services are increasingly available but may not always provide the specific diagnosis and in-person evaluation needed.\n",
       "\n",
       "*Source: [NPR](https://www.npr.org/2025/08/17/nx-s1-5464787/hair-loss-remedies-for-women-are-all-over-social-media-heres-how-to-know-what-works)*\n",
       "\n",
       "---\n",
       "\n",
       "### Endometriosis Awareness: Barbara Palvin Opens Up\n",
       "\n",
       "- Supermodel Barbara Palvin disclosed her struggle with undiagnosed endometriosis, sharing that surgery has dramatically improved her quality of life.\n",
       "- Her candid admission encourages early diagnosis and highlights the importance of listening to symptoms rather than dismissing them as “normal.”\n",
       "\n",
       "*Source: [TMZ](https://www.tmz.com/2025/08/17/barbara-palvin-reveals-health-battle/)*\n",
       "\n",
       "---\n",
       "\n",
       "## Major World News\n",
       "\n",
       "### Hostage Release Protests Erupt in Israel Amid Gaza War\n",
       "\n",
       "- Thousands protested across Israel, urging a deal to free remaining hostages held in Gaza and opposing further military offensives that may endanger them.\n",
       "- Demonstrations, some of the largest since the war’s start, blocked roads and closed businesses; police used water cannons and made dozens of arrests.\n",
       "- Israeli government leaders face divided pressures amid ongoing conflict, a worsening humanitarian crisis in Gaza, and growing domestic frustration.\n",
       "\n",
       "*Source: [PBS NewsHour](https://www.pbs.org/newshour/world/protests-explode-across-israel-amid-growing-frustration-over-the-war-in-gaza)*\n",
       "\n",
       "---\n",
       "\n",
       "### Hurricane Erin Intensifies to Category 4 in Atlantic\n",
       "\n",
       "- Hurricane Erin has restrengthened to a Category 4 with 130 mph winds, posing threats of heavy rain, flooding, and dangerous surf from the Caribbean to the U.S. East Coast.\n",
       "- While the storm is expected to stay offshore, hazardous surf and rip currents will threaten U.S. beaches, with evacuation orders issued for North Carolina's Hatteras Island.\n",
       "- Flash flooding and landslide risks persist in Puerto Rico and the U.S. Virgin Islands through Monday.\n",
       "\n",
       "*Source: [ABC News](https://abcnews.go.com/US/hurricane-erin-tracker-atlantic-hurricane-season/story?id=124719983)*\n",
       "\n",
       "---\n",
       "\n",
       "### New Fossil Discovery Reshapes Human Evolution Narrative\n",
       "\n",
       "- Fossils from Ethiopia show early Homo species and a newly identified Australopithecus coexisted nearly 2.7 million years ago, challenging the “linear” model of human evolution.\n",
       "- Scientists found clear evidence for multiple hominin lineages sharing the same environment, supporting a “branching tree” concept for human ancestry.\n",
       "- More discoveries are needed, but this find underscores the complexity and diversity of early human evolution.\n",
       "\n",
       "*Source: [Earth.com](https://www.earth.com/news/new-early-homo-species-discovered-lived-with-australopithecus-challenges-human-evolution-theory/)*\n",
       "\n",
       "---\n",
       "\n",
       "*For additional details, refer to the provided source links.*"
      ],
      "text/plain": [
       "<IPython.core.display.Markdown object>"
      ]
     },
     "metadata": {},
     "output_type": "display_data"
    }
   ],
   "source": [
    "with trace(\"News Summary\"):\n",
    "    result = await Runner.run(news_agent, input=prompt)\n",
    "    news_markdown = result.final_output\n",
    "    display(Markdown(result.final_output))"
   ]
  },
  {
   "cell_type": "markdown",
   "metadata": {},
   "source": [
    "## Stage 4"
   ]
  },
  {
   "cell_type": "code",
   "execution_count": 19,
   "metadata": {},
   "outputs": [
    {
     "name": "stdout",
     "output_type": "stream",
     "text": [
      "202\n"
     ]
    }
   ],
   "source": [
    "def send_test_email():\n",
    "    sg = sendgrid.SendGridAPIClient(api_key=os.environ.get('SENDGRID_API_KEY'))\n",
    "    from_email = Email(\"arnav.thakrar@gmail.com\")  # Change to your verified sender\n",
    "    to_email = To(\"arnav.thakrar@gmail.com\")  # Change to your recipient\n",
    "    content = Content(\"text/plain\", \"This is an important test email\")\n",
    "    mail = Mail(from_email, to_email, \"Test email\", content).get()\n",
    "    response = sg.client.mail.send.post(request_body=mail)\n",
    "    print(response.status_code)\n",
    "\n",
    "send_test_email()"
   ]
  },
  {
   "cell_type": "code",
   "execution_count": 20,
   "metadata": {},
   "outputs": [],
   "source": [
    "@function_tool\n",
    "def send_html_email(subject: str, html_body: str, recipient: str) -> Dict[str, str]:\n",
    "    \"\"\"\n",
    "    Send an HTML email using SendGrid.\n",
    "\n",
    "    Args:\n",
    "        subject (str): The subject line of the email.\n",
    "        html_body (str): The HTML content of the email.\n",
    "        recipient (str): Recipient email address.\n",
    "\n",
    "    Returns:\n",
    "        Dict[str, str]: Status of the email sending operation.\n",
    "    \"\"\"\n",
    "    try:\n",
    "        api_key = os.environ.get(\"SENDGRID_API_KEY\")\n",
    "        if not api_key:\n",
    "            return {\"status\": \"error\", \"message\": \"SendGrid API key not set in environment\"}\n",
    "\n",
    "        sg_client = sendgrid.SendGridAPIClient(api_key=api_key)\n",
    "        from_email = Email(\"arnav.thakrar@gmail.com\")  # Must be verified in SendGrid\n",
    "        to_email = To(recipient)\n",
    "        content = Content(\"text/html\", html_body)\n",
    "\n",
    "        mail = Mail(from_email, to_email, subject, content)\n",
    "        response = sg_client.client.mail.send.post(request_body=mail.get())\n",
    "\n",
    "        if 200 <= response.status_code < 300:\n",
    "            return {\"status\": \"success\", \"message\": f\"Email sent to {recipient}\"}\n",
    "        else:\n",
    "            return {\n",
    "                \"status\": \"error\",\n",
    "                \"message\": f\"SendGrid responded with status {response.status_code}\",\n",
    "                \"body\": response.body.decode() if hasattr(response.body, 'decode') else str(response.body)\n",
    "            }\n",
    "\n",
    "    except Exception as e:\n",
    "        return {\"status\": \"error\", \"message\": str(e)}"
   ]
  },
  {
   "cell_type": "code",
   "execution_count": 21,
   "metadata": {},
   "outputs": [],
   "source": [
    "instructions = \"\"\"\n",
    "You are a News Email Agent. Your task is to take a Markdown-formatted news summary provided by the user, \n",
    "convert it to a clean HTML email, and send it to the recipient email address specified in the user's prompt.\n",
    "\n",
    "Follow these rules carefully:\n",
    "\n",
    "1. **Input Handling**:\n",
    "   - The user will provide a news summary in Markdown format.\n",
    "   - The user will also provide a recipient email address where the email should be sent.\n",
    "\n",
    "2. **Markdown to HTML Conversion**:\n",
    "   - Convert all Markdown elements to proper HTML:\n",
    "       - Headings (#, ##, ###) → <h1>, <h2>, <h3>\n",
    "       - Bold (**text**) → <strong>\n",
    "       - Italics (*text*) → <em>\n",
    "       - Links ([text](url)) → <a href=\"url\">text</a>\n",
    "       - Lists (- item or * item) → <ul><li>item</li></ul>\n",
    "       - Paragraphs → <p>\n",
    "   - Ensure the resulting HTML is clean and readable in an email client.\n",
    "\n",
    "3. **Email Composition**:\n",
    "   - Set the email subject line as \"Daily News Summary\".\n",
    "   - Use the HTML content generated from the Markdown conversion as the body.\n",
    "\n",
    "4. **Call the Tool**:\n",
    "   - Use the `send_html_email` function tool.\n",
    "   - Pass the following arguments:\n",
    "       - `subject`: \"Daily News Summary\"\n",
    "       - `html_body`: the HTML you generated\n",
    "       - `recipient`: the email address provided by the user\n",
    "\n",
    "5. **Error Handling**:\n",
    "   - If the tool reports an error, provide a clear message to the user with the reason.\n",
    "   - Confirm successful email sending to the user with the recipient address.\n",
    "\n",
    "6. **Output**:\n",
    "   - Never send raw Markdown; always convert it to HTML before sending.\n",
    "   - Provide a short confirmation message to the user about email delivery status.\n",
    "\"\"\"\n"
   ]
  },
  {
   "cell_type": "code",
   "execution_count": 22,
   "metadata": {},
   "outputs": [],
   "source": [
    "recipient_email = \"arnav.thakrar@gmail.com\""
   ]
  },
  {
   "cell_type": "code",
   "execution_count": 23,
   "metadata": {},
   "outputs": [],
   "source": [
    "prompt = f\"\"\"\n",
    "You are receiving a personalized news summary in Markdown format and need to send it as an HTML email.\n",
    "\n",
    "Here is the news summary (Markdown format):\n",
    "{news_markdown}\n",
    "\n",
    "Please send this news summary as an HTML email to the recipient email address below:\n",
    "\n",
    "Recipient Email: {recipient_email}\n",
    "\n",
    "Instructions for yourself:\n",
    "1. Convert the Markdown content above into proper HTML suitable for an email.\n",
    "2. Set the email subject to \"Daily News Summary\".\n",
    "3. Call the `send_html_email` function tool with the following parameters:\n",
    "   - subject: \"Daily News Summary\"\n",
    "   - html_body: the HTML content you generated\n",
    "   - recipient: {recipient_email}\n",
    "4. Report back whether the email was successfully sent or if there was an error.\n",
    "\"\"\"\n"
   ]
  },
  {
   "cell_type": "code",
   "execution_count": 24,
   "metadata": {},
   "outputs": [],
   "source": [
    "email_agent = Agent(\n",
    "    name=\"Email Agent\",\n",
    "    instructions=instructions,\n",
    "    tools=[send_html_email],\n",
    "    model=\"gpt-4.1\",\n",
    ")"
   ]
  },
  {
   "cell_type": "code",
   "execution_count": 25,
   "metadata": {},
   "outputs": [
    {
     "data": {
      "text/markdown": [
       "The news summary has been successfully converted to HTML and sent as an email to arnav.thakrar@gmail.com with the subject \"Daily News Summary.\" \n",
       "\n",
       "If you need to send another summary or have any additional requests, feel free to ask!"
      ],
      "text/plain": [
       "<IPython.core.display.Markdown object>"
      ]
     },
     "metadata": {},
     "output_type": "display_data"
    }
   ],
   "source": [
    "with trace(\"Email Agent\"):\n",
    "    result = await Runner.run(email_agent, input=prompt)\n",
    "    display(Markdown(result.final_output))"
   ]
  }
 ],
 "metadata": {
  "kernelspec": {
   "display_name": "venv",
   "language": "python",
   "name": "python3"
  },
  "language_info": {
   "codemirror_mode": {
    "name": "ipython",
    "version": 3
   },
   "file_extension": ".py",
   "mimetype": "text/x-python",
   "name": "python",
   "nbconvert_exporter": "python",
   "pygments_lexer": "ipython3",
   "version": "3.12.2"
  }
 },
 "nbformat": 4,
 "nbformat_minor": 2
}
