{
 "cells": [
  {
   "cell_type": "code",
   "execution_count": 3,
   "metadata": {},
   "outputs": [
    {
     "data": {
      "text/plain": [
       "True"
      ]
     },
     "execution_count": 3,
     "metadata": {},
     "output_type": "execute_result"
    }
   ],
   "source": [
    "from dotenv import load_dotenv\n",
    "import os\n",
    "from agents import Agent, Runner, trace, function_tool\n",
    "import asyncio\n",
    "from typing import List, Optional\n",
    "from IPython.display import display, Markdown\n",
    "from agents.run_context import RunContextWrapper\n",
    "from agents.mcp import MCPServerStdio\n",
    "\n",
    "load_dotenv(override=True)"
   ]
  },
  {
   "cell_type": "code",
   "execution_count": 5,
   "metadata": {},
   "outputs": [],
   "source": [
    "params = {\"command\": \"uvx\", \"args\": [\"mcp-server-fetch\"]}"
   ]
  },
  {
   "cell_type": "code",
   "execution_count": 6,
   "metadata": {},
   "outputs": [],
   "source": [
    "instructions = \"\"\"\n",
    "You are a News Article Extraction Agent. Your sole tool is the fetch MCP server from Anthropic, which you will use to retrieve content from web pages. Your task is to take a URL provided by the user and return the complete text of the news article located at that URL.\n",
    "\n",
    "Follow these rules:\n",
    "\n",
    "1. **Fetch the Page in Full**:\n",
    "   - Use the fetch tool repeatedly if necessary to ensure you obtain the entire content of the webpage.\n",
    "   - Handle cases where content may be paginated, loaded dynamically, or split across multiple fetch calls.\n",
    "\n",
    "2. **Clean the Output**:\n",
    "   - Remove all HTML tags, scripts, styles, ads, and navigation elements.\n",
    "   - Remove any extra whitespace or formatting that is not part of the main article text.\n",
    "   - Preserve the natural paragraphs and sentence structure of the article.\n",
    "\n",
    "3. **Combine All Content**:\n",
    "   - Merge all parts retrieved from multiple fetch calls into a single, coherent string representing the article.\n",
    "   - Ensure that the final output reads as a smooth, continuous article without broken sentences or sections.\n",
    "\n",
    "4. **Return the Result**:\n",
    "   - Provide only the cleaned, combined article text as the output to the user.\n",
    "   - Do not include any metadata, fetch URLs, or tool output details.\n",
    "\n",
    "5. **Do Not Speculate**:\n",
    "   - If the article cannot be fully retrieved or is missing, clearly indicate that you could not access the full content instead of guessing or summarizing.\n",
    "\n",
    "Always prioritize accuracy and completeness of the extracted article text.\n",
    "\"\"\"\n"
   ]
  },
  {
   "cell_type": "code",
   "execution_count": 11,
   "metadata": {},
   "outputs": [],
   "source": [
    "prompt = \"https://www.theverge.com/tech/760131/google-pixel-9-pro-fold-lenovo-legion-go-s-deal-sale\""
   ]
  },
  {
   "cell_type": "code",
   "execution_count": 12,
   "metadata": {},
   "outputs": [
    {
     "data": {
      "text/markdown": [
       "Some people like to stay on the cutting edge of technology. If that’s you, you already know that Google is going to officially unveil its Pixel 10 phones (including a new Fold) during its August 20th event. But if you’re someone who prefers to use these opportunities to save on last-gen tech, you’ve been rewarded with a sweet deal on the Pixel 9 Pro Fold. The base 256GB version in obsidian (black) is down to $1,199 at Amazon and Best Buy, which is 33 percent off its original $1,799 price. It was selling for $100 more just last week.\n",
       "\n",
       "The Pixel 9 Pro Fold was a big leap forward compared to Google’s first-gen foldable, touting a lightweight design that looks and feels like a normal phone before you unfold it. One of its main drawbacks was that, despite its high original price, you don’t get the same great cameras in the cheaper Pixel 9 Pro (which, by the way, is only $599 at Best Buy). They’re still good, mind you, but reviewer Allison Johnson said during her testing that its telephoto lens produced softer images by comparison, and low-light photos were less detailed. Drawbacks aside, she was eager to recommend the foldable phone at its original $1,800 price.\n",
       "\n",
       "The Pixel 10 Pro Fold is nearly upon us, and it’ll likely deliver some sizeable improvements. Google itself has already shown off its design in YouTube clips, and it’s very similar to the model on sale now. However, there’s a rumor that it might have an IP68 rating, which would make it dustproof. Dust was the kryptonite for early foldable models, but the tech has apparently come a long way since then, so this would be a huge selling point in favor of the new model if it’s true.\n",
       "\n",
       "Other Verge-approved deals for your weekend\n",
       "\n",
       "- We had some tough (but warranted) words for the Windows version of the Lenovo Legion Go S gaming handheld in our review. The Verge’s Sean Hollister summed it up by saying it “feels good, plays bad,” which I echo in my Polygon review from earlier this year. One of Sean’s main complaints is the exorbitant $730 price that Lenovo was charging, especially since its specs aren’t all that impressive compared to the Steam Deck, and don’t get us started on the pain of using Windows 11 in handheld mode. However, its recent $300 off price drop at Best Buy to $499.99 makes it easier to overlook its faults. This model has AMD’s Ryzen Z2 Go chip, 32GB of RAM, and a 1TB SSD. It’s a decent value now considering that the version with SteamOS instead of Windows 11 costs $599.99, yet includes half the RAM and storage, though we’d still recommend picking a system with a Z1 Extreme chip. Also, note that Valve told us it doesn’t officially support SteamOS on the Windows model.\n",
       "\n",
       "- If you’re looking for your first — or next — Sonos speaker, there aren’t too many deals worth flagging on new units right now. One good refurbished deal has come to the surface, though, and it’s on the Sonos One SL, which is $119 at Wellbots for Verge readers. Enter the code SONOSVERGE40 at checkout to knock the price down from $159. This is an appealing deal because it beats the current prices at Sonos’ own refurbished outlet, and because it comes with a one-year warranty through Sonos — just as new speakers do. The 2019 One SL can be used alone, or synced up with other Sonos Wi-Fi speakers through the company’s app. It lacks a microphone, so you can’t bark voice commands at it.\n",
       "\n",
       "- Those who own a 4K Blu-ray player, like the Panasonic DP-UB420-K, can add more flicks to their library of discs on the cheap over at Gruv. The shopping site (which is owned by Universal Pictures) is offering a bunch of 4K Blu-ray titles in a “3 for $30” sale, making each one just $10 before tax and shipping. Just to give you some examples of visually-stunning films that are eligible, there’s Dunkirk, Crazy Rich Asians, The Matrix Resurrections, and more."
      ],
      "text/plain": [
       "<IPython.core.display.Markdown object>"
      ]
     },
     "metadata": {},
     "output_type": "display_data"
    }
   ],
   "source": [
    "async with MCPServerStdio(params=params) as fetch_server:\n",
    "    await fetch_server.connect()\n",
    "\n",
    "    news_agent = Agent(\n",
    "        name=\"Fetch Agent\",\n",
    "        mcp_servers=[fetch_server],\n",
    "        instructions=instructions,\n",
    "        model=\"gpt-4.1\"\n",
    "    )\n",
    "\n",
    "    with trace(\"Fetch news article\"):\n",
    "        result = await Runner.run(news_agent, input=prompt, max_turns=20)\n",
    "        display(Markdown(result.final_output))"
   ]
  }
 ],
 "metadata": {
  "kernelspec": {
   "display_name": "venv",
   "language": "python",
   "name": "python3"
  },
  "language_info": {
   "codemirror_mode": {
    "name": "ipython",
    "version": 3
   },
   "file_extension": ".py",
   "mimetype": "text/x-python",
   "name": "python",
   "nbconvert_exporter": "python",
   "pygments_lexer": "ipython3",
   "version": "3.12.2"
  }
 },
 "nbformat": 4,
 "nbformat_minor": 2
}
