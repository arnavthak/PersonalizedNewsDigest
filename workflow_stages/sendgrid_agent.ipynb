{
 "cells": [
  {
   "cell_type": "code",
   "execution_count": 13,
   "metadata": {},
   "outputs": [
    {
     "data": {
      "text/plain": [
       "True"
      ]
     },
     "execution_count": 13,
     "metadata": {},
     "output_type": "execute_result"
    }
   ],
   "source": [
    "from dotenv import load_dotenv\n",
    "from agents import Agent, Runner, trace, function_tool\n",
    "from openai.types.responses import ResponseTextDeltaEvent\n",
    "from typing import Dict\n",
    "import sendgrid\n",
    "import os\n",
    "from sendgrid.helpers.mail import Mail, Email, To, Content\n",
    "import asyncio\n",
    "import requests\n",
    "from IPython.display import display, Markdown\n",
    "\n",
    "load_dotenv(override=True)"
   ]
  },
  {
   "cell_type": "code",
   "execution_count": 3,
   "metadata": {},
   "outputs": [
    {
     "name": "stdout",
     "output_type": "stream",
     "text": [
      "202\n"
     ]
    }
   ],
   "source": [
    "def send_test_email():\n",
    "    sg = sendgrid.SendGridAPIClient(api_key=os.environ.get('SENDGRID_API_KEY'))\n",
    "    from_email = Email(\"arnav.thakrar@gmail.com\")  # Change to your verified sender\n",
    "    to_email = To(\"arnav.thakrar@gmail.com\")  # Change to your recipient\n",
    "    content = Content(\"text/plain\", \"This is an important test email\")\n",
    "    mail = Mail(from_email, to_email, \"Test email\", content).get()\n",
    "    response = sg.client.mail.send.post(request_body=mail)\n",
    "    print(response.status_code)\n",
    "\n",
    "send_test_email()"
   ]
  },
  {
   "cell_type": "code",
   "execution_count": 4,
   "metadata": {},
   "outputs": [],
   "source": [
    "@function_tool\n",
    "def send_html_email(subject: str, html_body: str, recipient: str) -> Dict[str, str]:\n",
    "    \"\"\"\n",
    "    Send an HTML email using SendGrid.\n",
    "\n",
    "    Args:\n",
    "        subject (str): The subject line of the email.\n",
    "        html_body (str): The HTML content of the email.\n",
    "        recipient (str): Recipient email address.\n",
    "\n",
    "    Returns:\n",
    "        Dict[str, str]: Status of the email sending operation.\n",
    "    \"\"\"\n",
    "    try:\n",
    "        api_key = os.environ.get(\"SENDGRID_API_KEY\")\n",
    "        if not api_key:\n",
    "            return {\"status\": \"error\", \"message\": \"SendGrid API key not set in environment\"}\n",
    "\n",
    "        sg_client = sendgrid.SendGridAPIClient(api_key=api_key)\n",
    "        from_email = Email(\"arnav.thakrar@gmail.com\")  # Must be verified in SendGrid\n",
    "        to_email = To(recipient)\n",
    "        content = Content(\"text/html\", html_body)\n",
    "\n",
    "        mail = Mail(from_email, to_email, subject, content)\n",
    "        response = sg_client.client.mail.send.post(request_body=mail.get())\n",
    "\n",
    "        if 200 <= response.status_code < 300:\n",
    "            return {\"status\": \"success\", \"message\": f\"Email sent to {recipient}\"}\n",
    "        else:\n",
    "            return {\n",
    "                \"status\": \"error\",\n",
    "                \"message\": f\"SendGrid responded with status {response.status_code}\",\n",
    "                \"body\": response.body.decode() if hasattr(response.body, 'decode') else str(response.body)\n",
    "            }\n",
    "\n",
    "    except Exception as e:\n",
    "        return {\"status\": \"error\", \"message\": str(e)}"
   ]
  },
  {
   "cell_type": "code",
   "execution_count": 5,
   "metadata": {},
   "outputs": [],
   "source": [
    "instructions = \"\"\"\n",
    "You are a News Email Agent. Your task is to take a Markdown-formatted news summary provided by the user, \n",
    "convert it to a clean HTML email, and send it to the recipient email address specified in the user's prompt.\n",
    "\n",
    "Follow these rules carefully:\n",
    "\n",
    "1. **Input Handling**:\n",
    "   - The user will provide a news summary in Markdown format.\n",
    "   - The user will also provide a recipient email address where the email should be sent.\n",
    "\n",
    "2. **Markdown to HTML Conversion**:\n",
    "   - Convert all Markdown elements to proper HTML:\n",
    "       - Headings (#, ##, ###) → <h1>, <h2>, <h3>\n",
    "       - Bold (**text**) → <strong>\n",
    "       - Italics (*text*) → <em>\n",
    "       - Links ([text](url)) → <a href=\"url\">text</a>\n",
    "       - Lists (- item or * item) → <ul><li>item</li></ul>\n",
    "       - Paragraphs → <p>\n",
    "   - Ensure the resulting HTML is clean and readable in an email client.\n",
    "\n",
    "3. **Email Composition**:\n",
    "   - Set the email subject line as \"Daily News Summary\".\n",
    "   - Use the HTML content generated from the Markdown conversion as the body.\n",
    "\n",
    "4. **Call the Tool**:\n",
    "   - Use the `send_html_email` function tool.\n",
    "   - Pass the following arguments:\n",
    "       - `subject`: \"Daily News Summary\"\n",
    "       - `html_body`: the HTML you generated\n",
    "       - `recipient`: the email address provided by the user\n",
    "\n",
    "5. **Error Handling**:\n",
    "   - If the tool reports an error, provide a clear message to the user with the reason.\n",
    "   - Confirm successful email sending to the user with the recipient address.\n",
    "\n",
    "6. **Output**:\n",
    "   - Never send raw Markdown; always convert it to HTML before sending.\n",
    "   - Provide a short confirmation message to the user about email delivery status.\n",
    "\"\"\"\n"
   ]
  },
  {
   "cell_type": "code",
   "execution_count": 6,
   "metadata": {},
   "outputs": [],
   "source": [
    "news_markdown = \"\"\"\n",
    "# News Digest\n",
    "\n",
    "## Google & AI Updates\n",
    "\n",
    "### Pixel 10 Series Teasers Highlight AI Features\n",
    "Google has begun teasing new AI-powered features for its upcoming Pixel 10 smartphones, emphasizing advances in telephoto camera capabilities and an improved \"Add Me\" group photo feature—an easy-to-use AI tool first seen with the Pixel 9, which allows the photographer to appear in group photos via image merging.\n",
    "\n",
    "The teaser video also hinted at Google's advancements in AI integration, particularly through its Gemini AI, with more details expected at the Made by Google event on August 20 in New York City. The event will feature notable guests such as Jimmy Fallon, Stephen Curry, and Lando Norris.\n",
    "\n",
    "Rumors suggest the Pixel 10 Pro Fold may include upgrades like Qi2 wireless charging and possibly a dustproof IP68 rating, addressing earlier foldable device limitations.\n",
    "\n",
    "### Pixel 9 Pro Fold Discounts\n",
    "As Google prepares for the Pixel 10 launch, the Pixel 9 Pro Fold is now offered at a significant discount (down 33% to $1,199), presenting a good value despite minor camera limitations compared to its non-foldable counterpart.\n",
    "\n",
    "The Pixel 10 Pro Fold is expected to build on its predecessor's design and potentially resolve durability concerns, making it one to watch in the foldable phone market.\n",
    "\n",
    "## Other Technology & Deal Highlights\n",
    "- **Lenovo Legion Go S**: Now $499.99 (down $300), the Windows handheld gaming device gets an attractive price cut, though performance and Windows integration remain questionable.  \n",
    "- **Sonos One SL Refurbished**: Available for $119 with promo code, this speaker offers strong value for those seeking to expand audio setups without voice assistant features.  \n",
    "- **4K Blu-ray Movie Sale**: Select films available in a “3 for $30” offer through Gruv, appealing to physical media collectors.\n",
    "\n",
    "## Trump & The Economy\n",
    "(No articles provided on Trump or the economy in this news cycle.)\n",
    "\n",
    "*Stay tuned for more updates on Google's AI advancements and future device launches as details emerge from their August 20 event.*\n",
    "\"\"\"\n",
    "\n",
    "recipient_email = \"arnav.thakrar@gmail.com\""
   ]
  },
  {
   "cell_type": "code",
   "execution_count": 10,
   "metadata": {},
   "outputs": [],
   "source": [
    "prompt = f\"\"\"\n",
    "You are receiving a personalized news summary in Markdown format and need to send it as an HTML email.\n",
    "\n",
    "Here is the news summary (Markdown format):\n",
    "{news_markdown}\n",
    "\n",
    "Please send this news summary as an HTML email to the recipient email address below:\n",
    "\n",
    "Recipient Email: {recipient_email}\n",
    "\n",
    "Instructions for yourself:\n",
    "1. Convert the Markdown content above into proper HTML suitable for an email.\n",
    "2. Set the email subject to \"Daily News Summary\".\n",
    "3. Call the `send_html_email` function tool with the following parameters:\n",
    "   - subject: \"Daily News Summary\"\n",
    "   - html_body: the HTML content you generated\n",
    "   - recipient: {recipient_email}\n",
    "4. Report back whether the email was successfully sent or if there was an error.\n",
    "\"\"\"\n"
   ]
  },
  {
   "cell_type": "code",
   "execution_count": 11,
   "metadata": {},
   "outputs": [],
   "source": [
    "email_agent = Agent(\n",
    "    name=\"Email Agent\",\n",
    "    instructions=instructions,\n",
    "    tools=[send_html_email],\n",
    "    model=\"gpt-4.1\",\n",
    ")"
   ]
  },
  {
   "cell_type": "code",
   "execution_count": 14,
   "metadata": {},
   "outputs": [
    {
     "data": {
      "text/markdown": [
       "The Daily News Summary has been successfully sent as an HTML email to arnav.thakrar@gmail.com. If you have any more summaries or need further assistance, feel free to ask!"
      ],
      "text/plain": [
       "<IPython.core.display.Markdown object>"
      ]
     },
     "metadata": {},
     "output_type": "display_data"
    }
   ],
   "source": [
    "with trace(\"News Summary\"):\n",
    "    result = await Runner.run(email_agent, input=prompt)\n",
    "    display(Markdown(result.final_output))"
   ]
  }
 ],
 "metadata": {
  "kernelspec": {
   "display_name": "venv",
   "language": "python",
   "name": "python3"
  },
  "language_info": {
   "codemirror_mode": {
    "name": "ipython",
    "version": 3
   },
   "file_extension": ".py",
   "mimetype": "text/x-python",
   "name": "python",
   "nbconvert_exporter": "python",
   "pygments_lexer": "ipython3",
   "version": "3.12.2"
  }
 },
 "nbformat": 4,
 "nbformat_minor": 2
}
