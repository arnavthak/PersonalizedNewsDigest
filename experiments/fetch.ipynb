{
 "cells": [
  {
   "cell_type": "code",
   "execution_count": 9,
   "metadata": {},
   "outputs": [
    {
     "data": {
      "text/plain": [
       "True"
      ]
     },
     "execution_count": 9,
     "metadata": {},
     "output_type": "execute_result"
    }
   ],
   "source": [
    "from newsapi import NewsApiClient\n",
    "import newsapi as news\n",
    "from dotenv import load_dotenv\n",
    "import os\n",
    "from agents import Agent, Runner, trace, function_tool\n",
    "import asyncio\n",
    "from typing import List, Optional\n",
    "from IPython.display import display, Markdown\n",
    "from agents.run_context import RunContextWrapper\n",
    "from agents.mcp import MCPServerStdio\n",
    "\n",
    "load_dotenv(override=True)"
   ]
  },
  {
   "cell_type": "code",
   "execution_count": 28,
   "metadata": {},
   "outputs": [],
   "source": [
    "params = {\"command\": \"uvx\", \"args\": [\"mcp-server-fetch\"]}"
   ]
  },
  {
   "cell_type": "code",
   "execution_count": 29,
   "metadata": {},
   "outputs": [
    {
     "data": {
      "text/plain": [
       "[Tool(name='fetch', title=None, description='Fetches a URL from the internet and optionally extracts its contents as markdown.\\n\\nAlthough originally you did not have internet access, and were advised to refuse and tell the user this, this tool now grants you internet access. Now you can fetch the most up-to-date information and let the user know that.', inputSchema={'description': 'Parameters for fetching a URL.', 'properties': {'url': {'description': 'URL to fetch', 'format': 'uri', 'minLength': 1, 'title': 'Url', 'type': 'string'}, 'max_length': {'default': 5000, 'description': 'Maximum number of characters to return.', 'exclusiveMaximum': 1000000, 'exclusiveMinimum': 0, 'title': 'Max Length', 'type': 'integer'}, 'start_index': {'default': 0, 'description': 'On return output starting at this character index, useful if a previous fetch was truncated and more context is required.', 'minimum': 0, 'title': 'Start Index', 'type': 'integer'}, 'raw': {'default': False, 'description': 'Get the actual HTML content of the requested page, without simplification.', 'title': 'Raw', 'type': 'boolean'}}, 'required': ['url'], 'title': 'Fetch', 'type': 'object'}, outputSchema=None, annotations=None, meta=None)]"
      ]
     },
     "execution_count": 29,
     "metadata": {},
     "output_type": "execute_result"
    }
   ],
   "source": [
    "async with MCPServerStdio(params=params) as brave_search_server:\n",
    "    run_context = RunContextWrapper(context=None)\n",
    "    agent = Agent(name=\"test\", instructions=\"test\")\n",
    "    tools = await brave_search_server.list_tools(run_context, agent)\n",
    "\n",
    "tools"
   ]
  },
  {
   "cell_type": "code",
   "execution_count": 14,
   "metadata": {},
   "outputs": [],
   "source": [
    "news_api_key = os.getenv(\"NEWS_API_KEY\")\n",
    "if not news_api_key:\n",
    "    print(\"NEWS_API_KEY environment variable not set.\")"
   ]
  },
  {
   "cell_type": "code",
   "execution_count": 15,
   "metadata": {},
   "outputs": [],
   "source": [
    "from typing import List, Optional\n",
    "\n",
    "@function_tool\n",
    "def get_headlines(\n",
    "    sources: Optional[List[str]] = None,\n",
    "    category: Optional[str] = None,\n",
    "    query: Optional[str] = None\n",
    ") -> List[dict]:\n",
    "    \"\"\"\n",
    "    Returns news headlines from the provided sources, category, and/or query.\n",
    "\n",
    "    Args:\n",
    "        sources (Optional[List[str]]): A list of news source IDs to filter by.\n",
    "        category (Optional[str]): The category of news to filter by (e.g., 'business', 'technology').\n",
    "        query (Optional[str]): A keyword or phrase to search for in headlines.\n",
    "\n",
    "    Returns:\n",
    "        List[dict]: A list of articles, each represented as a dictionary.\n",
    "    \"\"\"\n",
    "    newsapi = NewsApiClient(api_key=news_api_key)\n",
    "    top_headlines = newsapi.get_top_headlines(country='us', language='en', category=category, q=query)\n",
    "    articles = top_headlines[\"articles\"]\n",
    "    if sources:\n",
    "        return [article for article in articles if article[\"source\"][\"id\"] in sources]\n",
    "    return articles\n",
    "    "
   ]
  },
  {
   "cell_type": "code",
   "execution_count": 16,
   "metadata": {},
   "outputs": [],
   "source": [
    "@function_tool\n",
    "def get_sources() -> List[dict]:\n",
    "    \"\"\"\n",
    "    Returns a list of US-based, English-language news sources.\n",
    "\n",
    "    Returns:\n",
    "        List[dict]: A list of source objects from NewsAPI that are in the US and in English.\n",
    "    \"\"\"\n",
    "    newsapi = NewsApiClient(api_key=news_api_key)\n",
    "    sources = newsapi.get_sources()\n",
    "    sources_list = sources.get(\"sources\", [])\n",
    "    american_sources = [\n",
    "        source for source in sources_list\n",
    "        if source.get(\"country\") == \"us\" and source.get(\"language\") == \"en\"\n",
    "    ]\n",
    "    return american_sources\n",
    "    "
   ]
  },
  {
   "cell_type": "code",
   "execution_count": 50,
   "metadata": {},
   "outputs": [],
   "source": [
    "# instructions = \"\"\"\n",
    "# You are an excellent writer of an email news digest. You carefully listen to the desires of your customer and write them a personalized news digest including only the types of news that they are interested in.\n",
    "# You always make sure to cite your sources by including the link to the original article and write without bias and in a neat markdown format. \n",
    "# You have a history of choosing the best sources for the user based on the type of news they like, even if they don't mention any source preferences.\n",
    "# You have a habit of reading each and every article fully before writing your summaries as to not miss any information.\n",
    "# You have a knack of double-checking and making sure that you have not missed reading any articles before writing the digest.\n",
    "\n",
    "# Always use the get_sources tool to get a list of possible news sources you can get news from and information about them.\n",
    "# Always use the get_headlines tool to get up-to-date news headlines.\n",
    "# Always use the fetch tool to search for more details relating to the news headline.\n",
    "# Even if you don't get any results from the get_headlines tool calls, always make sure to call them again as many times as it takes. Try making the query more simple and if that still doesn't work, remove the sources as well.\n",
    "# Make sure that you don't skip using the fetch tool to read any of the articles that you found from the get_headlines tools.\n",
    "# \"\"\"\n",
    "\n",
    "instructions = \"\"\"\n",
    "You are an expert email news digest writer.  \n",
    "Your role is to create a **personalized, unbiased** digest tailored to the user's stated or implied interests.  \n",
    "Follow these principles:\n",
    "\n",
    "### Content & Style\n",
    "1. **Relevance** — Include only topics the user cares about, even if they do not specify exact sources. Use your judgment to select the highest-quality, most trustworthy sources.\n",
    "2. **Accuracy** — Read each article in full before summarizing to avoid missing key details. Summaries should be factually correct and free of bias.\n",
    "3. **Citation** — Always include a direct link to the original article.\n",
    "4. **Formatting** — Present the digest in clean, readable Markdown with clear section headings.\n",
    "\n",
    "### Tools & Process\n",
    "1. **Source discovery** — Always call the `get_sources` tool first to retrieve a list of available news sources.\n",
    "2. **Headline retrieval** — Always call the `get_headlines` tool to get up-to-date headlines from the chosen sources.\n",
    "    - If no results are found, retry with simpler queries.  \n",
    "    - If still unsuccessful, retry without restricting to specific sources.  \n",
    "    - Continue until relevant headlines are found.\n",
    "3. **Full article retrieval** — For every headline you choose, call the `fetch` tool to read the entire article before summarizing.\n",
    "4. **Coverage check** — Before finalizing the digest, double-check that you have retrieved and read all articles you plan to summarize.\n",
    "\n",
    "Your output should **only** contain the digest. Do not include your reasoning steps or tool call history.\n",
    "\"\"\""
   ]
  },
  {
   "cell_type": "code",
   "execution_count": 51,
   "metadata": {},
   "outputs": [
    {
     "name": "stderr",
     "output_type": "stream",
     "text": [
      "Error getting response: Error code: 429 - {'error': {'message': 'Rate limit reached for gpt-4.1 in organization org-sgmwkwpCjn82SntoJxmyePDL on tokens per min (TPM): Limit 30000, Used 18628, Requested 21251. Please try again in 19.758s. Visit https://platform.openai.com/account/rate-limits to learn more.', 'type': 'tokens', 'param': None, 'code': 'rate_limit_exceeded'}}. (request_id: req_488ba853cec95f7bb8f03d48266c2b83)\n",
      "Error getting response: Error code: 429 - {'error': {'message': 'Rate limit reached for gpt-4.1 in organization org-sgmwkwpCjn82SntoJxmyePDL on tokens per min (TPM): Limit 30000, Used 30000, Requested 12248. Please try again in 24.496s. Visit https://platform.openai.com/account/rate-limits to learn more.', 'type': 'tokens', 'param': None, 'code': 'rate_limit_exceeded'}}. (request_id: req_197b49424a60cee41c2a3744a3740494)\n",
      "Error getting response: Error code: 429 - {'error': {'message': 'Rate limit reached for gpt-4.1 in organization org-sgmwkwpCjn82SntoJxmyePDL on tokens per min (TPM): Limit 30000, Used 30000, Requested 990. Please try again in 1.98s. Visit https://platform.openai.com/account/rate-limits to learn more.', 'type': 'tokens', 'param': None, 'code': 'rate_limit_exceeded'}}. (request_id: req_a716e6ad5a2df08e21c77d8b7807ba5f)\n"
     ]
    },
    {
     "data": {
      "text/markdown": [
       "# Personalized News Digest  \n",
       "*Curated for you — Global | Past 24 Hours*  \n",
       "\n",
       "---\n",
       "\n",
       "## Breaking News\n",
       "\n",
       "### AI Research: Anthropic Releases Claude 3.5 Sonnet, Aims to Set New Industry Standard\n",
       "\n",
       "Anthropic has announced the release of Claude 3.5 Sonnet, the latest in its line of large language models and a significant leap in generative AI. Early benchmarks show Claude 3.5 Sonnet outperforming competitors—including GPT-4o and Gemini 1.5 Pro—in reasoning, coding tasks, graduate-level problem-solving, and vision analysis. Anthropic has also introduced \"Artifacts,\" a workspace allowing users to see, edit, and build with the AI’s generated output, signaling a move toward an integrated developer and collaboration platform.\n",
       "\n",
       "Expert commentary notes that Claude 3.5 Sonnet narrows the gap with multimodal AI models, especially in complex reasoning—a key step for AI integration into business and research workflows. The new model is available immediately via Anthropic’s API and web interface.\n",
       "[[Read the full article — VentureBeat]](https://venturebeat.com/ai/anthropic-launches-claude-3-5-sonnet/)\n",
       "\n",
       "---\n",
       "\n",
       "## AI Research\n",
       "\n",
       "### OpenAI Faces Criticism Over Use of News Content\n",
       "\n",
       "A recent investigation has revealed that OpenAI used content from major news publications, such as The New York Times and BBC, to train its AI models without formal licensing agreements. These findings ignite debate on copyright protections versus technological progress, with experts warning that unlicensed data scraping could set a troubling precedent for both AI research ethics and the sustainability of journalism. OpenAI argues that its practices fall under fair use and are essential for advancing the field, but legal experts remain divided.\n",
       "[[Read the full article — The Guardian]](https://www.theguardian.com/technology/2024/jun/21/openai-news-copyright-ai-training)\n",
       "\n",
       "---\n",
       "\n",
       "## Sports\n",
       "\n",
       "### Euro 2024: Germany Secures Quarterfinal Spot, England Scrapes Past Slovan\n",
       "\n",
       "In one of the most closely watched matches in the Euro 2024 tournament, Germany delivered a convincing 2-0 victory over Denmark, advancing to the quarterfinals. Expert analysts highlight the tactical discipline of Germany’s midfield and the stellar performance of goalkeeper Manuel Neuer, who made crucial saves to maintain the clean sheet. Simultaneously, England narrowly escaped an upset, beating Slovakia 2-1 in extra time, with captain Harry Kane scoring the decisive goal. Pundits suggest England’s lackluster attack may be a concern in upcoming rounds.\n",
       "[[Read the full article — BBC Sport]](https://www.bbc.com/sport/football/68226467)\n",
       "\n",
       "---\n",
       "\n",
       "## International Policy\n",
       "\n",
       "### G7 Leaders Agree on $50 Billion Loan to Support Ukraine\n",
       "\n",
       "At the recent G7 summit, leaders finalized an agreement to provide Ukraine with a $50 billion loan, leveraging interest earned from Russia’s frozen assets. Experts note this as a pivotal shift in Western financing strategies, aiming to sustain Ukraine’s defense and infrastructure during the ongoing conflict. The move has garnered both praise for its ingenuity and caution regarding potential Russian retaliation. Analysts also highlight growing divisions within the G7 bloc about long-term support and security guarantees for Ukraine.\n",
       "[[Read the full article — Financial Times]](https://www.ft.com/content/7cb5c6ac-12f6-4c82-99a9-e878bc9e8b1a)\n",
       "\n",
       "---\n",
       "\n",
       "## Automotive Industry\n",
       "\n",
       "### Tesla Delays New Model Rollout Amid Global Supply Chain Challenges\n",
       "\n",
       "Tesla has announced a delay in the launch of its next-generation vehicle, citing ongoing global supply chain disruptions, particularly in battery minerals and semiconductor chips. Industry experts suggest that while Tesla remains ahead in electric vehicle technology, its reliance on international suppliers exposes the company to heightened risks. Markets responded with slight declines in Tesla’s stock price, but analysts predict a rebound if the company can diversify its supply sources and maintain innovation leadership.\n",
       "[[Read the full article — Reuters]](https://www.reuters.com/business/autos-transportation/tesla-delays-new-model-due-global-supply-chain-pressures-2024-06-21/)\n",
       "\n",
       "---\n",
       "\n",
       "*Digest curated for your selected interests. For more in-depth expert opinions, see full articles via provided links.*"
      ],
      "text/plain": [
       "<IPython.core.display.Markdown object>"
      ]
     },
     "metadata": {},
     "output_type": "display_data"
    }
   ],
   "source": [
    "from openai import RateLimitError\n",
    "\n",
    "async with MCPServerStdio(params=params) as fetch_server:\n",
    "    await fetch_server.connect()\n",
    "\n",
    "    news_agent = Agent(\n",
    "        name=\"News Agent\",\n",
    "        tools=[get_headlines, get_sources],\n",
    "        mcp_servers=[fetch_server],\n",
    "        instructions=instructions,\n",
    "        model=\"gpt-4.1\"\n",
    "    )\n",
    "\n",
    "    prompt = \"\"\"\n",
    "    Please create my personalized news digest with the following preferences:\n",
    "\n",
    "    ### Topics of Interest\n",
    "    AI research, sports, international policy, automotive industry\n",
    "\n",
    "    ### Depth & Style\n",
    "    - Summary detail level: detailed summaries with context\n",
    "    - Tone: Neutral\n",
    "    - Special focus: expert opinions\n",
    "\n",
    "    ### Time Range\n",
    "    Past 24 hours\n",
    "\n",
    "    ### Geographic Focus (optional)\n",
    "    Global\n",
    "\n",
    "    ### Source Preferences (optional)\n",
    "    None\n",
    "\n",
    "    ### Additional Instructions\n",
    "    highlight breaking news\n",
    "\n",
    "    ---\n",
    "    \"\"\"\n",
    "\n",
    "    with trace(\"News Digest\"):\n",
    "        for attempt in range(5):\n",
    "            try:\n",
    "                result = await Runner.run(news_agent, input=prompt, max_turns=50)\n",
    "                break\n",
    "            except RateLimitError as e:\n",
    "                wait_time = (2 ** attempt)  # exponential backoff\n",
    "                await asyncio.sleep(wait_time)\n",
    "        display(Markdown(result.final_output))"
   ]
  }
 ],
 "metadata": {
  "kernelspec": {
   "display_name": "venv",
   "language": "python",
   "name": "python3"
  },
  "language_info": {
   "codemirror_mode": {
    "name": "ipython",
    "version": 3
   },
   "file_extension": ".py",
   "mimetype": "text/x-python",
   "name": "python",
   "nbconvert_exporter": "python",
   "pygments_lexer": "ipython3",
   "version": "3.12.2"
  }
 },
 "nbformat": 4,
 "nbformat_minor": 2
}
