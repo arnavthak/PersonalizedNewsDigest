{
 "cells": [
  {
   "cell_type": "code",
   "execution_count": 1,
   "metadata": {},
   "outputs": [
    {
     "data": {
      "text/plain": [
       "True"
      ]
     },
     "execution_count": 1,
     "metadata": {},
     "output_type": "execute_result"
    }
   ],
   "source": [
    "from dotenv import load_dotenv\n",
    "import os\n",
    "from agents import Agent, Runner, trace, function_tool\n",
    "import asyncio\n",
    "from typing import List, Optional\n",
    "from IPython.display import display, Markdown\n",
    "from agents.run_context import RunContextWrapper\n",
    "from agents.mcp import MCPServerStdio\n",
    "import chromadb\n",
    "from chromadb.utils import embedding_functions\n",
    "from typing import List, Dict\n",
    "\n",
    "load_dotenv(override=True)"
   ]
  },
  {
   "cell_type": "code",
   "execution_count": 2,
   "metadata": {},
   "outputs": [],
   "source": [
    "def process_chroma_query_result(chroma_result: dict) -> List[Dict[str, str]]:\n",
    "    \"\"\"\n",
    "    Transforms the output of a ChromaDB collection.query() call into a\n",
    "    list of dictionaries, with each dictionary containing 'id' and 'text'.\n",
    "\n",
    "    Args:\n",
    "        chroma_result (dict): The dictionary returned by the collection.query() call.\n",
    "                              Expected to have 'ids' and 'documents' keys, each\n",
    "                              containing a nested list.\n",
    "\n",
    "    Returns:\n",
    "        list[dict]: A list of dictionaries, where each dictionary has\n",
    "                    the keys 'id' and 'text'.\n",
    "    \"\"\"\n",
    "    processed_list = []\n",
    "    ids = chroma_result.get('ids', [[]])[0]\n",
    "    documents = chroma_result.get('documents', [[]])[0]\n",
    "\n",
    "    if len(ids) != len(documents):\n",
    "        print(\"Warning: Mismatch between number of IDs and documents. Check the query result.\")\n",
    "        return []\n",
    "\n",
    "    for unique_id, text in zip(ids, documents):\n",
    "        processed_list.append({\"url\": unique_id, \"text\": text})\n",
    "\n",
    "    return processed_list"
   ]
  },
  {
   "cell_type": "code",
   "execution_count": 3,
   "metadata": {},
   "outputs": [],
   "source": [
    "@function_tool\n",
    "def get_headlines(query: str) -> List[Dict[str, str]]:\n",
    "    \"\"\"\n",
    "    Retrieve the top 5 most relevant headlines from the Chroma database\n",
    "    based on a semantic search using the provided query string.\n",
    "\n",
    "    Args:\n",
    "        query (str): The natural language query to search against stored headlines.\n",
    "\n",
    "    Returns:\n",
    "        List[Dict[str, str]]: A list of the top 5 matching headlines, where each\n",
    "                              headline is represented as {'id': str, 'text': str}.\n",
    "    \"\"\"\n",
    "\n",
    "    # Initialize embedding function\n",
    "    ef = embedding_functions.OpenAIEmbeddingFunction(\n",
    "        api_key=os.getenv(\"OPENAI_API_KEY\"),\n",
    "        model_name=\"text-embedding-3-large\"\n",
    "    )\n",
    "\n",
    "    # Connect to Chroma persistent client\n",
    "    chroma_client = chromadb.PersistentClient()\n",
    "\n",
    "    # Load the headlines collection with embeddings\n",
    "    headlines = chroma_client.get_collection(\n",
    "        name=\"headlines\",\n",
    "        embedding_function=ef\n",
    "    )\n",
    "\n",
    "    # Query the collection\n",
    "    results = headlines.query(\n",
    "        query_texts=[query],\n",
    "        n_results=5\n",
    "    )\n",
    "\n",
    "    # Process results into clean structured list\n",
    "    return process_chroma_query_result(results)"
   ]
  },
  {
   "cell_type": "code",
   "execution_count": 4,
   "metadata": {},
   "outputs": [],
   "source": [
    "instructions = \"\"\"\n",
    "You are a News Retrieval Agent designed to use Retrieval-Augmented Generation (RAG) to provide users with relevant news headlines based on their expressed preferences.\n",
    "\n",
    "Your Responsibilities:\n",
    "1. Understand the User's Preferences:\n",
    "   - The user will describe the kinds of news they are interested in.\n",
    "   - Extract key topics, categories, or entities from the user's request.\n",
    "\n",
    "2. Formulate Queries for Retrieval:\n",
    "   - For each distinct topic or entity, generate one or more concise natural-language queries that best represent the user's interest.\n",
    "   - Example: If the user says \"I want to hear about Google and artificial intelligence,\" generate queries like \"Google AI\", \"Google artificial intelligence\", \"AI research at Google\".\n",
    "\n",
    "3. Call the Retrieval Tool:\n",
    "   - Use the function tool get_headlines(query: str) to retrieve candidate news articles.\n",
    "   - Always request multiple queries if the user has multiple interests.\n",
    "   - Expect up to 5 headlines per query, structured as {\"id\": str, \"text\": str}.\n",
    "\n",
    "4. Filter and Rerank Results:\n",
    "   - Carefully judge each headline's relevance only in the context of the user's stated interests.\n",
    "   - Discard irrelevant or weakly related headlines.\n",
    "   - Optionally rerank or cluster results if several headlines overlap.\n",
    "\n",
    "5. Produce the Final Output:\n",
    "   - Return only the filtered set of headlines that are highly relevant to the user's query.\n",
    "   - Each headline should be listed clearly (e.g., as a bullet point).\n",
    "   - Do not fabricate headlines — only return those retrieved from the tool.\n",
    "   - If no relevant results are found, state that clearly.\n",
    "\n",
    "Constraints:\n",
    "- Always rely on get_headlines for retrieval. Do not generate news directly.\n",
    "- Filter rigorously to avoid irrelevant content.\n",
    "- Prioritize accuracy and user alignment over quantity of headlines.\n",
    "\n",
    "Example:\n",
    "User Prompt: \"I'd like to hear about space exploration and Elon Musk.\"\n",
    "\n",
    "Agent Steps:\n",
    "- Extract interests: \"space exploration\", \"Elon Musk\".\n",
    "- Generate queries: \"space exploration\", \"NASA space missions\", \"Elon Musk news\", \"SpaceX updates\".\n",
    "- Call get_headlines with each query.\n",
    "- Retrieve results and filter out irrelevant items.\n",
    "\n",
    "Final Output:\n",
    "- NASA Announces New Timeline for Artemis Moon Mission\n",
    "- SpaceX Successfully Launches Starship Prototype\n",
    "- Elon Musk Teases Mars Colonization Plans\n",
    "\"\"\""
   ]
  },
  {
   "cell_type": "code",
   "execution_count": 5,
   "metadata": {},
   "outputs": [],
   "source": [
    "from pydantic import BaseModel, Field\n",
    "\n",
    "class Headline(BaseModel):\n",
    "    \"\"\"\n",
    "    A single unique news headline.\n",
    "    Each headline must be distinct across all categories.\n",
    "    Do not repeat the same article URL or text in multiple places.\n",
    "    \"\"\"\n",
    "    url: str = Field(\n",
    "        description=\"The source URL of the news article. Must be unique across all headlines.\"\n",
    "    )\n",
    "    text: str = Field(\n",
    "        description=\"The headline text of the news article. Must be unique across all headlines.\"\n",
    "    )\n",
    "\n",
    "\n",
    "class HeadlinesCategory(BaseModel):\n",
    "    \"\"\"\n",
    "    A group of headlines that belong to a single topical category.\n",
    "    Categories are only created when the user clearly expresses two or more distinct interests.\n",
    "    Closely related interests (e.g., 'AI' and 'LLMs') should be merged into one category.\n",
    "    Different interests (e.g., 'AI' vs. 'Trump tariffs') should be separated into different categories.\n",
    "    \"\"\"\n",
    "    category: str = Field(\n",
    "        description=\"The name of the category representing one distinct area of user interest.\"\n",
    "    )\n",
    "    headlines: List[Headline] = Field(\n",
    "        description=\"A list of unique headlines relevant to this category. No duplicates within this list or across categories.\"\n",
    "    )\n",
    "\n",
    "\n",
    "class HeadlinesOutput(BaseModel):\n",
    "    \"\"\"\n",
    "    The final structured output of relevant news headlines grouped by category.\n",
    "    \n",
    "    Rules:\n",
    "    - Each headline must be unique across all categories (no duplicate URLs or texts).\n",
    "    - Categories should only be created if the user has specified two or more distinct interests.\n",
    "      - Merge closely related interests into one category.\n",
    "      - Separate unrelated interests into different categories.\n",
    "    - If the user has only one interest, return a single category with all unique headlines.\n",
    "    \"\"\"\n",
    "    headlines: List[HeadlinesCategory] = Field(\n",
    "        description=\"A list of categories containing unique, relevant news headlines. No duplicates across categories.\"\n",
    "    )\n"
   ]
  },
  {
   "cell_type": "code",
   "execution_count": 6,
   "metadata": {},
   "outputs": [],
   "source": [
    "rag_agent = Agent(\n",
    "    name=\"RAG Agent\",\n",
    "    tools=[get_headlines],\n",
    "    instructions=instructions,\n",
    "    model=\"gpt-4.1\",\n",
    "    output_type=HeadlinesOutput\n",
    ")"
   ]
  },
  {
   "cell_type": "code",
   "execution_count": 7,
   "metadata": {},
   "outputs": [],
   "source": [
    "prompt = \"Show me news on AI and on what Google is up to. Also include any news about Trump and the economy.\""
   ]
  },
  {
   "cell_type": "code",
   "execution_count": 10,
   "metadata": {},
   "outputs": [
    {
     "name": "stdout",
     "output_type": "stream",
     "text": [
      "1. Google's Gemini gets teased in latest Pixel 10 photography clip - Android CentralThe company's AI is all over its devices, and it's on the way to make capturing memories even easier.: https://www.androidcentral.com/phones/google-pixel/google-pixel-10-series-teaser-gemini-photography-features\n",
      "1. The Pixel 9 Pro Fold is $600 off ahead of the new model’s debut - The VergeOther deals include a $300 discount on Lenovo’s flawed yet capable Legion Go S, three for $30 4K Blu-rays, and more.: https://www.theverge.com/tech/760131/google-pixel-9-pro-fold-lenovo-legion-go-s-deal-sale\n",
      "1. \"Utterly unqualified\": Trump BLS pick gets panned by conservative economists - AxiosConservative economists cited examples of Trump's BLS pick appearing to misunderstand data he would be responsible for.: https://www.axios.com/2025/08/12/trump-bls-ej-antoni-economists\n",
      "2. Switzerland warns its companies that no, they can't dodge Trump's tariffs by routing goods through the tiny neighboring country of Liechtenstein - FortuneThe two neighbors have had a century-long treaty allowing Liechtenstein to share Switzerland’s economic area and engage in free trade.: https://fortune.com/2025/08/13/switzerland-businesses-rerouting-goods-liechtenstein-dodge-tariff/\n"
     ]
    }
   ],
   "source": [
    "with trace(\"News Semantic Search\"):\n",
    "    result = await Runner.run(rag_agent, input=prompt, max_turns=20)\n",
    "    structured = result.final_output\n",
    "    for category in structured.headlines:\n",
    "        i = 1\n",
    "        for headline in category.headlines:\n",
    "            print(f\"{i}. {headline.text.replace(\"\\n\", \"\")}: {headline.url}\")\n",
    "            i += 1"
   ]
  }
 ],
 "metadata": {
  "kernelspec": {
   "display_name": "venv",
   "language": "python",
   "name": "python3"
  },
  "language_info": {
   "codemirror_mode": {
    "name": "ipython",
    "version": 3
   },
   "file_extension": ".py",
   "mimetype": "text/x-python",
   "name": "python",
   "nbconvert_exporter": "python",
   "pygments_lexer": "ipython3",
   "version": "3.12.2"
  }
 },
 "nbformat": 4,
 "nbformat_minor": 2
}
